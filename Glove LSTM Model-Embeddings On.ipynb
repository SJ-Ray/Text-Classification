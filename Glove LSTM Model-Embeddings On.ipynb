{
 "cells": [
  {
   "cell_type": "code",
   "execution_count": 1,
   "id": "7611a06d",
   "metadata": {
    "ExecuteTime": {
     "end_time": "2022-01-07T14:20:50.092394Z",
     "start_time": "2022-01-07T14:20:46.360816Z"
    }
   },
   "outputs": [],
   "source": [
    "import numpy as np\n",
    "import pandas as pd\n",
    "import os\n",
    "import re\n",
    "import matplotlib.pyplot as plt\n",
    "from sklearn.preprocessing import LabelEncoder\n",
    "\n",
    "from nltk.corpus import stopwords\n",
    "from tensorflow.keras.preprocessing.text import Tokenizer\n",
    "from keras.preprocessing.sequence import pad_sequences\n",
    "from tensorflow.keras.models import Sequential\n",
    "from tensorflow.keras.layers import Dense,LSTM,Embedding,Dropout,GlobalMaxPooling1D\n",
    "from tensorflow.keras.callbacks import EarlyStopping,ModelCheckpoint\n",
    "from tensorflow.keras.utils import to_categorical\n",
    "from tensorflow.keras.models import load_model\n",
    "\n",
    "from sklearn.model_selection import train_test_split\n",
    "from sklearn.metrics import accuracy_score,classification_report,confusion_matrix\n",
    "\n",
    "import pickle"
   ]
  },
  {
   "cell_type": "markdown",
   "id": "63a373c0",
   "metadata": {},
   "source": [
    "# Data Extraction"
   ]
  },
  {
   "cell_type": "code",
   "execution_count": 2,
   "id": "12dbe371",
   "metadata": {
    "ExecuteTime": {
     "end_time": "2022-01-07T14:20:50.220330Z",
     "start_time": "2022-01-07T14:20:50.095336Z"
    }
   },
   "outputs": [
    {
     "name": "stdout",
     "output_type": "stream",
     "text": [
      "(5908, 2)\n",
      "\n",
      "Problem with a purchase shown on your statement    1993\n",
      "Incorrect information on your report               1191\n",
      "Managing an account                                 935\n",
      "Fees or interest                                    904\n",
      "Other features, terms, or problems                  885\n",
      "Name: Issue, dtype: int64\n"
     ]
    },
    {
     "data": {
      "text/html": [
       "<div>\n",
       "<style scoped>\n",
       "    .dataframe tbody tr th:only-of-type {\n",
       "        vertical-align: middle;\n",
       "    }\n",
       "\n",
       "    .dataframe tbody tr th {\n",
       "        vertical-align: top;\n",
       "    }\n",
       "\n",
       "    .dataframe thead th {\n",
       "        text-align: right;\n",
       "    }\n",
       "</style>\n",
       "<table border=\"1\" class=\"dataframe\">\n",
       "  <thead>\n",
       "    <tr style=\"text-align: right;\">\n",
       "      <th></th>\n",
       "      <th>Consumer complaint narrative</th>\n",
       "      <th>Issue</th>\n",
       "    </tr>\n",
       "  </thead>\n",
       "  <tbody>\n",
       "    <tr>\n",
       "      <th>57519</th>\n",
       "      <td>The Citibank Credit Card company is a ridiculo...</td>\n",
       "      <td>Problem with a purchase shown on your statement</td>\n",
       "    </tr>\n",
       "    <tr>\n",
       "      <th>2790</th>\n",
       "      <td>Hi I went to a local bar on the evening of XX/...</td>\n",
       "      <td>Problem with a purchase shown on your statement</td>\n",
       "    </tr>\n",
       "    <tr>\n",
       "      <th>54277</th>\n",
       "      <td>I transferred XXXX ThankYou Points ( Citibank ...</td>\n",
       "      <td>Other features, terms, or problems</td>\n",
       "    </tr>\n",
       "    <tr>\n",
       "      <th>587</th>\n",
       "      <td>I was in XXXX XXXX and used my CITIBANK credit...</td>\n",
       "      <td>Problem with a purchase shown on your statement</td>\n",
       "    </tr>\n",
       "    <tr>\n",
       "      <th>12420</th>\n",
       "      <td>I clicked a promotion on citibank 's website t...</td>\n",
       "      <td>Managing an account</td>\n",
       "    </tr>\n",
       "  </tbody>\n",
       "</table>\n",
       "</div>"
      ],
      "text/plain": [
       "                            Consumer complaint narrative  \\\n",
       "57519  The Citibank Credit Card company is a ridiculo...   \n",
       "2790   Hi I went to a local bar on the evening of XX/...   \n",
       "54277  I transferred XXXX ThankYou Points ( Citibank ...   \n",
       "587    I was in XXXX XXXX and used my CITIBANK credit...   \n",
       "12420  I clicked a promotion on citibank 's website t...   \n",
       "\n",
       "                                                 Issue  \n",
       "57519  Problem with a purchase shown on your statement  \n",
       "2790   Problem with a purchase shown on your statement  \n",
       "54277               Other features, terms, or problems  \n",
       "587    Problem with a purchase shown on your statement  \n",
       "12420                              Managing an account  "
      ]
     },
     "execution_count": 2,
     "metadata": {},
     "output_type": "execute_result"
    }
   ],
   "source": [
    "train_data = pd.read_csv('train_dataset_multiclass.csv',index_col=0)\n",
    "print(train_data.shape,end=\"\\n\\n\")\n",
    "print(train_data['Issue'].value_counts())\n",
    "train_data.head()"
   ]
  },
  {
   "cell_type": "code",
   "execution_count": 3,
   "id": "998d8c2c",
   "metadata": {
    "ExecuteTime": {
     "end_time": "2022-01-07T14:20:50.284332Z",
     "start_time": "2022-01-07T14:20:50.221332Z"
    }
   },
   "outputs": [
    {
     "name": "stdout",
     "output_type": "stream",
     "text": [
      "(2532, 2)\n",
      "\n",
      "Problem with a purchase shown on your statement    854\n",
      "Incorrect information on your report               510\n",
      "Managing an account                                401\n",
      "Fees or interest                                   388\n",
      "Other features, terms, or problems                 379\n",
      "Name: Issue, dtype: int64\n"
     ]
    },
    {
     "data": {
      "text/html": [
       "<div>\n",
       "<style scoped>\n",
       "    .dataframe tbody tr th:only-of-type {\n",
       "        vertical-align: middle;\n",
       "    }\n",
       "\n",
       "    .dataframe tbody tr th {\n",
       "        vertical-align: top;\n",
       "    }\n",
       "\n",
       "    .dataframe thead th {\n",
       "        text-align: right;\n",
       "    }\n",
       "</style>\n",
       "<table border=\"1\" class=\"dataframe\">\n",
       "  <thead>\n",
       "    <tr style=\"text-align: right;\">\n",
       "      <th></th>\n",
       "      <th>Consumer complaint narrative</th>\n",
       "      <th>Issue</th>\n",
       "    </tr>\n",
       "  </thead>\n",
       "  <tbody>\n",
       "    <tr>\n",
       "      <th>17357</th>\n",
       "      <td>Back in 2015, we noticed a charge on our Macy ...</td>\n",
       "      <td>Fees or interest</td>\n",
       "    </tr>\n",
       "    <tr>\n",
       "      <th>6524</th>\n",
       "      <td>- On XX/XX/XXXX, I purchased 1 ticket XXXX {$3...</td>\n",
       "      <td>Problem with a purchase shown on your statement</td>\n",
       "    </tr>\n",
       "    <tr>\n",
       "      <th>23689</th>\n",
       "      <td>I hope all is well ... \\nThe reason why Im wri...</td>\n",
       "      <td>Fees or interest</td>\n",
       "    </tr>\n",
       "    <tr>\n",
       "      <th>6960</th>\n",
       "      <td>Citibank had requested some XXXX documents ear...</td>\n",
       "      <td>Managing an account</td>\n",
       "    </tr>\n",
       "    <tr>\n",
       "      <th>7204</th>\n",
       "      <td>On XX/XX/2021 I authorized a payment of amount...</td>\n",
       "      <td>Managing an account</td>\n",
       "    </tr>\n",
       "  </tbody>\n",
       "</table>\n",
       "</div>"
      ],
      "text/plain": [
       "                            Consumer complaint narrative  \\\n",
       "17357  Back in 2015, we noticed a charge on our Macy ...   \n",
       "6524   - On XX/XX/XXXX, I purchased 1 ticket XXXX {$3...   \n",
       "23689  I hope all is well ... \\nThe reason why Im wri...   \n",
       "6960   Citibank had requested some XXXX documents ear...   \n",
       "7204   On XX/XX/2021 I authorized a payment of amount...   \n",
       "\n",
       "                                                 Issue  \n",
       "17357                                 Fees or interest  \n",
       "6524   Problem with a purchase shown on your statement  \n",
       "23689                                 Fees or interest  \n",
       "6960                               Managing an account  \n",
       "7204                               Managing an account  "
      ]
     },
     "execution_count": 3,
     "metadata": {},
     "output_type": "execute_result"
    }
   ],
   "source": [
    "test_data = pd.read_csv('test_dataset_multiclass.csv',index_col=0)\n",
    "print(test_data.shape,end=\"\\n\\n\")\n",
    "print(test_data['Issue'].value_counts())\n",
    "test_data.head()"
   ]
  },
  {
   "cell_type": "markdown",
   "id": "89dc2be5",
   "metadata": {},
   "source": [
    "# Data Preprocessing"
   ]
  },
  {
   "cell_type": "code",
   "execution_count": 4,
   "id": "18193b76",
   "metadata": {
    "ExecuteTime": {
     "end_time": "2022-01-07T14:20:50.299792Z",
     "start_time": "2022-01-07T14:20:50.286332Z"
    }
   },
   "outputs": [],
   "source": [
    "REPLACE_BY_SPACE_RE = re.compile('[/(){}\\[\\]\\|@,;]')\n",
    "TO_REMOVE_SYMBOLS_RE = re.compile('[^0-9a-z #+_]')\n",
    "NEXTLINE_REPLACE = re.compile('\\n')\n",
    "STOPWORDS = set(stopwords.words('english'))\n",
    "\n",
    "def clean_text(text):\n",
    "    text = text.lower()\n",
    "    text = NEXTLINE_REPLACE.sub(' ',text)\n",
    "    text = REPLACE_BY_SPACE_RE.sub(' ', text) \n",
    "    text = TO_REMOVE_SYMBOLS_RE.sub('', text)  \n",
    "    text = text.replace('x', '')\n",
    "    \n",
    "    text = ' '.join(word for word in text.split() if word not in STOPWORDS)\n",
    "    \n",
    "    return text"
   ]
  },
  {
   "cell_type": "code",
   "execution_count": 5,
   "id": "e100998a",
   "metadata": {
    "ExecuteTime": {
     "end_time": "2022-01-07T14:20:50.873677Z",
     "start_time": "2022-01-07T14:20:50.301330Z"
    }
   },
   "outputs": [],
   "source": [
    "train_data['Cleaned_Reviews'] = train_data['Consumer complaint narrative'].apply(clean_text)\n",
    "test_data['Cleaned_Reviews']  = test_data['Consumer complaint narrative'].apply(clean_text)"
   ]
  },
  {
   "cell_type": "code",
   "execution_count": 6,
   "id": "568d46f7",
   "metadata": {
    "ExecuteTime": {
     "end_time": "2022-01-07T14:20:50.889375Z",
     "start_time": "2022-01-07T14:20:50.875331Z"
    }
   },
   "outputs": [
    {
     "data": {
      "text/html": [
       "<div>\n",
       "<style scoped>\n",
       "    .dataframe tbody tr th:only-of-type {\n",
       "        vertical-align: middle;\n",
       "    }\n",
       "\n",
       "    .dataframe tbody tr th {\n",
       "        vertical-align: top;\n",
       "    }\n",
       "\n",
       "    .dataframe thead th {\n",
       "        text-align: right;\n",
       "    }\n",
       "</style>\n",
       "<table border=\"1\" class=\"dataframe\">\n",
       "  <thead>\n",
       "    <tr style=\"text-align: right;\">\n",
       "      <th></th>\n",
       "      <th>Consumer complaint narrative</th>\n",
       "      <th>Issue</th>\n",
       "      <th>Cleaned_Reviews</th>\n",
       "    </tr>\n",
       "  </thead>\n",
       "  <tbody>\n",
       "    <tr>\n",
       "      <th>57519</th>\n",
       "      <td>The Citibank Credit Card company is a ridiculo...</td>\n",
       "      <td>Problem with a purchase shown on your statement</td>\n",
       "      <td>citibank credit card company ridiculous rude c...</td>\n",
       "    </tr>\n",
       "    <tr>\n",
       "      <th>2790</th>\n",
       "      <td>Hi I went to a local bar on the evening of XX/...</td>\n",
       "      <td>Problem with a purchase shown on your statement</td>\n",
       "      <td>hi went local bar evening made two separate tr...</td>\n",
       "    </tr>\n",
       "    <tr>\n",
       "      <th>54277</th>\n",
       "      <td>I transferred XXXX ThankYou Points ( Citibank ...</td>\n",
       "      <td>Other features, terms, or problems</td>\n",
       "      <td>transferred thankyou points citibank book awar...</td>\n",
       "    </tr>\n",
       "    <tr>\n",
       "      <th>587</th>\n",
       "      <td>I was in XXXX XXXX and used my CITIBANK credit...</td>\n",
       "      <td>Problem with a purchase shown on your statement</td>\n",
       "      <td>used citibank credit card used clothing store ...</td>\n",
       "    </tr>\n",
       "    <tr>\n",
       "      <th>12420</th>\n",
       "      <td>I clicked a promotion on citibank 's website t...</td>\n",
       "      <td>Managing an account</td>\n",
       "      <td>clicked promotion citibank website stated put ...</td>\n",
       "    </tr>\n",
       "  </tbody>\n",
       "</table>\n",
       "</div>"
      ],
      "text/plain": [
       "                            Consumer complaint narrative  \\\n",
       "57519  The Citibank Credit Card company is a ridiculo...   \n",
       "2790   Hi I went to a local bar on the evening of XX/...   \n",
       "54277  I transferred XXXX ThankYou Points ( Citibank ...   \n",
       "587    I was in XXXX XXXX and used my CITIBANK credit...   \n",
       "12420  I clicked a promotion on citibank 's website t...   \n",
       "\n",
       "                                                 Issue  \\\n",
       "57519  Problem with a purchase shown on your statement   \n",
       "2790   Problem with a purchase shown on your statement   \n",
       "54277               Other features, terms, or problems   \n",
       "587    Problem with a purchase shown on your statement   \n",
       "12420                              Managing an account   \n",
       "\n",
       "                                         Cleaned_Reviews  \n",
       "57519  citibank credit card company ridiculous rude c...  \n",
       "2790   hi went local bar evening made two separate tr...  \n",
       "54277  transferred thankyou points citibank book awar...  \n",
       "587    used citibank credit card used clothing store ...  \n",
       "12420  clicked promotion citibank website stated put ...  "
      ]
     },
     "execution_count": 6,
     "metadata": {},
     "output_type": "execute_result"
    }
   ],
   "source": [
    "train_data.head()"
   ]
  },
  {
   "cell_type": "code",
   "execution_count": 7,
   "id": "faa326dc",
   "metadata": {
    "ExecuteTime": {
     "end_time": "2022-01-07T14:20:50.905330Z",
     "start_time": "2022-01-07T14:20:50.891331Z"
    }
   },
   "outputs": [
    {
     "data": {
      "text/html": [
       "<div>\n",
       "<style scoped>\n",
       "    .dataframe tbody tr th:only-of-type {\n",
       "        vertical-align: middle;\n",
       "    }\n",
       "\n",
       "    .dataframe tbody tr th {\n",
       "        vertical-align: top;\n",
       "    }\n",
       "\n",
       "    .dataframe thead th {\n",
       "        text-align: right;\n",
       "    }\n",
       "</style>\n",
       "<table border=\"1\" class=\"dataframe\">\n",
       "  <thead>\n",
       "    <tr style=\"text-align: right;\">\n",
       "      <th></th>\n",
       "      <th>Consumer complaint narrative</th>\n",
       "      <th>Issue</th>\n",
       "      <th>Cleaned_Reviews</th>\n",
       "    </tr>\n",
       "  </thead>\n",
       "  <tbody>\n",
       "    <tr>\n",
       "      <th>17357</th>\n",
       "      <td>Back in 2015, we noticed a charge on our Macy ...</td>\n",
       "      <td>Fees or interest</td>\n",
       "      <td>back 2015 noticed charge macy credit card call...</td>\n",
       "    </tr>\n",
       "    <tr>\n",
       "      <th>6524</th>\n",
       "      <td>- On XX/XX/XXXX, I purchased 1 ticket XXXX {$3...</td>\n",
       "      <td>Problem with a purchase shown on your statement</td>\n",
       "      <td>purchased 1 ticket 39000 supposed take place p...</td>\n",
       "    </tr>\n",
       "    <tr>\n",
       "      <th>23689</th>\n",
       "      <td>I hope all is well ... \\nThe reason why Im wri...</td>\n",
       "      <td>Fees or interest</td>\n",
       "      <td>hope well reason im writing bill couple days l...</td>\n",
       "    </tr>\n",
       "    <tr>\n",
       "      <th>6960</th>\n",
       "      <td>Citibank had requested some XXXX documents ear...</td>\n",
       "      <td>Managing an account</td>\n",
       "      <td>citibank requested documents earlier year prov...</td>\n",
       "    </tr>\n",
       "    <tr>\n",
       "      <th>7204</th>\n",
       "      <td>On XX/XX/2021 I authorized a payment of amount...</td>\n",
       "      <td>Managing an account</td>\n",
       "      <td>2021 authorized payment amount 260000 pay cred...</td>\n",
       "    </tr>\n",
       "  </tbody>\n",
       "</table>\n",
       "</div>"
      ],
      "text/plain": [
       "                            Consumer complaint narrative  \\\n",
       "17357  Back in 2015, we noticed a charge on our Macy ...   \n",
       "6524   - On XX/XX/XXXX, I purchased 1 ticket XXXX {$3...   \n",
       "23689  I hope all is well ... \\nThe reason why Im wri...   \n",
       "6960   Citibank had requested some XXXX documents ear...   \n",
       "7204   On XX/XX/2021 I authorized a payment of amount...   \n",
       "\n",
       "                                                 Issue  \\\n",
       "17357                                 Fees or interest   \n",
       "6524   Problem with a purchase shown on your statement   \n",
       "23689                                 Fees or interest   \n",
       "6960                               Managing an account   \n",
       "7204                               Managing an account   \n",
       "\n",
       "                                         Cleaned_Reviews  \n",
       "17357  back 2015 noticed charge macy credit card call...  \n",
       "6524   purchased 1 ticket 39000 supposed take place p...  \n",
       "23689  hope well reason im writing bill couple days l...  \n",
       "6960   citibank requested documents earlier year prov...  \n",
       "7204   2021 authorized payment amount 260000 pay cred...  "
      ]
     },
     "execution_count": 7,
     "metadata": {},
     "output_type": "execute_result"
    }
   ],
   "source": [
    "test_data.head()"
   ]
  },
  {
   "cell_type": "code",
   "execution_count": 8,
   "id": "b783b0aa",
   "metadata": {
    "ExecuteTime": {
     "end_time": "2022-01-07T14:20:54.243317Z",
     "start_time": "2022-01-07T14:20:54.221332Z"
    }
   },
   "outputs": [
    {
     "name": "stdout",
     "output_type": "stream",
     "text": [
      "(8440, 3)\n"
     ]
    },
    {
     "data": {
      "text/html": [
       "<div>\n",
       "<style scoped>\n",
       "    .dataframe tbody tr th:only-of-type {\n",
       "        vertical-align: middle;\n",
       "    }\n",
       "\n",
       "    .dataframe tbody tr th {\n",
       "        vertical-align: top;\n",
       "    }\n",
       "\n",
       "    .dataframe thead th {\n",
       "        text-align: right;\n",
       "    }\n",
       "</style>\n",
       "<table border=\"1\" class=\"dataframe\">\n",
       "  <thead>\n",
       "    <tr style=\"text-align: right;\">\n",
       "      <th></th>\n",
       "      <th>Consumer complaint narrative</th>\n",
       "      <th>Issue</th>\n",
       "      <th>Cleaned_Reviews</th>\n",
       "    </tr>\n",
       "  </thead>\n",
       "  <tbody>\n",
       "    <tr>\n",
       "      <th>57519</th>\n",
       "      <td>The Citibank Credit Card company is a ridiculo...</td>\n",
       "      <td>Problem with a purchase shown on your statement</td>\n",
       "      <td>citibank credit card company ridiculous rude c...</td>\n",
       "    </tr>\n",
       "    <tr>\n",
       "      <th>2790</th>\n",
       "      <td>Hi I went to a local bar on the evening of XX/...</td>\n",
       "      <td>Problem with a purchase shown on your statement</td>\n",
       "      <td>hi went local bar evening made two separate tr...</td>\n",
       "    </tr>\n",
       "    <tr>\n",
       "      <th>54277</th>\n",
       "      <td>I transferred XXXX ThankYou Points ( Citibank ...</td>\n",
       "      <td>Other features, terms, or problems</td>\n",
       "      <td>transferred thankyou points citibank book awar...</td>\n",
       "    </tr>\n",
       "    <tr>\n",
       "      <th>587</th>\n",
       "      <td>I was in XXXX XXXX and used my CITIBANK credit...</td>\n",
       "      <td>Problem with a purchase shown on your statement</td>\n",
       "      <td>used citibank credit card used clothing store ...</td>\n",
       "    </tr>\n",
       "    <tr>\n",
       "      <th>12420</th>\n",
       "      <td>I clicked a promotion on citibank 's website t...</td>\n",
       "      <td>Managing an account</td>\n",
       "      <td>clicked promotion citibank website stated put ...</td>\n",
       "    </tr>\n",
       "  </tbody>\n",
       "</table>\n",
       "</div>"
      ],
      "text/plain": [
       "                            Consumer complaint narrative  \\\n",
       "57519  The Citibank Credit Card company is a ridiculo...   \n",
       "2790   Hi I went to a local bar on the evening of XX/...   \n",
       "54277  I transferred XXXX ThankYou Points ( Citibank ...   \n",
       "587    I was in XXXX XXXX and used my CITIBANK credit...   \n",
       "12420  I clicked a promotion on citibank 's website t...   \n",
       "\n",
       "                                                 Issue  \\\n",
       "57519  Problem with a purchase shown on your statement   \n",
       "2790   Problem with a purchase shown on your statement   \n",
       "54277               Other features, terms, or problems   \n",
       "587    Problem with a purchase shown on your statement   \n",
       "12420                              Managing an account   \n",
       "\n",
       "                                         Cleaned_Reviews  \n",
       "57519  citibank credit card company ridiculous rude c...  \n",
       "2790   hi went local bar evening made two separate tr...  \n",
       "54277  transferred thankyou points citibank book awar...  \n",
       "587    used citibank credit card used clothing store ...  \n",
       "12420  clicked promotion citibank website stated put ...  "
      ]
     },
     "execution_count": 8,
     "metadata": {},
     "output_type": "execute_result"
    }
   ],
   "source": [
    "combined_data = pd.concat([train_data,test_data],axis=0)\n",
    "print(combined_data.shape)\n",
    "combined_data.head()"
   ]
  },
  {
   "cell_type": "code",
   "execution_count": 9,
   "id": "c617d1ad",
   "metadata": {
    "ExecuteTime": {
     "end_time": "2022-01-07T14:20:57.574799Z",
     "start_time": "2022-01-07T14:20:56.963801Z"
    }
   },
   "outputs": [
    {
     "name": "stdout",
     "output_type": "stream",
     "text": [
      "Found 19320 unique tokens.\n"
     ]
    }
   ],
   "source": [
    "# The maximum number of words to be used. (most frequent)\n",
    "MAX_NB_WORDS = 50000\n",
    "# Max number of words in each complaint.\n",
    "MAX_SEQUENCE_LENGTH = 200\n",
    "# This is fixed.\n",
    "EMBEDDING_DIM = 100\n",
    "tokenizer = Tokenizer(num_words=MAX_NB_WORDS, filters='!\"#$%&()*+,-./:;<=>?@[\\]^_`{|}~', lower=True)\n",
    "tokenizer.fit_on_texts(combined_data['Cleaned_Reviews'].values)\n",
    "word_index = tokenizer.word_index\n",
    "print('Found %s unique tokens.' % len(word_index))"
   ]
  },
  {
   "cell_type": "code",
   "execution_count": 10,
   "id": "b2bac25f",
   "metadata": {
    "ExecuteTime": {
     "end_time": "2022-01-07T14:20:57.606846Z",
     "start_time": "2022-01-07T14:20:57.586800Z"
    }
   },
   "outputs": [
    {
     "data": {
      "text/plain": [
       "LabelEncoder()"
      ]
     },
     "execution_count": 10,
     "metadata": {},
     "output_type": "execute_result"
    }
   ],
   "source": [
    "le = LabelEncoder()\n",
    "le.fit(train_data['Issue'])"
   ]
  },
  {
   "cell_type": "code",
   "execution_count": 11,
   "id": "ff4a6f52",
   "metadata": {
    "ExecuteTime": {
     "end_time": "2022-01-07T14:20:58.524637Z",
     "start_time": "2022-01-07T14:20:58.513635Z"
    }
   },
   "outputs": [
    {
     "data": {
      "text/html": [
       "<div>\n",
       "<style scoped>\n",
       "    .dataframe tbody tr th:only-of-type {\n",
       "        vertical-align: middle;\n",
       "    }\n",
       "\n",
       "    .dataframe tbody tr th {\n",
       "        vertical-align: top;\n",
       "    }\n",
       "\n",
       "    .dataframe thead th {\n",
       "        text-align: right;\n",
       "    }\n",
       "</style>\n",
       "<table border=\"1\" class=\"dataframe\">\n",
       "  <thead>\n",
       "    <tr style=\"text-align: right;\">\n",
       "      <th></th>\n",
       "      <th>Consumer complaint narrative</th>\n",
       "      <th>Issue</th>\n",
       "      <th>Cleaned_Reviews</th>\n",
       "      <th>Label</th>\n",
       "    </tr>\n",
       "  </thead>\n",
       "  <tbody>\n",
       "    <tr>\n",
       "      <th>17357</th>\n",
       "      <td>Back in 2015, we noticed a charge on our Macy ...</td>\n",
       "      <td>Fees or interest</td>\n",
       "      <td>back 2015 noticed charge macy credit card call...</td>\n",
       "      <td>0</td>\n",
       "    </tr>\n",
       "    <tr>\n",
       "      <th>6524</th>\n",
       "      <td>- On XX/XX/XXXX, I purchased 1 ticket XXXX {$3...</td>\n",
       "      <td>Problem with a purchase shown on your statement</td>\n",
       "      <td>purchased 1 ticket 39000 supposed take place p...</td>\n",
       "      <td>4</td>\n",
       "    </tr>\n",
       "  </tbody>\n",
       "</table>\n",
       "</div>"
      ],
      "text/plain": [
       "                            Consumer complaint narrative  \\\n",
       "17357  Back in 2015, we noticed a charge on our Macy ...   \n",
       "6524   - On XX/XX/XXXX, I purchased 1 ticket XXXX {$3...   \n",
       "\n",
       "                                                 Issue  \\\n",
       "17357                                 Fees or interest   \n",
       "6524   Problem with a purchase shown on your statement   \n",
       "\n",
       "                                         Cleaned_Reviews  Label  \n",
       "17357  back 2015 noticed charge macy credit card call...      0  \n",
       "6524   purchased 1 ticket 39000 supposed take place p...      4  "
      ]
     },
     "execution_count": 11,
     "metadata": {},
     "output_type": "execute_result"
    }
   ],
   "source": [
    "train_data['Label'] = le.transform(train_data['Issue'])\n",
    "test_data['Label'] = le.transform(test_data['Issue'])\n",
    "test_data.head(2)"
   ]
  },
  {
   "cell_type": "code",
   "execution_count": 12,
   "id": "4acce8a6",
   "metadata": {
    "ExecuteTime": {
     "end_time": "2022-01-07T14:21:34.004095Z",
     "start_time": "2022-01-07T14:21:33.651096Z"
    }
   },
   "outputs": [
    {
     "name": "stdout",
     "output_type": "stream",
     "text": [
      "Shape of data tensor: (5908, 200)\n"
     ]
    },
    {
     "data": {
      "text/plain": [
       "(5908, 5)"
      ]
     },
     "execution_count": 12,
     "metadata": {},
     "output_type": "execute_result"
    }
   ],
   "source": [
    "X_train = tokenizer.texts_to_sequences(train_data['Cleaned_Reviews'].values)\n",
    "X_train = pad_sequences(X_train, maxlen=MAX_SEQUENCE_LENGTH)\n",
    "print('Shape of data tensor:', X_train.shape)\n",
    "\n",
    "y_train = to_categorical(train_data['Label'])\n",
    "y_train.shape"
   ]
  },
  {
   "cell_type": "code",
   "execution_count": 13,
   "id": "9ab3551b",
   "metadata": {
    "ExecuteTime": {
     "end_time": "2022-01-07T14:21:39.516095Z",
     "start_time": "2022-01-07T14:21:39.355095Z"
    }
   },
   "outputs": [
    {
     "name": "stdout",
     "output_type": "stream",
     "text": [
      "Shape of data tensor: (2532, 200)\n"
     ]
    },
    {
     "data": {
      "text/plain": [
       "(2532, 5)"
      ]
     },
     "execution_count": 13,
     "metadata": {},
     "output_type": "execute_result"
    }
   ],
   "source": [
    "X_test = tokenizer.texts_to_sequences(test_data['Cleaned_Reviews'].values)\n",
    "X_test = pad_sequences(X_test,maxlen=MAX_SEQUENCE_LENGTH)\n",
    "print('Shape of data tensor:', X_test.shape)\n",
    "\n",
    "y_test = to_categorical(test_data['Label'])\n",
    "y_test.shape"
   ]
  },
  {
   "cell_type": "code",
   "execution_count": 14,
   "id": "acf5382a",
   "metadata": {
    "ExecuteTime": {
     "end_time": "2022-01-07T13:10:50.347286Z",
     "start_time": "2022-01-07T13:10:50.322230Z"
    }
   },
   "outputs": [],
   "source": [
    "#saving Tokenizer\n",
    "\n",
    "with open('tokenizer.pickle', 'wb') as handle:\n",
    "    pickle.dump(tokenizer, handle, protocol=pickle.HIGHEST_PROTOCOL)"
   ]
  },
  {
   "cell_type": "markdown",
   "id": "4b2d9690",
   "metadata": {},
   "source": [
    "<h4> Loading Glove embedding vector</h4>"
   ]
  },
  {
   "cell_type": "code",
   "execution_count": 14,
   "id": "22fd182e",
   "metadata": {
    "ExecuteTime": {
     "end_time": "2022-01-07T14:21:53.940797Z",
     "start_time": "2022-01-07T14:21:43.898497Z"
    }
   },
   "outputs": [
    {
     "name": "stdout",
     "output_type": "stream",
     "text": [
      "Loaded 400000 word vectors.\n"
     ]
    }
   ],
   "source": [
    "# load the whole embedding into memory\n",
    "embeddings_index = dict()\n",
    "f = open('C:/Users/suraj/applied concepts/1. Reliance JIO/glove.6B/glove.6B.100d.txt','r',encoding='utf-8')\n",
    "\n",
    "for line in f:\n",
    "    values = line.split()\n",
    "    word = values[0]\n",
    "    coefs = np.asarray(values[1:], dtype='float32')\n",
    "    embeddings_index[word] = coefs\n",
    "\n",
    "f.close()\n",
    "print('Loaded %s word vectors.' % len(embeddings_index))"
   ]
  },
  {
   "cell_type": "code",
   "execution_count": 15,
   "id": "2776ee35",
   "metadata": {
    "ExecuteTime": {
     "end_time": "2022-01-07T14:21:53.972449Z",
     "start_time": "2022-01-07T14:21:53.942498Z"
    }
   },
   "outputs": [],
   "source": [
    "# create a weight matrix for words in training docs\n",
    "embedding_matrix = np.zeros((MAX_NB_WORDS, 100))\n",
    "\n",
    "for word, i in tokenizer.word_index.items():\n",
    "    embedding_vector = embeddings_index.get(word)\n",
    "    if embedding_vector is not None:\n",
    "        embedding_matrix[i] = embedding_vector"
   ]
  },
  {
   "cell_type": "code",
   "execution_count": 16,
   "id": "12354e21",
   "metadata": {
    "ExecuteTime": {
     "end_time": "2022-01-07T14:22:20.790026Z",
     "start_time": "2022-01-07T14:22:20.783050Z"
    }
   },
   "outputs": [
    {
     "data": {
      "text/plain": [
       "(50000, 100)"
      ]
     },
     "execution_count": 16,
     "metadata": {},
     "output_type": "execute_result"
    }
   ],
   "source": [
    "embedding_matrix.shape"
   ]
  },
  {
   "cell_type": "code",
   "execution_count": 17,
   "id": "868e987c",
   "metadata": {
    "ExecuteTime": {
     "end_time": "2022-01-07T14:22:21.057389Z",
     "start_time": "2022-01-07T14:22:21.044346Z"
    }
   },
   "outputs": [
    {
     "data": {
      "text/plain": [
       "200"
      ]
     },
     "execution_count": 17,
     "metadata": {},
     "output_type": "execute_result"
    }
   ],
   "source": [
    "X_train.shape[1]"
   ]
  },
  {
   "cell_type": "code",
   "execution_count": 18,
   "id": "3b51f0ac",
   "metadata": {
    "ExecuteTime": {
     "end_time": "2022-01-07T14:22:28.965331Z",
     "start_time": "2022-01-07T14:22:28.037909Z"
    }
   },
   "outputs": [
    {
     "name": "stdout",
     "output_type": "stream",
     "text": [
      "WARNING:tensorflow:Layer lstm will not use cuDNN kernels since it doesn't meet the criteria. It will use a generic GPU kernel as fallback when running on GPU.\n",
      "Model: \"sequential\"\n",
      "_________________________________________________________________\n",
      " Layer (type)                Output Shape              Param #   \n",
      "=================================================================\n",
      " embedding (Embedding)       (None, 200, 100)          5000000   \n",
      "                                                                 \n",
      " lstm (LSTM)                 (None, 200, 128)          117248    \n",
      "                                                                 \n",
      " global_max_pooling1d (Globa  (None, 128)              0         \n",
      " lMaxPooling1D)                                                  \n",
      "                                                                 \n",
      " dense (Dense)               (None, 64)                8256      \n",
      "                                                                 \n",
      " dense_1 (Dense)             (None, 5)                 325       \n",
      "                                                                 \n",
      "=================================================================\n",
      "Total params: 5,125,829\n",
      "Trainable params: 5,125,829\n",
      "Non-trainable params: 0\n",
      "_________________________________________________________________\n"
     ]
    }
   ],
   "source": [
    "model = Sequential()\n",
    "\n",
    "model.add(Embedding(MAX_NB_WORDS,EMBEDDING_DIM, weights=[embedding_matrix], input_length=X_train.shape[1],trainable=True))\n",
    "\n",
    "model.add(LSTM(128, dropout=0.2, recurrent_dropout=0.2,return_sequences=True))\n",
    "\n",
    "model.add(GlobalMaxPooling1D())\n",
    "\n",
    "model.add(Dense(64,activation='relu')) \n",
    "\n",
    "model.add(Dense(y_train.shape[1], activation='softmax'))\n",
    "\n",
    "model.compile(loss='categorical_crossentropy', optimizer='adam', metrics=['accuracy'])\n",
    "\n",
    "model.summary()"
   ]
  },
  {
   "cell_type": "code",
   "execution_count": 19,
   "id": "472926a1",
   "metadata": {
    "ExecuteTime": {
     "end_time": "2022-01-07T14:22:34.510533Z",
     "start_time": "2022-01-07T14:22:34.502511Z"
    }
   },
   "outputs": [
    {
     "name": "stdout",
     "output_type": "stream",
     "text": [
      "WARNING:tensorflow:`period` argument is deprecated. Please use `save_freq` to specify the frequency in number of batches seen.\n"
     ]
    }
   ],
   "source": [
    "filepath = \"Models_CheckPoints/saved-model-{epoch:02d}-{val_accuracy:.2f}.hdf5\"\n",
    "\n",
    "model_checkpoint_callback = ModelCheckpoint(\n",
    "    filepath=filepath,\n",
    "    save_weights_only=False,\n",
    "    monitor='val_loss',\n",
    "    mode='auto',\n",
    "    save_best_only=False,\n",
    "    period=1)\n",
    "\n",
    "\n",
    "early_stopping = EarlyStopping(monitor='val_loss', patience=5, min_delta=0.0001)\n",
    "\n",
    "callbacks_list = [model_checkpoint_callback,early_stopping]"
   ]
  },
  {
   "cell_type": "code",
   "execution_count": 20,
   "id": "3a07599c",
   "metadata": {
    "ExecuteTime": {
     "end_time": "2022-01-07T14:46:59.341251Z",
     "start_time": "2022-01-07T14:22:36.854459Z"
    },
    "scrolled": false
   },
   "outputs": [
    {
     "name": "stdout",
     "output_type": "stream",
     "text": [
      "Epoch 1/20\n",
      "93/93 [==============================] - 149s 2s/step - loss: 1.2250 - accuracy: 0.5091 - val_loss: 0.8410 - val_accuracy: 0.6844\n",
      "Epoch 2/20\n",
      "93/93 [==============================] - 143s 2s/step - loss: 0.6815 - accuracy: 0.7612 - val_loss: 0.6072 - val_accuracy: 0.7930\n",
      "Epoch 3/20\n",
      "93/93 [==============================] - 145s 2s/step - loss: 0.5401 - accuracy: 0.8135 - val_loss: 0.5854 - val_accuracy: 0.8006\n",
      "Epoch 4/20\n",
      "93/93 [==============================] - 145s 2s/step - loss: 0.4612 - accuracy: 0.8395 - val_loss: 0.5678 - val_accuracy: 0.8171\n",
      "Epoch 5/20\n",
      "93/93 [==============================] - 144s 2s/step - loss: 0.3847 - accuracy: 0.8665 - val_loss: 0.5502 - val_accuracy: 0.8211\n",
      "Epoch 6/20\n",
      "93/93 [==============================] - 147s 2s/step - loss: 0.3556 - accuracy: 0.8773 - val_loss: 0.5531 - val_accuracy: 0.8116\n",
      "Epoch 7/20\n",
      "93/93 [==============================] - 151s 2s/step - loss: 0.3075 - accuracy: 0.8952 - val_loss: 0.5670 - val_accuracy: 0.8164\n",
      "Epoch 8/20\n",
      "93/93 [==============================] - 148s 2s/step - loss: 0.2649 - accuracy: 0.9078 - val_loss: 0.6418 - val_accuracy: 0.8025\n",
      "Epoch 9/20\n",
      "93/93 [==============================] - 146s 2s/step - loss: 0.2196 - accuracy: 0.9282 - val_loss: 0.6443 - val_accuracy: 0.8045\n",
      "Epoch 10/20\n",
      "93/93 [==============================] - 145s 2s/step - loss: 0.1854 - accuracy: 0.9381 - val_loss: 0.6056 - val_accuracy: 0.8148\n"
     ]
    }
   ],
   "source": [
    "epochs = 20\n",
    "batch_size = 64\n",
    "\n",
    "history = model.fit(X_train, y_train, epochs=epochs, batch_size=batch_size,validation_data=(X_test,y_test),callbacks=callbacks_list)"
   ]
  },
  {
   "cell_type": "code",
   "execution_count": 25,
   "id": "d6c25d79",
   "metadata": {
    "ExecuteTime": {
     "end_time": "2022-01-07T14:52:30.311550Z",
     "start_time": "2022-01-07T14:52:30.266166Z"
    }
   },
   "outputs": [],
   "source": [
    "model.load_weights(\"Models_CheckPoints/saved-model-05-0.82.hdf5\")"
   ]
  },
  {
   "cell_type": "code",
   "execution_count": 26,
   "id": "08a250d5",
   "metadata": {
    "ExecuteTime": {
     "end_time": "2022-01-07T14:52:31.283532Z",
     "start_time": "2022-01-07T14:52:31.266159Z"
    }
   },
   "outputs": [],
   "source": [
    "#code for plotting the model accuracy and loss\n",
    "def plot_history(history):\n",
    "    plt.style.use('seaborn-notebook')\n",
    "    \n",
    "    fig = plt.figure(figsize=(14, 5))\n",
    "    ax1 = fig.add_subplot(1, 2, 1)\n",
    "    ax2 = fig.add_subplot(1, 2, 2)\n",
    "\n",
    "    ax1.set_title('Accuracy')\n",
    "    ax1.plot(history.history['accuracy'],label='Training Accuracy')\n",
    "    ax1.plot(history.history['val_accuracy'],label='Validation Accuracy')\n",
    "    ax1.legend()\n",
    "\n",
    "    ax2.set_title('Loss')\n",
    "    ax2.plot(history.history['loss'],label='Training Loss')\n",
    "    ax2.plot(history.history['val_loss'],label='Validation Loss')\n",
    "    ax2.legend()\n",
    "\n",
    "    plt.tight_layout()"
   ]
  },
  {
   "cell_type": "code",
   "execution_count": 27,
   "id": "b409c2d0",
   "metadata": {
    "ExecuteTime": {
     "end_time": "2022-01-07T14:52:32.263976Z",
     "start_time": "2022-01-07T14:52:31.994932Z"
    }
   },
   "outputs": [
    {
     "data": {
      "image/png": "[encoded data removed]",
      "text/plain": [
       "<Figure size 1008x360 with 2 Axes>"
      ]
     },
     "metadata": {
      "needs_background": "light"
     },
     "output_type": "display_data"
    }
   ],
   "source": [
    "plot_history(history)"
   ]
  },
  {
   "cell_type": "code",
   "execution_count": 28,
   "id": "53fe19ee",
   "metadata": {
    "ExecuteTime": {
     "end_time": "2022-01-07T14:52:42.225019Z",
     "start_time": "2022-01-07T14:52:32.918155Z"
    }
   },
   "outputs": [
    {
     "name": "stdout",
     "output_type": "stream",
     "text": [
      "80/80 [==============================] - 9s 116ms/step - loss: 0.5502 - accuracy: 0.8211\n",
      "Test set\n",
      "  Loss: 0.550\n",
      "  Accuracy: 0.821\n"
     ]
    }
   ],
   "source": [
    "accr = model.evaluate(X_test,y_test)\n",
    "print('Test set\\n  Loss: {:0.3f}\\n  Accuracy: {:0.3f}'.format(accr[0],accr[1]))"
   ]
  },
  {
   "cell_type": "code",
   "execution_count": 29,
   "id": "1a4ab37a",
   "metadata": {
    "ExecuteTime": {
     "end_time": "2022-01-07T14:52:54.422052Z",
     "start_time": "2022-01-07T14:52:45.377476Z"
    }
   },
   "outputs": [
    {
     "name": "stdout",
     "output_type": "stream",
     "text": [
      "Accuracy Score: 0.8210900473933649\n"
     ]
    },
    {
     "data": {
      "text/html": [
       "<div>\n",
       "<style scoped>\n",
       "    .dataframe tbody tr th:only-of-type {\n",
       "        vertical-align: middle;\n",
       "    }\n",
       "\n",
       "    .dataframe tbody tr th {\n",
       "        vertical-align: top;\n",
       "    }\n",
       "\n",
       "    .dataframe thead th {\n",
       "        text-align: right;\n",
       "    }\n",
       "</style>\n",
       "<table border=\"1\" class=\"dataframe\">\n",
       "  <thead>\n",
       "    <tr style=\"text-align: right;\">\n",
       "      <th></th>\n",
       "      <th>precision</th>\n",
       "      <th>recall</th>\n",
       "      <th>f1-score</th>\n",
       "      <th>support</th>\n",
       "    </tr>\n",
       "  </thead>\n",
       "  <tbody>\n",
       "    <tr>\n",
       "      <th>0</th>\n",
       "      <td>0.791155</td>\n",
       "      <td>0.829897</td>\n",
       "      <td>0.810063</td>\n",
       "      <td>388.00000</td>\n",
       "    </tr>\n",
       "    <tr>\n",
       "      <th>1</th>\n",
       "      <td>0.790657</td>\n",
       "      <td>0.896078</td>\n",
       "      <td>0.840074</td>\n",
       "      <td>510.00000</td>\n",
       "    </tr>\n",
       "    <tr>\n",
       "      <th>2</th>\n",
       "      <td>0.853428</td>\n",
       "      <td>0.900249</td>\n",
       "      <td>0.876214</td>\n",
       "      <td>401.00000</td>\n",
       "    </tr>\n",
       "    <tr>\n",
       "      <th>3</th>\n",
       "      <td>0.701449</td>\n",
       "      <td>0.638522</td>\n",
       "      <td>0.668508</td>\n",
       "      <td>379.00000</td>\n",
       "    </tr>\n",
       "    <tr>\n",
       "      <th>4</th>\n",
       "      <td>0.894737</td>\n",
       "      <td>0.816159</td>\n",
       "      <td>0.853644</td>\n",
       "      <td>854.00000</td>\n",
       "    </tr>\n",
       "    <tr>\n",
       "      <th>accuracy</th>\n",
       "      <td>0.821090</td>\n",
       "      <td>0.821090</td>\n",
       "      <td>0.821090</td>\n",
       "      <td>0.82109</td>\n",
       "    </tr>\n",
       "    <tr>\n",
       "      <th>macro avg</th>\n",
       "      <td>0.806285</td>\n",
       "      <td>0.816181</td>\n",
       "      <td>0.809700</td>\n",
       "      <td>2532.00000</td>\n",
       "    </tr>\n",
       "    <tr>\n",
       "      <th>weighted avg</th>\n",
       "      <td>0.822426</td>\n",
       "      <td>0.821090</td>\n",
       "      <td>0.820095</td>\n",
       "      <td>2532.00000</td>\n",
       "    </tr>\n",
       "  </tbody>\n",
       "</table>\n",
       "</div>"
      ],
      "text/plain": [
       "              precision    recall  f1-score     support\n",
       "0              0.791155  0.829897  0.810063   388.00000\n",
       "1              0.790657  0.896078  0.840074   510.00000\n",
       "2              0.853428  0.900249  0.876214   401.00000\n",
       "3              0.701449  0.638522  0.668508   379.00000\n",
       "4              0.894737  0.816159  0.853644   854.00000\n",
       "accuracy       0.821090  0.821090  0.821090     0.82109\n",
       "macro avg      0.806285  0.816181  0.809700  2532.00000\n",
       "weighted avg   0.822426  0.821090  0.820095  2532.00000"
      ]
     },
     "execution_count": 29,
     "metadata": {},
     "output_type": "execute_result"
    }
   ],
   "source": [
    "y_predict_proba = model.predict(X_test)\n",
    "\n",
    "y_predict_class = y_predict_proba.argmax(axis=-1)\n",
    "\n",
    "y_test_class = np.argmax(y_test,axis=1)\n",
    "\n",
    "print(\"Accuracy Score:\",accuracy_score(y_test_class,y_predict_class))\n",
    "classification_report_ = pd.DataFrame(classification_report(y_test_class,y_predict_class,output_dict=True)).T\n",
    "classification_report_"
   ]
  },
  {
   "cell_type": "code",
   "execution_count": 27,
   "id": "5cccaace",
   "metadata": {
    "ExecuteTime": {
     "end_time": "2022-01-07T13:59:05.653922Z",
     "start_time": "2022-01-07T13:59:05.531724Z"
    }
   },
   "outputs": [],
   "source": [
    "model.save('model.hdf5')"
   ]
  },
  {
   "cell_type": "markdown",
   "id": "ed9b8875",
   "metadata": {},
   "source": [
    "# Inference  "
   ]
  },
  {
   "cell_type": "code",
   "execution_count": null,
   "id": "2cb3cabb",
   "metadata": {
    "ExecuteTime": {
     "end_time": "2021-10-17T14:57:48.977516Z",
     "start_time": "2021-10-17T14:57:47.934631Z"
    }
   },
   "outputs": [],
   "source": [
    "#loading model and Tokenizer\n",
    "\n",
    "model = load_model('model.hdf5')\n",
    "\n",
    "index2label = {0:'Worst',1:'Bad',2:'Good',3:'Great'}\n",
    "\n",
    "with open('tokenizer.pickle', 'rb') as handle:\n",
    "    tokenizer = pickle.load(handle)\n",
    "    \n",
    "MAX_SEQUENCE_LENGTH = 200"
   ]
  },
  {
   "cell_type": "code",
   "execution_count": null,
   "id": "cfb929af",
   "metadata": {
    "ExecuteTime": {
     "end_time": "2021-10-17T14:57:48.993052Z",
     "start_time": "2021-10-17T14:57:48.979522Z"
    }
   },
   "outputs": [],
   "source": [
    "REPLACE_BY_SPACE_RE = re.compile('[/(){}\\[\\]\\|@,;]')\n",
    "TO_REMOVE_SYMBOLS_RE = re.compile('[^0-9a-z #+_]')\n",
    "NEXTLINE_REPLACE = re.compile('\\n')\n",
    "STOPWORDS = set(stopwords.words('english'))\n",
    "\n",
    "def clean_text(text):\n",
    "    text = text.lower()\n",
    "    text = NEXTLINE_REPLACE.sub(' ',text)\n",
    "    text = REPLACE_BY_SPACE_RE.sub(' ', text) \n",
    "    text = TO_REMOVE_SYMBOLS_RE.sub('', text)  \n",
    "    text = text.replace('x', '')\n",
    "    \n",
    "    text = ' '.join(word for word in text.split() if word not in STOPWORDS)\n",
    "    \n",
    "    return text"
   ]
  },
  {
   "cell_type": "code",
   "execution_count": null,
   "id": "49c5f7b1",
   "metadata": {
    "ExecuteTime": {
     "end_time": "2021-10-17T14:57:49.339917Z",
     "start_time": "2021-10-17T14:57:49.330870Z"
    }
   },
   "outputs": [],
   "source": [
    "def predict(text):\n",
    "    text = clean_text(text)\n",
    "    text = tokenizer.texts_to_sequences([text])\n",
    "    text = pad_sequences(text, maxlen=MAX_SEQUENCE_LENGTH)\n",
    "    \n",
    "    y_predict_proba = model.predict(text)\n",
    "    y_predict_class = y_predict_proba.argmax(axis=-1)\n",
    "    \n",
    "    return index2label[y_predict_class[0]],y_predict_class,y_predict_proba"
   ]
  },
  {
   "cell_type": "code",
   "execution_count": null,
   "id": "39176f6f",
   "metadata": {
    "ExecuteTime": {
     "end_time": "2021-10-17T14:57:51.122516Z",
     "start_time": "2021-10-17T14:57:50.114418Z"
    }
   },
   "outputs": [],
   "source": [
    "test_text = \"\"\"Good movie but not the BEST.\n",
    "\n",
    "The special effects were OK, some of them looked really fake.\n",
    "\n",
    "I know it's an action movie and the principal cast are supposed to survive 'till the end of the movie but come on, were they supernatural or what? Only few scratches after all they went through. The bridges and buildings falling down and they passed in the car with no problem. It could be a little more realistic without all the drama: \"we survive to everything no matter what\".\n",
    "\n",
    "I suffered a lot watching this movie, I was struggling with myself to not cry, it's very cruel and it's sad imagine all this could really happen, see how everyone dies, everything is destroy and it shows once again how the people in this world thinks: the money and being an \"important\" person can save your life, the rest of us does not matter.\n",
    "\n",
    "It's also a wake up call to everyone who lives in this planet. \"\"\"\n",
    "\n",
    "predict(test_text)"
   ]
  },
  {
   "cell_type": "code",
   "execution_count": null,
   "id": "c69fa202",
   "metadata": {},
   "outputs": [],
   "source": []
  }
 ],
 "metadata": {
  "kernelspec": {
   "display_name": "Python 3 (ipykernel)",
   "language": "python",
   "name": "python3"
  },
  "language_info": {
   "codemirror_mode": {
    "name": "ipython",
    "version": 3
   },
   "file_extension": ".py",
   "mimetype": "text/x-python",
   "name": "python",
   "nbconvert_exporter": "python",
   "pygments_lexer": "ipython3",
   "version": "3.10.9"
  }
 },
 "nbformat": 4,
 "nbformat_minor": 5
}
