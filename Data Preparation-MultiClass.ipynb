{
 "cells": [
  {
   "cell_type": "code",
   "execution_count": 13,
   "id": "813c02a2",
   "metadata": {
    "ExecuteTime": {
     "end_time": "2022-01-03T11:03:42.059015Z",
     "start_time": "2022-01-03T11:03:42.053023Z"
    }
   },
   "outputs": [],
   "source": [
    "import pandas as pd\n",
    "import numpy as np\n",
    "from sklearn.model_selection import train_test_split"
   ]
  },
  {
   "cell_type": "code",
   "execution_count": 2,
   "id": "7d34257d",
   "metadata": {
    "ExecuteTime": {
     "end_time": "2022-01-03T10:56:11.280210Z",
     "start_time": "2022-01-03T10:56:10.738182Z"
    }
   },
   "outputs": [
    {
     "name": "stdout",
     "output_type": "stream",
     "text": [
      "(24449, 18)\n"
     ]
    }
   ],
   "source": [
    "data = pd.read_csv('../complaints-2021-11-16_03_13.csv')\n",
    "data = data[~(data['Consumer complaint narrative'].isnull())]\n",
    "data = data[~(data['Consumer complaint narrative']=='')]\n",
    "print(data.shape)"
   ]
  },
  {
   "cell_type": "code",
   "execution_count": 3,
   "id": "5ce10f0f",
   "metadata": {
    "ExecuteTime": {
     "end_time": "2022-01-03T10:56:16.890989Z",
     "start_time": "2022-01-03T10:56:16.881991Z"
    }
   },
   "outputs": [],
   "source": [
    "data.drop(set(data.columns) -  set(['Issue','Consumer complaint narrative']),axis=1,inplace=True)"
   ]
  },
  {
   "cell_type": "code",
   "execution_count": 4,
   "id": "f442bd80",
   "metadata": {
    "ExecuteTime": {
     "end_time": "2022-01-03T10:56:17.295174Z",
     "start_time": "2022-01-03T10:56:17.266135Z"
    }
   },
   "outputs": [
    {
     "data": {
      "text/html": [
       "<div>\n",
       "<style scoped>\n",
       "    .dataframe tbody tr th:only-of-type {\n",
       "        vertical-align: middle;\n",
       "    }\n",
       "\n",
       "    .dataframe tbody tr th {\n",
       "        vertical-align: top;\n",
       "    }\n",
       "\n",
       "    .dataframe thead th {\n",
       "        text-align: right;\n",
       "    }\n",
       "</style>\n",
       "<table border=\"1\" class=\"dataframe\">\n",
       "  <thead>\n",
       "    <tr style=\"text-align: right;\">\n",
       "      <th></th>\n",
       "      <th>Issue</th>\n",
       "      <th>Consumer complaint narrative</th>\n",
       "    </tr>\n",
       "  </thead>\n",
       "  <tbody>\n",
       "    <tr>\n",
       "      <th>0</th>\n",
       "      <td>Getting a credit card</td>\n",
       "      <td>I opened a citi double cash card the beginning...</td>\n",
       "    </tr>\n",
       "    <tr>\n",
       "      <th>1</th>\n",
       "      <td>Closing your account</td>\n",
       "      <td>1. I have paid off two Citi cards on XX/XX/202...</td>\n",
       "    </tr>\n",
       "    <tr>\n",
       "      <th>3</th>\n",
       "      <td>Attempts to collect debt not owed</td>\n",
       "      <td>this issue was identity theft resolved with ci...</td>\n",
       "    </tr>\n",
       "    <tr>\n",
       "      <th>5</th>\n",
       "      <td>Problem with a purchase shown on your statement</td>\n",
       "      <td>On XX/XX/XXXX I received a letter from Citiban...</td>\n",
       "    </tr>\n",
       "    <tr>\n",
       "      <th>6</th>\n",
       "      <td>Managing an account</td>\n",
       "      <td>Small business ( checking and savings ) ( corp...</td>\n",
       "    </tr>\n",
       "  </tbody>\n",
       "</table>\n",
       "</div>"
      ],
      "text/plain": [
       "                                             Issue  \\\n",
       "0                            Getting a credit card   \n",
       "1                             Closing your account   \n",
       "3                Attempts to collect debt not owed   \n",
       "5  Problem with a purchase shown on your statement   \n",
       "6                              Managing an account   \n",
       "\n",
       "                        Consumer complaint narrative  \n",
       "0  I opened a citi double cash card the beginning...  \n",
       "1  1. I have paid off two Citi cards on XX/XX/202...  \n",
       "3  this issue was identity theft resolved with ci...  \n",
       "5  On XX/XX/XXXX I received a letter from Citiban...  \n",
       "6  Small business ( checking and savings ) ( corp...  "
      ]
     },
     "execution_count": 4,
     "metadata": {},
     "output_type": "execute_result"
    }
   ],
   "source": [
    "data.head()"
   ]
  },
  {
   "cell_type": "code",
   "execution_count": 5,
   "id": "47ed74a2",
   "metadata": {
    "ExecuteTime": {
     "end_time": "2022-01-03T10:56:23.574666Z",
     "start_time": "2022-01-03T10:56:23.553528Z"
    }
   },
   "outputs": [
    {
     "data": {
      "text/plain": [
       "130"
      ]
     },
     "execution_count": 5,
     "metadata": {},
     "output_type": "execute_result"
    }
   ],
   "source": [
    "data['Issue'].nunique()"
   ]
  },
  {
   "cell_type": "code",
   "execution_count": 6,
   "id": "6df5f1a0",
   "metadata": {
    "ExecuteTime": {
     "end_time": "2022-01-03T10:56:26.101574Z",
     "start_time": "2022-01-03T10:56:26.082355Z"
    }
   },
   "outputs": [
    {
     "data": {
      "text/plain": [
       "Problem with a purchase shown on your statement    2847\n",
       "Incorrect information on your report               1701\n",
       "Managing an account                                1336\n",
       "Fees or interest                                   1292\n",
       "Other features, terms, or problems                 1264\n",
       "                                                   ... \n",
       "Can't contact lender                                  2\n",
       "Shopping for a line of credit                         1\n",
       "Can't stop charges to bank account                    1\n",
       "Account terms and changes                             1\n",
       "Problem adding money                                  1\n",
       "Name: Issue, Length: 130, dtype: int64"
      ]
     },
     "execution_count": 6,
     "metadata": {},
     "output_type": "execute_result"
    }
   ],
   "source": [
    "data['Issue'].value_counts()"
   ]
  },
  {
   "cell_type": "code",
   "execution_count": 11,
   "id": "562ede53",
   "metadata": {
    "ExecuteTime": {
     "end_time": "2022-01-03T10:58:15.552796Z",
     "start_time": "2022-01-03T10:58:15.537753Z"
    }
   },
   "outputs": [
    {
     "data": {
      "text/plain": [
       "['Problem with a purchase shown on your statement',\n",
       " 'Incorrect information on your report',\n",
       " 'Managing an account',\n",
       " 'Fees or interest',\n",
       " 'Other features, terms, or problems']"
      ]
     },
     "execution_count": 11,
     "metadata": {},
     "output_type": "execute_result"
    }
   ],
   "source": [
    "classes = list(data['Issue'].value_counts()[0:5].index)\n",
    "classes"
   ]
  },
  {
   "cell_type": "code",
   "execution_count": 12,
   "id": "723b3f02",
   "metadata": {
    "ExecuteTime": {
     "end_time": "2022-01-03T11:02:49.402751Z",
     "start_time": "2022-01-03T11:02:49.376191Z"
    }
   },
   "outputs": [
    {
     "name": "stdout",
     "output_type": "stream",
     "text": [
      "(8440, 2)\n",
      "(8440, 2)\n"
     ]
    },
    {
     "data": {
      "text/html": [
       "<div>\n",
       "<style scoped>\n",
       "    .dataframe tbody tr th:only-of-type {\n",
       "        vertical-align: middle;\n",
       "    }\n",
       "\n",
       "    .dataframe tbody tr th {\n",
       "        vertical-align: top;\n",
       "    }\n",
       "\n",
       "    .dataframe thead th {\n",
       "        text-align: right;\n",
       "    }\n",
       "</style>\n",
       "<table border=\"1\" class=\"dataframe\">\n",
       "  <thead>\n",
       "    <tr style=\"text-align: right;\">\n",
       "      <th></th>\n",
       "      <th>Consumer complaint narrative</th>\n",
       "      <th>Issue</th>\n",
       "    </tr>\n",
       "  </thead>\n",
       "  <tbody>\n",
       "    <tr>\n",
       "      <th>28041</th>\n",
       "      <td>My Credit card, BEST BUY VISA. payments are du...</td>\n",
       "      <td>Fees or interest</td>\n",
       "    </tr>\n",
       "    <tr>\n",
       "      <th>11355</th>\n",
       "      <td>There was a fraudulent charge of {$160.00} to ...</td>\n",
       "      <td>Problem with a purchase shown on your statement</td>\n",
       "    </tr>\n",
       "    <tr>\n",
       "      <th>14446</th>\n",
       "      <td>THERE IS AN UNKNOWN 30 DAY LATE REPORTING FALS...</td>\n",
       "      <td>Incorrect information on your report</td>\n",
       "    </tr>\n",
       "    <tr>\n",
       "      <th>10674</th>\n",
       "      <td>On XX/XX/XXXX, i accepted an offer from CitiBa...</td>\n",
       "      <td>Other features, terms, or problems</td>\n",
       "    </tr>\n",
       "    <tr>\n",
       "      <th>16258</th>\n",
       "      <td>My father  is over XXXX years old. He has a jo...</td>\n",
       "      <td>Managing an account</td>\n",
       "    </tr>\n",
       "  </tbody>\n",
       "</table>\n",
       "</div>"
      ],
      "text/plain": [
       "                            Consumer complaint narrative  \\\n",
       "28041  My Credit card, BEST BUY VISA. payments are du...   \n",
       "11355  There was a fraudulent charge of {$160.00} to ...   \n",
       "14446  THERE IS AN UNKNOWN 30 DAY LATE REPORTING FALS...   \n",
       "10674  On XX/XX/XXXX, i accepted an offer from CitiBa...   \n",
       "16258  My father  is over XXXX years old. He has a jo...   \n",
       "\n",
       "                                                 Issue  \n",
       "28041                                 Fees or interest  \n",
       "11355  Problem with a purchase shown on your statement  \n",
       "14446             Incorrect information on your report  \n",
       "10674               Other features, terms, or problems  \n",
       "16258                              Managing an account  "
      ]
     },
     "execution_count": 12,
     "metadata": {},
     "output_type": "execute_result"
    }
   ],
   "source": [
    "filtered_data = data[data['Issue'].isin(classes)]\n",
    "print(filtered_data.shape)\n",
    "filtered_data = filtered_data[['Consumer complaint narrative','Issue']]\n",
    "filtered_data = filtered_data.sample(frac=1)\n",
    "print(filtered_data.shape)\n",
    "filtered_data.head()"
   ]
  },
  {
   "cell_type": "code",
   "execution_count": 18,
   "id": "9e5add59",
   "metadata": {
    "ExecuteTime": {
     "end_time": "2022-01-03T11:09:26.736181Z",
     "start_time": "2022-01-03T11:09:26.707646Z"
    }
   },
   "outputs": [
    {
     "name": "stdout",
     "output_type": "stream",
     "text": [
      "(5908,) (5908,)\n",
      "(2532,) (2532,)\n"
     ]
    }
   ],
   "source": [
    "X_train, X_test, y_train, y_test = train_test_split(filtered_data['Consumer complaint narrative'],filtered_data['Issue'],test_size=0.3,stratify=filtered_data['Issue'])\n",
    "\n",
    "print(X_train.shape,y_train.shape)\n",
    "print(X_test.shape,y_test.shape)"
   ]
  },
  {
   "cell_type": "code",
   "execution_count": 21,
   "id": "0e833c25",
   "metadata": {
    "ExecuteTime": {
     "end_time": "2022-01-03T11:35:53.695226Z",
     "start_time": "2022-01-03T11:35:53.658950Z"
    }
   },
   "outputs": [
    {
     "name": "stdout",
     "output_type": "stream",
     "text": [
      "(5908, 2)\n",
      "(2532, 2)\n"
     ]
    }
   ],
   "source": [
    "train_data,test_data = train_test_split(filtered_data,test_size=0.3,stratify=filtered_data['Issue'])\n",
    "\n",
    "print(train_data.shape)\n",
    "print(test_data.shape)"
   ]
  },
  {
   "cell_type": "code",
   "execution_count": 22,
   "id": "2c291ce2",
   "metadata": {
    "ExecuteTime": {
     "end_time": "2022-01-03T11:36:01.340449Z",
     "start_time": "2022-01-03T11:36:01.314448Z"
    }
   },
   "outputs": [
    {
     "data": {
      "text/html": [
       "<div>\n",
       "<style scoped>\n",
       "    .dataframe tbody tr th:only-of-type {\n",
       "        vertical-align: middle;\n",
       "    }\n",
       "\n",
       "    .dataframe tbody tr th {\n",
       "        vertical-align: top;\n",
       "    }\n",
       "\n",
       "    .dataframe thead th {\n",
       "        text-align: right;\n",
       "    }\n",
       "</style>\n",
       "<table border=\"1\" class=\"dataframe\">\n",
       "  <thead>\n",
       "    <tr style=\"text-align: right;\">\n",
       "      <th></th>\n",
       "      <th>Consumer complaint narrative</th>\n",
       "      <th>Issue</th>\n",
       "    </tr>\n",
       "  </thead>\n",
       "  <tbody>\n",
       "    <tr>\n",
       "      <th>57519</th>\n",
       "      <td>The Citibank Credit Card company is a ridiculo...</td>\n",
       "      <td>Problem with a purchase shown on your statement</td>\n",
       "    </tr>\n",
       "    <tr>\n",
       "      <th>2790</th>\n",
       "      <td>Hi I went to a local bar on the evening of XX/...</td>\n",
       "      <td>Problem with a purchase shown on your statement</td>\n",
       "    </tr>\n",
       "    <tr>\n",
       "      <th>54277</th>\n",
       "      <td>I transferred XXXX ThankYou Points ( Citibank ...</td>\n",
       "      <td>Other features, terms, or problems</td>\n",
       "    </tr>\n",
       "    <tr>\n",
       "      <th>587</th>\n",
       "      <td>I was in XXXX XXXX and used my CITIBANK credit...</td>\n",
       "      <td>Problem with a purchase shown on your statement</td>\n",
       "    </tr>\n",
       "    <tr>\n",
       "      <th>12420</th>\n",
       "      <td>I clicked a promotion on citibank 's website t...</td>\n",
       "      <td>Managing an account</td>\n",
       "    </tr>\n",
       "  </tbody>\n",
       "</table>\n",
       "</div>"
      ],
      "text/plain": [
       "                            Consumer complaint narrative  \\\n",
       "57519  The Citibank Credit Card company is a ridiculo...   \n",
       "2790   Hi I went to a local bar on the evening of XX/...   \n",
       "54277  I transferred XXXX ThankYou Points ( Citibank ...   \n",
       "587    I was in XXXX XXXX and used my CITIBANK credit...   \n",
       "12420  I clicked a promotion on citibank 's website t...   \n",
       "\n",
       "                                                 Issue  \n",
       "57519  Problem with a purchase shown on your statement  \n",
       "2790   Problem with a purchase shown on your statement  \n",
       "54277               Other features, terms, or problems  \n",
       "587    Problem with a purchase shown on your statement  \n",
       "12420                              Managing an account  "
      ]
     },
     "execution_count": 22,
     "metadata": {},
     "output_type": "execute_result"
    }
   ],
   "source": [
    "train_data.head()"
   ]
  },
  {
   "cell_type": "code",
   "execution_count": 23,
   "id": "a132ae0e",
   "metadata": {
    "ExecuteTime": {
     "end_time": "2022-01-03T11:36:19.871025Z",
     "start_time": "2022-01-03T11:36:19.850008Z"
    }
   },
   "outputs": [
    {
     "data": {
      "text/html": [
       "<div>\n",
       "<style scoped>\n",
       "    .dataframe tbody tr th:only-of-type {\n",
       "        vertical-align: middle;\n",
       "    }\n",
       "\n",
       "    .dataframe tbody tr th {\n",
       "        vertical-align: top;\n",
       "    }\n",
       "\n",
       "    .dataframe thead th {\n",
       "        text-align: right;\n",
       "    }\n",
       "</style>\n",
       "<table border=\"1\" class=\"dataframe\">\n",
       "  <thead>\n",
       "    <tr style=\"text-align: right;\">\n",
       "      <th></th>\n",
       "      <th>Consumer complaint narrative</th>\n",
       "      <th>Issue</th>\n",
       "    </tr>\n",
       "  </thead>\n",
       "  <tbody>\n",
       "    <tr>\n",
       "      <th>17357</th>\n",
       "      <td>Back in 2015, we noticed a charge on our Macy ...</td>\n",
       "      <td>Fees or interest</td>\n",
       "    </tr>\n",
       "    <tr>\n",
       "      <th>6524</th>\n",
       "      <td>- On XX/XX/XXXX, I purchased 1 ticket XXXX {$3...</td>\n",
       "      <td>Problem with a purchase shown on your statement</td>\n",
       "    </tr>\n",
       "    <tr>\n",
       "      <th>23689</th>\n",
       "      <td>I hope all is well ... \\nThe reason why Im wri...</td>\n",
       "      <td>Fees or interest</td>\n",
       "    </tr>\n",
       "    <tr>\n",
       "      <th>6960</th>\n",
       "      <td>Citibank had requested some XXXX documents ear...</td>\n",
       "      <td>Managing an account</td>\n",
       "    </tr>\n",
       "    <tr>\n",
       "      <th>7204</th>\n",
       "      <td>On XX/XX/2021 I authorized a payment of amount...</td>\n",
       "      <td>Managing an account</td>\n",
       "    </tr>\n",
       "  </tbody>\n",
       "</table>\n",
       "</div>"
      ],
      "text/plain": [
       "                            Consumer complaint narrative  \\\n",
       "17357  Back in 2015, we noticed a charge on our Macy ...   \n",
       "6524   - On XX/XX/XXXX, I purchased 1 ticket XXXX {$3...   \n",
       "23689  I hope all is well ... \\nThe reason why Im wri...   \n",
       "6960   Citibank had requested some XXXX documents ear...   \n",
       "7204   On XX/XX/2021 I authorized a payment of amount...   \n",
       "\n",
       "                                                 Issue  \n",
       "17357                                 Fees or interest  \n",
       "6524   Problem with a purchase shown on your statement  \n",
       "23689                                 Fees or interest  \n",
       "6960                               Managing an account  \n",
       "7204                               Managing an account  "
      ]
     },
     "execution_count": 23,
     "metadata": {},
     "output_type": "execute_result"
    }
   ],
   "source": [
    "test_data.head()"
   ]
  },
  {
   "cell_type": "code",
   "execution_count": 24,
   "id": "683b2894",
   "metadata": {
    "ExecuteTime": {
     "end_time": "2022-01-03T11:36:33.431848Z",
     "start_time": "2022-01-03T11:36:33.421846Z"
    }
   },
   "outputs": [
    {
     "data": {
      "text/plain": [
       "Problem with a purchase shown on your statement    1993\n",
       "Incorrect information on your report               1191\n",
       "Managing an account                                 935\n",
       "Fees or interest                                    904\n",
       "Other features, terms, or problems                  885\n",
       "Name: Issue, dtype: int64"
      ]
     },
     "execution_count": 24,
     "metadata": {},
     "output_type": "execute_result"
    }
   ],
   "source": [
    "train_data['Issue'].value_counts()"
   ]
  },
  {
   "cell_type": "code",
   "execution_count": 25,
   "id": "db741085",
   "metadata": {
    "ExecuteTime": {
     "end_time": "2022-01-03T11:36:50.100805Z",
     "start_time": "2022-01-03T11:36:50.093804Z"
    }
   },
   "outputs": [
    {
     "data": {
      "text/plain": [
       "Problem with a purchase shown on your statement    854\n",
       "Incorrect information on your report               510\n",
       "Managing an account                                401\n",
       "Fees or interest                                   388\n",
       "Other features, terms, or problems                 379\n",
       "Name: Issue, dtype: int64"
      ]
     },
     "execution_count": 25,
     "metadata": {},
     "output_type": "execute_result"
    }
   ],
   "source": [
    "test_data['Issue'].value_counts()"
   ]
  },
  {
   "cell_type": "code",
   "execution_count": 26,
   "id": "8e4f9df4",
   "metadata": {
    "ExecuteTime": {
     "end_time": "2022-01-03T11:37:23.289122Z",
     "start_time": "2022-01-03T11:37:23.105801Z"
    }
   },
   "outputs": [],
   "source": [
    "train_data.to_csv('train_dataset_multiclass.csv')"
   ]
  },
  {
   "cell_type": "code",
   "execution_count": 27,
   "id": "64db438a",
   "metadata": {
    "ExecuteTime": {
     "end_time": "2022-01-03T11:37:23.793570Z",
     "start_time": "2022-01-03T11:37:23.702267Z"
    }
   },
   "outputs": [],
   "source": [
    "test_data.to_csv('test_dataset_multiclass.csv')"
   ]
  },
  {
   "cell_type": "code",
   "execution_count": null,
   "id": "828cf569",
   "metadata": {},
   "outputs": [],
   "source": []
  }
 ],
 "metadata": {
  "kernelspec": {
   "display_name": "Python 3 (ipykernel)",
   "language": "python",
   "name": "python3"
  },
  "language_info": {
   "codemirror_mode": {
    "name": "ipython",
    "version": 3
   },
   "file_extension": ".py",
   "mimetype": "text/x-python",
   "name": "python",
   "nbconvert_exporter": "python",
   "pygments_lexer": "ipython3",
   "version": "3.8.12"
  }
 },
 "nbformat": 4,
 "nbformat_minor": 5
}
