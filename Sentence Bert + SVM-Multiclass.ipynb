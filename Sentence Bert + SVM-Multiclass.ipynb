{
 "cells": [
  {
   "cell_type": "code",
   "execution_count": 6,
   "id": "4a19bbf4",
   "metadata": {
    "ExecuteTime": {
     "end_time": "2022-01-03T11:48:12.209076Z",
     "start_time": "2022-01-03T11:48:12.201075Z"
    }
   },
   "outputs": [],
   "source": [
    "import pandas as pd\n",
    "import numpy as np\n",
    "from nltk.tokenize import sent_tokenize\n",
    "from sklearn.metrics import classification_report,accuracy_score,confusion_matrix\n",
    "from sklearn.preprocessing import LabelEncoder\n",
    "\n",
    "from sentence_transformers import SentenceTransformer\n",
    "from sklearn.svm import SVC"
   ]
  },
  {
   "cell_type": "markdown",
   "id": "9afdbfe4",
   "metadata": {},
   "source": [
    "# Approach Explanation\n",
    "\n",
    "Sentence-BERT (SBERT), a modification of the pretrained BERT network that use siamese and triplet network structures to derive semantically meaningful sentence embeddings that can be compared using cosine-similarity.\n",
    "\n",
    "1. Documents are tokenized into sentences.\n",
    "2. Sentence Embeddings is extracted from the Sentence transformer : paraphrase-MiniLM-L6-v2 model for each sentence in documents.<br>\n",
    "    <b>Note:</b> Embdedding size is 384 for each sentence.\n",
    "3. Sentence embeddings are averaged out to create document emedding\n",
    "4. document embeddings along with the label is used for training SVM Model."
   ]
  },
  {
   "cell_type": "code",
   "execution_count": 2,
   "id": "572ff855",
   "metadata": {
    "ExecuteTime": {
     "end_time": "2022-01-03T11:45:11.360354Z",
     "start_time": "2022-01-03T11:45:11.252356Z"
    }
   },
   "outputs": [
    {
     "name": "stdout",
     "output_type": "stream",
     "text": [
      "(5908, 2)\n",
      "\n",
      "Problem with a purchase shown on your statement    1993\n",
      "Incorrect information on your report               1191\n",
      "Managing an account                                 935\n",
      "Fees or interest                                    904\n",
      "Other features, terms, or problems                  885\n",
      "Name: Issue, dtype: int64\n"
     ]
    },
    {
     "data": {
      "text/html": [
       "<div>\n",
       "<style scoped>\n",
       "    .dataframe tbody tr th:only-of-type {\n",
       "        vertical-align: middle;\n",
       "    }\n",
       "\n",
       "    .dataframe tbody tr th {\n",
       "        vertical-align: top;\n",
       "    }\n",
       "\n",
       "    .dataframe thead th {\n",
       "        text-align: right;\n",
       "    }\n",
       "</style>\n",
       "<table border=\"1\" class=\"dataframe\">\n",
       "  <thead>\n",
       "    <tr style=\"text-align: right;\">\n",
       "      <th></th>\n",
       "      <th>Consumer complaint narrative</th>\n",
       "      <th>Issue</th>\n",
       "    </tr>\n",
       "  </thead>\n",
       "  <tbody>\n",
       "    <tr>\n",
       "      <th>57519</th>\n",
       "      <td>The Citibank Credit Card company is a ridiculo...</td>\n",
       "      <td>Problem with a purchase shown on your statement</td>\n",
       "    </tr>\n",
       "    <tr>\n",
       "      <th>2790</th>\n",
       "      <td>Hi I went to a local bar on the evening of XX/...</td>\n",
       "      <td>Problem with a purchase shown on your statement</td>\n",
       "    </tr>\n",
       "    <tr>\n",
       "      <th>54277</th>\n",
       "      <td>I transferred XXXX ThankYou Points ( Citibank ...</td>\n",
       "      <td>Other features, terms, or problems</td>\n",
       "    </tr>\n",
       "    <tr>\n",
       "      <th>587</th>\n",
       "      <td>I was in XXXX XXXX and used my CITIBANK credit...</td>\n",
       "      <td>Problem with a purchase shown on your statement</td>\n",
       "    </tr>\n",
       "    <tr>\n",
       "      <th>12420</th>\n",
       "      <td>I clicked a promotion on citibank 's website t...</td>\n",
       "      <td>Managing an account</td>\n",
       "    </tr>\n",
       "  </tbody>\n",
       "</table>\n",
       "</div>"
      ],
      "text/plain": [
       "                            Consumer complaint narrative  \\\n",
       "57519  The Citibank Credit Card company is a ridiculo...   \n",
       "2790   Hi I went to a local bar on the evening of XX/...   \n",
       "54277  I transferred XXXX ThankYou Points ( Citibank ...   \n",
       "587    I was in XXXX XXXX and used my CITIBANK credit...   \n",
       "12420  I clicked a promotion on citibank 's website t...   \n",
       "\n",
       "                                                 Issue  \n",
       "57519  Problem with a purchase shown on your statement  \n",
       "2790   Problem with a purchase shown on your statement  \n",
       "54277               Other features, terms, or problems  \n",
       "587    Problem with a purchase shown on your statement  \n",
       "12420                              Managing an account  "
      ]
     },
     "execution_count": 2,
     "metadata": {},
     "output_type": "execute_result"
    }
   ],
   "source": [
    "train_data = pd.read_csv('train_dataset_multiclass.csv',index_col=0)\n",
    "print(train_data.shape,end=\"\\n\\n\")\n",
    "print(train_data['Issue'].value_counts())\n",
    "train_data.head()"
   ]
  },
  {
   "cell_type": "code",
   "execution_count": 3,
   "id": "295a9d97",
   "metadata": {
    "ExecuteTime": {
     "end_time": "2022-01-03T11:45:25.002559Z",
     "start_time": "2022-01-03T11:45:24.951515Z"
    }
   },
   "outputs": [
    {
     "name": "stdout",
     "output_type": "stream",
     "text": [
      "(2532, 2)\n",
      "\n",
      "Problem with a purchase shown on your statement    854\n",
      "Incorrect information on your report               510\n",
      "Managing an account                                401\n",
      "Fees or interest                                   388\n",
      "Other features, terms, or problems                 379\n",
      "Name: Issue, dtype: int64\n"
     ]
    },
    {
     "data": {
      "text/html": [
       "<div>\n",
       "<style scoped>\n",
       "    .dataframe tbody tr th:only-of-type {\n",
       "        vertical-align: middle;\n",
       "    }\n",
       "\n",
       "    .dataframe tbody tr th {\n",
       "        vertical-align: top;\n",
       "    }\n",
       "\n",
       "    .dataframe thead th {\n",
       "        text-align: right;\n",
       "    }\n",
       "</style>\n",
       "<table border=\"1\" class=\"dataframe\">\n",
       "  <thead>\n",
       "    <tr style=\"text-align: right;\">\n",
       "      <th></th>\n",
       "      <th>Consumer complaint narrative</th>\n",
       "      <th>Issue</th>\n",
       "    </tr>\n",
       "  </thead>\n",
       "  <tbody>\n",
       "    <tr>\n",
       "      <th>17357</th>\n",
       "      <td>Back in 2015, we noticed a charge on our Macy ...</td>\n",
       "      <td>Fees or interest</td>\n",
       "    </tr>\n",
       "    <tr>\n",
       "      <th>6524</th>\n",
       "      <td>- On XX/XX/XXXX, I purchased 1 ticket XXXX {$3...</td>\n",
       "      <td>Problem with a purchase shown on your statement</td>\n",
       "    </tr>\n",
       "    <tr>\n",
       "      <th>23689</th>\n",
       "      <td>I hope all is well ... \\nThe reason why Im wri...</td>\n",
       "      <td>Fees or interest</td>\n",
       "    </tr>\n",
       "    <tr>\n",
       "      <th>6960</th>\n",
       "      <td>Citibank had requested some XXXX documents ear...</td>\n",
       "      <td>Managing an account</td>\n",
       "    </tr>\n",
       "    <tr>\n",
       "      <th>7204</th>\n",
       "      <td>On XX/XX/2021 I authorized a payment of amount...</td>\n",
       "      <td>Managing an account</td>\n",
       "    </tr>\n",
       "  </tbody>\n",
       "</table>\n",
       "</div>"
      ],
      "text/plain": [
       "                            Consumer complaint narrative  \\\n",
       "17357  Back in 2015, we noticed a charge on our Macy ...   \n",
       "6524   - On XX/XX/XXXX, I purchased 1 ticket XXXX {$3...   \n",
       "23689  I hope all is well ... \\nThe reason why Im wri...   \n",
       "6960   Citibank had requested some XXXX documents ear...   \n",
       "7204   On XX/XX/2021 I authorized a payment of amount...   \n",
       "\n",
       "                                                 Issue  \n",
       "17357                                 Fees or interest  \n",
       "6524   Problem with a purchase shown on your statement  \n",
       "23689                                 Fees or interest  \n",
       "6960                               Managing an account  \n",
       "7204                               Managing an account  "
      ]
     },
     "execution_count": 3,
     "metadata": {},
     "output_type": "execute_result"
    }
   ],
   "source": [
    "test_data = pd.read_csv('test_dataset_multiclass.csv',index_col=0)\n",
    "print(test_data.shape,end=\"\\n\\n\")\n",
    "print(test_data['Issue'].value_counts())\n",
    "test_data.head()"
   ]
  },
  {
   "cell_type": "code",
   "execution_count": 4,
   "id": "902d4b66",
   "metadata": {
    "ExecuteTime": {
     "end_time": "2022-01-03T11:45:46.689269Z",
     "start_time": "2022-01-03T11:45:30.188296Z"
    }
   },
   "outputs": [],
   "source": [
    "model = SentenceTransformer('paraphrase-MiniLM-L6-v2')"
   ]
  },
  {
   "cell_type": "code",
   "execution_count": 5,
   "id": "5b36ca90",
   "metadata": {
    "ExecuteTime": {
     "end_time": "2022-01-03T11:47:13.408547Z",
     "start_time": "2022-01-03T11:45:57.376078Z"
    }
   },
   "outputs": [],
   "source": [
    "train_data['Embeddings'] = train_data['Consumer complaint narrative'].apply(lambda x: np.mean(model.encode(sent_tokenize(x)),axis=0))"
   ]
  },
  {
   "cell_type": "code",
   "execution_count": 7,
   "id": "5f0e8314",
   "metadata": {
    "ExecuteTime": {
     "end_time": "2022-01-03T11:48:52.078105Z",
     "start_time": "2022-01-03T11:48:52.059110Z"
    }
   },
   "outputs": [
    {
     "data": {
      "text/plain": [
       "LabelEncoder()"
      ]
     },
     "execution_count": 7,
     "metadata": {},
     "output_type": "execute_result"
    }
   ],
   "source": [
    "le = LabelEncoder()\n",
    "le.fit(train_data['Issue'])"
   ]
  },
  {
   "cell_type": "code",
   "execution_count": 11,
   "id": "351b6400",
   "metadata": {
    "ExecuteTime": {
     "end_time": "2022-01-03T11:50:52.256829Z",
     "start_time": "2022-01-03T11:50:52.242832Z"
    }
   },
   "outputs": [
    {
     "data": {
      "text/plain": [
       "array([4, 4, 3, ..., 1, 0, 2])"
      ]
     },
     "execution_count": 11,
     "metadata": {},
     "output_type": "execute_result"
    }
   ],
   "source": [
    "le.transform(train_data['Issue'])"
   ]
  },
  {
   "cell_type": "code",
   "execution_count": 12,
   "id": "4a539f84",
   "metadata": {
    "ExecuteTime": {
     "end_time": "2022-01-03T11:50:54.583968Z",
     "start_time": "2022-01-03T11:50:54.560018Z"
    }
   },
   "outputs": [
    {
     "data": {
      "text/html": [
       "<div>\n",
       "<style scoped>\n",
       "    .dataframe tbody tr th:only-of-type {\n",
       "        vertical-align: middle;\n",
       "    }\n",
       "\n",
       "    .dataframe tbody tr th {\n",
       "        vertical-align: top;\n",
       "    }\n",
       "\n",
       "    .dataframe thead th {\n",
       "        text-align: right;\n",
       "    }\n",
       "</style>\n",
       "<table border=\"1\" class=\"dataframe\">\n",
       "  <thead>\n",
       "    <tr style=\"text-align: right;\">\n",
       "      <th></th>\n",
       "      <th>Consumer complaint narrative</th>\n",
       "      <th>Issue</th>\n",
       "      <th>Embeddings</th>\n",
       "      <th>Label</th>\n",
       "    </tr>\n",
       "  </thead>\n",
       "  <tbody>\n",
       "    <tr>\n",
       "      <th>57519</th>\n",
       "      <td>The Citibank Credit Card company is a ridiculo...</td>\n",
       "      <td>Problem with a purchase shown on your statement</td>\n",
       "      <td>[-0.2623762, -0.222208, -0.35714966, 0.0858370...</td>\n",
       "      <td>4</td>\n",
       "    </tr>\n",
       "    <tr>\n",
       "      <th>2790</th>\n",
       "      <td>Hi I went to a local bar on the evening of XX/...</td>\n",
       "      <td>Problem with a purchase shown on your statement</td>\n",
       "      <td>[-0.09492934, 0.12373071, -0.19660375, -0.0297...</td>\n",
       "      <td>4</td>\n",
       "    </tr>\n",
       "  </tbody>\n",
       "</table>\n",
       "</div>"
      ],
      "text/plain": [
       "                            Consumer complaint narrative  \\\n",
       "57519  The Citibank Credit Card company is a ridiculo...   \n",
       "2790   Hi I went to a local bar on the evening of XX/...   \n",
       "\n",
       "                                                 Issue  \\\n",
       "57519  Problem with a purchase shown on your statement   \n",
       "2790   Problem with a purchase shown on your statement   \n",
       "\n",
       "                                              Embeddings  Label  \n",
       "57519  [-0.2623762, -0.222208, -0.35714966, 0.0858370...      4  \n",
       "2790   [-0.09492934, 0.12373071, -0.19660375, -0.0297...      4  "
      ]
     },
     "execution_count": 12,
     "metadata": {},
     "output_type": "execute_result"
    }
   ],
   "source": [
    "train_data['Label'] = le.transform(train_data['Issue'])\n",
    "train_data.head(2)"
   ]
  },
  {
   "cell_type": "code",
   "execution_count": 13,
   "id": "d04ca418",
   "metadata": {
    "ExecuteTime": {
     "end_time": "2022-01-03T11:51:39.570578Z",
     "start_time": "2022-01-03T11:51:09.512968Z"
    }
   },
   "outputs": [],
   "source": [
    "test_data['Embeddings'] = test_data['Consumer complaint narrative'].apply(lambda x: np.mean(model.encode(sent_tokenize(x)),axis=0))"
   ]
  },
  {
   "cell_type": "code",
   "execution_count": 14,
   "id": "70d2933d",
   "metadata": {
    "ExecuteTime": {
     "end_time": "2022-01-03T11:51:56.737929Z",
     "start_time": "2022-01-03T11:51:56.722973Z"
    }
   },
   "outputs": [
    {
     "data": {
      "text/html": [
       "<div>\n",
       "<style scoped>\n",
       "    .dataframe tbody tr th:only-of-type {\n",
       "        vertical-align: middle;\n",
       "    }\n",
       "\n",
       "    .dataframe tbody tr th {\n",
       "        vertical-align: top;\n",
       "    }\n",
       "\n",
       "    .dataframe thead th {\n",
       "        text-align: right;\n",
       "    }\n",
       "</style>\n",
       "<table border=\"1\" class=\"dataframe\">\n",
       "  <thead>\n",
       "    <tr style=\"text-align: right;\">\n",
       "      <th></th>\n",
       "      <th>Consumer complaint narrative</th>\n",
       "      <th>Issue</th>\n",
       "      <th>Embeddings</th>\n",
       "      <th>Label</th>\n",
       "    </tr>\n",
       "  </thead>\n",
       "  <tbody>\n",
       "    <tr>\n",
       "      <th>17357</th>\n",
       "      <td>Back in 2015, we noticed a charge on our Macy ...</td>\n",
       "      <td>Fees or interest</td>\n",
       "      <td>[0.0076910784, -0.15155736, -0.025334315, -0.0...</td>\n",
       "      <td>0</td>\n",
       "    </tr>\n",
       "    <tr>\n",
       "      <th>6524</th>\n",
       "      <td>- On XX/XX/XXXX, I purchased 1 ticket XXXX {$3...</td>\n",
       "      <td>Problem with a purchase shown on your statement</td>\n",
       "      <td>[-0.27412552, -0.13065003, -0.103624605, 0.148...</td>\n",
       "      <td>4</td>\n",
       "    </tr>\n",
       "  </tbody>\n",
       "</table>\n",
       "</div>"
      ],
      "text/plain": [
       "                            Consumer complaint narrative  \\\n",
       "17357  Back in 2015, we noticed a charge on our Macy ...   \n",
       "6524   - On XX/XX/XXXX, I purchased 1 ticket XXXX {$3...   \n",
       "\n",
       "                                                 Issue  \\\n",
       "17357                                 Fees or interest   \n",
       "6524   Problem with a purchase shown on your statement   \n",
       "\n",
       "                                              Embeddings  Label  \n",
       "17357  [0.0076910784, -0.15155736, -0.025334315, -0.0...      0  \n",
       "6524   [-0.27412552, -0.13065003, -0.103624605, 0.148...      4  "
      ]
     },
     "execution_count": 14,
     "metadata": {},
     "output_type": "execute_result"
    }
   ],
   "source": [
    "test_data['Label'] = le.transform(test_data['Issue'])\n",
    "test_data.head(2)"
   ]
  },
  {
   "cell_type": "code",
   "execution_count": 15,
   "id": "933ae3dc",
   "metadata": {
    "ExecuteTime": {
     "end_time": "2022-01-03T11:52:13.302176Z",
     "start_time": "2022-01-03T11:52:12.186858Z"
    }
   },
   "outputs": [],
   "source": [
    "X_train = train_data['Embeddings'].apply(pd.Series)\n",
    "y_train = train_data['Label']\n",
    "\n",
    "X_test = test_data['Embeddings'].apply(pd.Series)\n",
    "y_test = test_data['Label']"
   ]
  },
  {
   "cell_type": "code",
   "execution_count": 16,
   "id": "c3610416",
   "metadata": {
    "ExecuteTime": {
     "end_time": "2022-01-03T11:52:20.485956Z",
     "start_time": "2022-01-03T11:52:16.677839Z"
    }
   },
   "outputs": [
    {
     "data": {
      "text/plain": [
       "SVC()"
      ]
     },
     "execution_count": 16,
     "metadata": {},
     "output_type": "execute_result"
    }
   ],
   "source": [
    "clf = SVC()\n",
    "clf.fit(X_train,y_train)"
   ]
  },
  {
   "cell_type": "code",
   "execution_count": 17,
   "id": "a90cf81c",
   "metadata": {
    "ExecuteTime": {
     "end_time": "2022-01-03T11:52:25.911628Z",
     "start_time": "2022-01-03T11:52:23.289305Z"
    }
   },
   "outputs": [],
   "source": [
    "predictions = clf.predict(X_test)"
   ]
  },
  {
   "cell_type": "code",
   "execution_count": 18,
   "id": "ee63c74d",
   "metadata": {
    "ExecuteTime": {
     "end_time": "2022-01-03T11:52:26.572293Z",
     "start_time": "2022-01-03T11:52:26.558266Z"
    }
   },
   "outputs": [
    {
     "data": {
      "text/plain": [
       "0.7883096366508688"
      ]
     },
     "execution_count": 18,
     "metadata": {},
     "output_type": "execute_result"
    }
   ],
   "source": [
    "accuracy_score(y_test,predictions)"
   ]
  },
  {
   "cell_type": "code",
   "execution_count": 19,
   "id": "9ddea5c1",
   "metadata": {
    "ExecuteTime": {
     "end_time": "2022-01-03T11:52:27.787433Z",
     "start_time": "2022-01-03T11:52:27.770425Z"
    }
   },
   "outputs": [
    {
     "name": "stdout",
     "output_type": "stream",
     "text": [
      "              precision    recall  f1-score   support\n",
      "\n",
      "           0       0.79      0.74      0.76       388\n",
      "           1       0.80      0.83      0.81       510\n",
      "           2       0.81      0.85      0.83       401\n",
      "           3       0.69      0.53      0.60       379\n",
      "           4       0.80      0.87      0.84       854\n",
      "\n",
      "    accuracy                           0.79      2532\n",
      "   macro avg       0.78      0.76      0.77      2532\n",
      "weighted avg       0.78      0.79      0.78      2532\n",
      "\n"
     ]
    }
   ],
   "source": [
    "print(classification_report(y_test,predictions))"
   ]
  },
  {
   "cell_type": "code",
   "execution_count": null,
   "id": "c82aff6d",
   "metadata": {},
   "outputs": [],
   "source": [
    "print(confus)"
   ]
  }
 ],
 "metadata": {
  "kernelspec": {
   "display_name": "Python 3 (ipykernel)",
   "language": "python",
   "name": "python3"
  },
  "language_info": {
   "codemirror_mode": {
    "name": "ipython",
    "version": 3
   },
   "file_extension": ".py",
   "mimetype": "text/x-python",
   "name": "python",
   "nbconvert_exporter": "python",
   "pygments_lexer": "ipython3",
   "version": "3.10.9"
  }
 },
 "nbformat": 4,
 "nbformat_minor": 5
}
