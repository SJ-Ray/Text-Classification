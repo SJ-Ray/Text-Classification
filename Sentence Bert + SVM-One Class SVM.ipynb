{
 "cells": [
  {
   "cell_type": "code",
   "execution_count": 1,
   "id": "4a19bbf4",
   "metadata": {
    "ExecuteTime": {
     "end_time": "2022-01-04T06:48:02.847208Z",
     "start_time": "2022-01-04T06:47:49.709736Z"
    }
   },
   "outputs": [],
   "source": [
    "import pandas as pd\n",
    "import numpy as np\n",
    "from nltk.tokenize import sent_tokenize\n",
    "from sklearn.metrics import classification_report,accuracy_score,confusion_matrix\n",
    "from sklearn.preprocessing import LabelEncoder\n",
    "\n",
    "from sentence_transformers import SentenceTransformer\n",
    "from sklearn.svm import SVC,OneClassSVM"
   ]
  },
  {
   "cell_type": "markdown",
   "id": "9afdbfe4",
   "metadata": {},
   "source": [
    "# Approach Explanation\n",
    "\n",
    "Sentence-BERT (SBERT), a modification of the pretrained BERT network that use siamese and triplet network structures to derive semantically meaningful sentence embeddings that can be compared using cosine-similarity.\n",
    "\n",
    "1. Documents are tokenized into sentences.\n",
    "2. Sentence Embeddings is extracted from the Sentence transformer : paraphrase-MiniLM-L6-v2 model for each sentence in documents.<br>\n",
    "    <b>Note:</b> Embdedding size is 384 for each sentence.\n",
    "3. Sentence embeddings are averaged out to create document emedding\n",
    "4. document embeddings along with the label is used for training SVM Model."
   ]
  },
  {
   "cell_type": "code",
   "execution_count": 2,
   "id": "572ff855",
   "metadata": {
    "ExecuteTime": {
     "end_time": "2022-01-04T06:48:03.286930Z",
     "start_time": "2022-01-04T06:48:02.852935Z"
    }
   },
   "outputs": [
    {
     "name": "stdout",
     "output_type": "stream",
     "text": [
      "(5908, 2)\n",
      "\n",
      "Problem with a purchase shown on your statement    1993\n",
      "Incorrect information on your report               1191\n",
      "Managing an account                                 935\n",
      "Fees or interest                                    904\n",
      "Other features, terms, or problems                  885\n",
      "Name: Issue, dtype: int64\n"
     ]
    },
    {
     "data": {
      "text/html": [
       "<div>\n",
       "<style scoped>\n",
       "    .dataframe tbody tr th:only-of-type {\n",
       "        vertical-align: middle;\n",
       "    }\n",
       "\n",
       "    .dataframe tbody tr th {\n",
       "        vertical-align: top;\n",
       "    }\n",
       "\n",
       "    .dataframe thead th {\n",
       "        text-align: right;\n",
       "    }\n",
       "</style>\n",
       "<table border=\"1\" class=\"dataframe\">\n",
       "  <thead>\n",
       "    <tr style=\"text-align: right;\">\n",
       "      <th></th>\n",
       "      <th>Consumer complaint narrative</th>\n",
       "      <th>Issue</th>\n",
       "    </tr>\n",
       "  </thead>\n",
       "  <tbody>\n",
       "    <tr>\n",
       "      <th>57519</th>\n",
       "      <td>The Citibank Credit Card company is a ridiculo...</td>\n",
       "      <td>Problem with a purchase shown on your statement</td>\n",
       "    </tr>\n",
       "    <tr>\n",
       "      <th>2790</th>\n",
       "      <td>Hi I went to a local bar on the evening of XX/...</td>\n",
       "      <td>Problem with a purchase shown on your statement</td>\n",
       "    </tr>\n",
       "    <tr>\n",
       "      <th>54277</th>\n",
       "      <td>I transferred XXXX ThankYou Points ( Citibank ...</td>\n",
       "      <td>Other features, terms, or problems</td>\n",
       "    </tr>\n",
       "    <tr>\n",
       "      <th>587</th>\n",
       "      <td>I was in XXXX XXXX and used my CITIBANK credit...</td>\n",
       "      <td>Problem with a purchase shown on your statement</td>\n",
       "    </tr>\n",
       "    <tr>\n",
       "      <th>12420</th>\n",
       "      <td>I clicked a promotion on citibank 's website t...</td>\n",
       "      <td>Managing an account</td>\n",
       "    </tr>\n",
       "  </tbody>\n",
       "</table>\n",
       "</div>"
      ],
      "text/plain": [
       "                            Consumer complaint narrative  \\\n",
       "57519  The Citibank Credit Card company is a ridiculo...   \n",
       "2790   Hi I went to a local bar on the evening of XX/...   \n",
       "54277  I transferred XXXX ThankYou Points ( Citibank ...   \n",
       "587    I was in XXXX XXXX and used my CITIBANK credit...   \n",
       "12420  I clicked a promotion on citibank 's website t...   \n",
       "\n",
       "                                                 Issue  \n",
       "57519  Problem with a purchase shown on your statement  \n",
       "2790   Problem with a purchase shown on your statement  \n",
       "54277               Other features, terms, or problems  \n",
       "587    Problem with a purchase shown on your statement  \n",
       "12420                              Managing an account  "
      ]
     },
     "execution_count": 2,
     "metadata": {},
     "output_type": "execute_result"
    }
   ],
   "source": [
    "train_data = pd.read_csv('train_dataset_multiclass.csv',index_col=0)\n",
    "print(train_data.shape,end=\"\\n\\n\")\n",
    "print(train_data['Issue'].value_counts())\n",
    "train_data.head()"
   ]
  },
  {
   "cell_type": "code",
   "execution_count": 3,
   "id": "295a9d97",
   "metadata": {
    "ExecuteTime": {
     "end_time": "2022-01-04T06:48:03.519130Z",
     "start_time": "2022-01-04T06:48:03.293932Z"
    }
   },
   "outputs": [
    {
     "name": "stdout",
     "output_type": "stream",
     "text": [
      "(2532, 2)\n",
      "\n",
      "Problem with a purchase shown on your statement    854\n",
      "Incorrect information on your report               510\n",
      "Managing an account                                401\n",
      "Fees or interest                                   388\n",
      "Other features, terms, or problems                 379\n",
      "Name: Issue, dtype: int64\n"
     ]
    },
    {
     "data": {
      "text/html": [
       "<div>\n",
       "<style scoped>\n",
       "    .dataframe tbody tr th:only-of-type {\n",
       "        vertical-align: middle;\n",
       "    }\n",
       "\n",
       "    .dataframe tbody tr th {\n",
       "        vertical-align: top;\n",
       "    }\n",
       "\n",
       "    .dataframe thead th {\n",
       "        text-align: right;\n",
       "    }\n",
       "</style>\n",
       "<table border=\"1\" class=\"dataframe\">\n",
       "  <thead>\n",
       "    <tr style=\"text-align: right;\">\n",
       "      <th></th>\n",
       "      <th>Consumer complaint narrative</th>\n",
       "      <th>Issue</th>\n",
       "    </tr>\n",
       "  </thead>\n",
       "  <tbody>\n",
       "    <tr>\n",
       "      <th>17357</th>\n",
       "      <td>Back in 2015, we noticed a charge on our Macy ...</td>\n",
       "      <td>Fees or interest</td>\n",
       "    </tr>\n",
       "    <tr>\n",
       "      <th>6524</th>\n",
       "      <td>- On XX/XX/XXXX, I purchased 1 ticket XXXX {$3...</td>\n",
       "      <td>Problem with a purchase shown on your statement</td>\n",
       "    </tr>\n",
       "    <tr>\n",
       "      <th>23689</th>\n",
       "      <td>I hope all is well ... \\nThe reason why Im wri...</td>\n",
       "      <td>Fees or interest</td>\n",
       "    </tr>\n",
       "    <tr>\n",
       "      <th>6960</th>\n",
       "      <td>Citibank had requested some XXXX documents ear...</td>\n",
       "      <td>Managing an account</td>\n",
       "    </tr>\n",
       "    <tr>\n",
       "      <th>7204</th>\n",
       "      <td>On XX/XX/2021 I authorized a payment of amount...</td>\n",
       "      <td>Managing an account</td>\n",
       "    </tr>\n",
       "  </tbody>\n",
       "</table>\n",
       "</div>"
      ],
      "text/plain": [
       "                            Consumer complaint narrative  \\\n",
       "17357  Back in 2015, we noticed a charge on our Macy ...   \n",
       "6524   - On XX/XX/XXXX, I purchased 1 ticket XXXX {$3...   \n",
       "23689  I hope all is well ... \\nThe reason why Im wri...   \n",
       "6960   Citibank had requested some XXXX documents ear...   \n",
       "7204   On XX/XX/2021 I authorized a payment of amount...   \n",
       "\n",
       "                                                 Issue  \n",
       "17357                                 Fees or interest  \n",
       "6524   Problem with a purchase shown on your statement  \n",
       "23689                                 Fees or interest  \n",
       "6960                               Managing an account  \n",
       "7204                               Managing an account  "
      ]
     },
     "execution_count": 3,
     "metadata": {},
     "output_type": "execute_result"
    }
   ],
   "source": [
    "test_data = pd.read_csv('test_dataset_multiclass.csv',index_col=0)\n",
    "print(test_data.shape,end=\"\\n\\n\")\n",
    "print(test_data['Issue'].value_counts())\n",
    "test_data.head()"
   ]
  },
  {
   "cell_type": "code",
   "execution_count": 4,
   "id": "902d4b66",
   "metadata": {
    "ExecuteTime": {
     "end_time": "2022-01-04T06:48:29.570421Z",
     "start_time": "2022-01-04T06:48:03.528943Z"
    }
   },
   "outputs": [],
   "source": [
    "model = SentenceTransformer('paraphrase-MiniLM-L6-v2')"
   ]
  },
  {
   "cell_type": "code",
   "execution_count": 5,
   "id": "5b36ca90",
   "metadata": {
    "ExecuteTime": {
     "end_time": "2022-01-04T06:55:24.990471Z",
     "start_time": "2022-01-04T06:48:29.576318Z"
    }
   },
   "outputs": [],
   "source": [
    "train_data['Embeddings'] = train_data['Consumer complaint narrative'].apply(lambda x: np.mean(model.encode(sent_tokenize(x)),axis=0))"
   ]
  },
  {
   "cell_type": "code",
   "execution_count": 6,
   "id": "c681b6ae",
   "metadata": {
    "ExecuteTime": {
     "end_time": "2022-01-04T06:55:25.006472Z",
     "start_time": "2022-01-04T06:55:24.992473Z"
    }
   },
   "outputs": [],
   "source": [
    "train_data['Label'] = (train_data['Issue']=='Problem with a purchase shown on your statement').astype(int)"
   ]
  },
  {
   "cell_type": "code",
   "execution_count": 7,
   "id": "b6398029",
   "metadata": {
    "ExecuteTime": {
     "end_time": "2022-01-04T06:55:25.021473Z",
     "start_time": "2022-01-04T06:55:25.008474Z"
    }
   },
   "outputs": [
    {
     "data": {
      "text/plain": [
       "0    3915\n",
       "1    1993\n",
       "Name: Label, dtype: int64"
      ]
     },
     "execution_count": 7,
     "metadata": {},
     "output_type": "execute_result"
    }
   ],
   "source": [
    "train_data['Label'].value_counts()"
   ]
  },
  {
   "cell_type": "code",
   "execution_count": 8,
   "id": "d04ca418",
   "metadata": {
    "ExecuteTime": {
     "end_time": "2022-01-04T06:56:00.394010Z",
     "start_time": "2022-01-04T06:55:25.023474Z"
    }
   },
   "outputs": [],
   "source": [
    "test_data['Embeddings'] = test_data['Consumer complaint narrative'].apply(lambda x: np.mean(model.encode(sent_tokenize(x)),axis=0))"
   ]
  },
  {
   "cell_type": "code",
   "execution_count": 9,
   "id": "08ebadf7",
   "metadata": {
    "ExecuteTime": {
     "end_time": "2022-01-04T06:56:00.409941Z",
     "start_time": "2022-01-04T06:56:00.396944Z"
    }
   },
   "outputs": [],
   "source": [
    "test_data['Label'] = (test_data['Issue']=='Problem with a purchase shown on your statement').astype(int)"
   ]
  },
  {
   "cell_type": "code",
   "execution_count": 10,
   "id": "499d8b1a",
   "metadata": {
    "ExecuteTime": {
     "end_time": "2022-01-04T06:56:00.425943Z",
     "start_time": "2022-01-04T06:56:00.412941Z"
    }
   },
   "outputs": [
    {
     "data": {
      "text/plain": [
       "0    1678\n",
       "1     854\n",
       "Name: Label, dtype: int64"
      ]
     },
     "execution_count": 10,
     "metadata": {},
     "output_type": "execute_result"
    }
   ],
   "source": [
    "test_data['Label'].value_counts()"
   ]
  },
  {
   "cell_type": "code",
   "execution_count": 11,
   "id": "82493877",
   "metadata": {
    "ExecuteTime": {
     "end_time": "2022-01-04T06:56:00.441984Z",
     "start_time": "2022-01-04T06:56:00.427938Z"
    }
   },
   "outputs": [],
   "source": [
    "one_class_train_data = train_data[train_data['Label']==1]"
   ]
  },
  {
   "cell_type": "code",
   "execution_count": 12,
   "id": "61cd75e9",
   "metadata": {
    "ExecuteTime": {
     "end_time": "2022-01-04T06:56:00.473942Z",
     "start_time": "2022-01-04T06:56:00.442941Z"
    }
   },
   "outputs": [
    {
     "data": {
      "text/html": [
       "<div>\n",
       "<style scoped>\n",
       "    .dataframe tbody tr th:only-of-type {\n",
       "        vertical-align: middle;\n",
       "    }\n",
       "\n",
       "    .dataframe tbody tr th {\n",
       "        vertical-align: top;\n",
       "    }\n",
       "\n",
       "    .dataframe thead th {\n",
       "        text-align: right;\n",
       "    }\n",
       "</style>\n",
       "<table border=\"1\" class=\"dataframe\">\n",
       "  <thead>\n",
       "    <tr style=\"text-align: right;\">\n",
       "      <th></th>\n",
       "      <th>Consumer complaint narrative</th>\n",
       "      <th>Issue</th>\n",
       "      <th>Embeddings</th>\n",
       "      <th>Label</th>\n",
       "    </tr>\n",
       "  </thead>\n",
       "  <tbody>\n",
       "    <tr>\n",
       "      <th>57519</th>\n",
       "      <td>The Citibank Credit Card company is a ridiculo...</td>\n",
       "      <td>Problem with a purchase shown on your statement</td>\n",
       "      <td>[-0.2623762, -0.222208, -0.35714966, 0.0858370...</td>\n",
       "      <td>1</td>\n",
       "    </tr>\n",
       "    <tr>\n",
       "      <th>2790</th>\n",
       "      <td>Hi I went to a local bar on the evening of XX/...</td>\n",
       "      <td>Problem with a purchase shown on your statement</td>\n",
       "      <td>[-0.09492934, 0.12373071, -0.19660375, -0.0297...</td>\n",
       "      <td>1</td>\n",
       "    </tr>\n",
       "    <tr>\n",
       "      <th>587</th>\n",
       "      <td>I was in XXXX XXXX and used my CITIBANK credit...</td>\n",
       "      <td>Problem with a purchase shown on your statement</td>\n",
       "      <td>[-0.2384191, -0.1726675, -0.1371744, 0.1643079...</td>\n",
       "      <td>1</td>\n",
       "    </tr>\n",
       "    <tr>\n",
       "      <th>6618</th>\n",
       "      <td>XXXX XXXX XXXX XXXX XXXX  XXXX ILLINOIS XXXX C...</td>\n",
       "      <td>Problem with a purchase shown on your statement</td>\n",
       "      <td>[-0.31163684, -0.031842433, -0.21842934, 0.134...</td>\n",
       "      <td>1</td>\n",
       "    </tr>\n",
       "    <tr>\n",
       "      <th>14373</th>\n",
       "      <td>The account had two pending promotional offers...</td>\n",
       "      <td>Problem with a purchase shown on your statement</td>\n",
       "      <td>[-0.24707998, 0.09534607, 0.07385148, -0.07841...</td>\n",
       "      <td>1</td>\n",
       "    </tr>\n",
       "  </tbody>\n",
       "</table>\n",
       "</div>"
      ],
      "text/plain": [
       "                            Consumer complaint narrative  \\\n",
       "57519  The Citibank Credit Card company is a ridiculo...   \n",
       "2790   Hi I went to a local bar on the evening of XX/...   \n",
       "587    I was in XXXX XXXX and used my CITIBANK credit...   \n",
       "6618   XXXX XXXX XXXX XXXX XXXX  XXXX ILLINOIS XXXX C...   \n",
       "14373  The account had two pending promotional offers...   \n",
       "\n",
       "                                                 Issue  \\\n",
       "57519  Problem with a purchase shown on your statement   \n",
       "2790   Problem with a purchase shown on your statement   \n",
       "587    Problem with a purchase shown on your statement   \n",
       "6618   Problem with a purchase shown on your statement   \n",
       "14373  Problem with a purchase shown on your statement   \n",
       "\n",
       "                                              Embeddings  Label  \n",
       "57519  [-0.2623762, -0.222208, -0.35714966, 0.0858370...      1  \n",
       "2790   [-0.09492934, 0.12373071, -0.19660375, -0.0297...      1  \n",
       "587    [-0.2384191, -0.1726675, -0.1371744, 0.1643079...      1  \n",
       "6618   [-0.31163684, -0.031842433, -0.21842934, 0.134...      1  \n",
       "14373  [-0.24707998, 0.09534607, 0.07385148, -0.07841...      1  "
      ]
     },
     "execution_count": 12,
     "metadata": {},
     "output_type": "execute_result"
    }
   ],
   "source": [
    "one_class_train_data.head()"
   ]
  },
  {
   "cell_type": "code",
   "execution_count": 13,
   "id": "f7d630be",
   "metadata": {
    "ExecuteTime": {
     "end_time": "2022-01-04T06:56:00.809867Z",
     "start_time": "2022-01-04T06:56:00.476942Z"
    }
   },
   "outputs": [],
   "source": [
    "one_class_X_train = one_class_train_data['Embeddings'].apply(pd.Series)"
   ]
  },
  {
   "cell_type": "code",
   "execution_count": 14,
   "id": "35e5e972",
   "metadata": {
    "ExecuteTime": {
     "end_time": "2022-01-04T06:56:00.825577Z",
     "start_time": "2022-01-04T06:56:00.811578Z"
    }
   },
   "outputs": [
    {
     "data": {
      "text/plain": [
       "(1993, 384)"
      ]
     },
     "execution_count": 14,
     "metadata": {},
     "output_type": "execute_result"
    }
   ],
   "source": [
    "one_class_X_train.shape"
   ]
  },
  {
   "cell_type": "code",
   "execution_count": 15,
   "id": "92534ed4",
   "metadata": {
    "ExecuteTime": {
     "end_time": "2022-01-04T06:56:01.288400Z",
     "start_time": "2022-01-04T06:56:00.828586Z"
    }
   },
   "outputs": [
    {
     "data": {
      "text/plain": [
       "OneClassSVM()"
      ]
     },
     "execution_count": 15,
     "metadata": {},
     "output_type": "execute_result"
    }
   ],
   "source": [
    "svc_one_class_model = OneClassSVM()\n",
    "svc_one_class_model.fit(one_class_X_train)"
   ]
  },
  {
   "cell_type": "code",
   "execution_count": 16,
   "id": "e53a313c",
   "metadata": {
    "ExecuteTime": {
     "end_time": "2022-01-04T06:56:01.896481Z",
     "start_time": "2022-01-04T06:56:01.289435Z"
    }
   },
   "outputs": [
    {
     "data": {
      "text/plain": [
       " 1    997\n",
       "-1    996\n",
       "dtype: int64"
      ]
     },
     "execution_count": 16,
     "metadata": {},
     "output_type": "execute_result"
    }
   ],
   "source": [
    "pd.Series(svc_one_class_model.predict(one_class_X_train)).value_counts()"
   ]
  },
  {
   "cell_type": "code",
   "execution_count": 17,
   "id": "933ae3dc",
   "metadata": {
    "ExecuteTime": {
     "end_time": "2022-01-04T06:56:02.392051Z",
     "start_time": "2022-01-04T06:56:01.898436Z"
    }
   },
   "outputs": [],
   "source": [
    "#X_train = train_data['Embeddings'].apply(pd.Series)\n",
    "#y_train = train_data['Label']\n",
    "\n",
    "X_test = test_data['Embeddings'].apply(pd.Series)\n",
    "y_test = test_data['Label']"
   ]
  },
  {
   "cell_type": "code",
   "execution_count": 18,
   "id": "ff3d14f5",
   "metadata": {
    "ExecuteTime": {
     "end_time": "2022-01-04T06:56:02.407199Z",
     "start_time": "2022-01-04T06:56:02.393449Z"
    }
   },
   "outputs": [
    {
     "data": {
      "text/plain": [
       "0    1678\n",
       "1     854\n",
       "Name: Label, dtype: int64"
      ]
     },
     "execution_count": 18,
     "metadata": {},
     "output_type": "execute_result"
    }
   ],
   "source": [
    "y_test.value_counts()"
   ]
  },
  {
   "cell_type": "code",
   "execution_count": 19,
   "id": "4d0bfd1e",
   "metadata": {
    "ExecuteTime": {
     "end_time": "2022-01-04T06:56:03.220628Z",
     "start_time": "2022-01-04T06:56:02.408197Z"
    }
   },
   "outputs": [
    {
     "data": {
      "text/plain": [
       "array([-1,  1, -1, ...,  1, -1, -1], dtype=int64)"
      ]
     },
     "execution_count": 19,
     "metadata": {},
     "output_type": "execute_result"
    }
   ],
   "source": [
    "predictions = svc_one_class_model.predict(X_test)\n",
    "predictions"
   ]
  },
  {
   "cell_type": "code",
   "execution_count": 20,
   "id": "19eee57d",
   "metadata": {
    "ExecuteTime": {
     "end_time": "2022-01-04T06:56:03.236628Z",
     "start_time": "2022-01-04T06:56:03.222628Z"
    }
   },
   "outputs": [
    {
     "data": {
      "text/plain": [
       "array([0, 1, 0, ..., 1, 0, 0], dtype=int64)"
      ]
     },
     "execution_count": 20,
     "metadata": {},
     "output_type": "execute_result"
    }
   ],
   "source": [
    "predictions[predictions==-1]=0\n",
    "predictions"
   ]
  },
  {
   "cell_type": "code",
   "execution_count": 21,
   "id": "ee63c74d",
   "metadata": {
    "ExecuteTime": {
     "end_time": "2022-01-04T06:56:03.251904Z",
     "start_time": "2022-01-04T06:56:03.238632Z"
    }
   },
   "outputs": [
    {
     "data": {
      "text/plain": [
       "0.6615323854660348"
      ]
     },
     "execution_count": 21,
     "metadata": {},
     "output_type": "execute_result"
    }
   ],
   "source": [
    "accuracy_score(y_test,predictions)"
   ]
  },
  {
   "cell_type": "code",
   "execution_count": 22,
   "id": "9ddea5c1",
   "metadata": {
    "ExecuteTime": {
     "end_time": "2022-01-04T06:56:03.282371Z",
     "start_time": "2022-01-04T06:56:03.253906Z"
    }
   },
   "outputs": [
    {
     "name": "stdout",
     "output_type": "stream",
     "text": [
      "              precision    recall  f1-score   support\n",
      "\n",
      "           0       0.74      0.76      0.75      1678\n",
      "           1       0.50      0.48      0.49       854\n",
      "\n",
      "    accuracy                           0.66      2532\n",
      "   macro avg       0.62      0.62      0.62      2532\n",
      "weighted avg       0.66      0.66      0.66      2532\n",
      "\n"
     ]
    }
   ],
   "source": [
    "print(classification_report(y_test,predictions))"
   ]
  },
  {
   "cell_type": "code",
   "execution_count": 23,
   "id": "c82aff6d",
   "metadata": {
    "ExecuteTime": {
     "end_time": "2022-01-04T06:56:17.246016Z",
     "start_time": "2022-01-04T06:56:17.234020Z"
    }
   },
   "outputs": [
    {
     "name": "stdout",
     "output_type": "stream",
     "text": [
      "[[1267  411]\n",
      " [ 446  408]]\n"
     ]
    }
   ],
   "source": [
    "print(confusion_matrix(y_test,predictions))"
   ]
  },
  {
   "cell_type": "code",
   "execution_count": 24,
   "id": "6b093edf",
   "metadata": {
    "ExecuteTime": {
     "end_time": "2022-01-04T07:31:05.031579Z",
     "start_time": "2022-01-04T07:31:05.011580Z"
    }
   },
   "outputs": [
    {
     "name": "stdout",
     "output_type": "stream",
     "text": [
      "1267 411 446 408\n"
     ]
    }
   ],
   "source": [
    "TN,FP,FN,TP = confusion_matrix(y_test,predictions).flatten()\n",
    "\n",
    "print(TN,FP,FN,TP)"
   ]
  },
  {
   "cell_type": "code",
   "execution_count": 25,
   "id": "c82f1fb2",
   "metadata": {
    "ExecuteTime": {
     "end_time": "2022-01-04T07:31:18.025753Z",
     "start_time": "2022-01-04T07:31:18.017758Z"
    }
   },
   "outputs": [
    {
     "data": {
      "text/plain": [
       "0.24493444576877235"
      ]
     },
     "execution_count": 25,
     "metadata": {},
     "output_type": "execute_result"
    }
   ],
   "source": [
    "FPR = FP/(TN+FP)\n",
    "\n",
    "FPR"
   ]
  },
  {
   "cell_type": "code",
   "execution_count": null,
   "id": "dc7e1cb8",
   "metadata": {},
   "outputs": [],
   "source": []
  }
 ],
 "metadata": {
  "kernelspec": {
   "display_name": "Python 3 (ipykernel)",
   "language": "python",
   "name": "python3"
  },
  "language_info": {
   "codemirror_mode": {
    "name": "ipython",
    "version": 3
   },
   "file_extension": ".py",
   "mimetype": "text/x-python",
   "name": "python",
   "nbconvert_exporter": "python",
   "pygments_lexer": "ipython3",
   "version": "3.10.9"
  }
 },
 "nbformat": 4,
 "nbformat_minor": 5
}
