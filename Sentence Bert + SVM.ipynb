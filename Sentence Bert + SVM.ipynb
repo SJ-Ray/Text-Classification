{
 "cells": [
  {
   "cell_type": "code",
   "execution_count": 1,
   "id": "4a19bbf4",
   "metadata": {
    "ExecuteTime": {
     "end_time": "2022-01-05T06:34:55.881702Z",
     "start_time": "2022-01-05T06:34:30.587021Z"
    }
   },
   "outputs": [],
   "source": [
    "import pandas as pd\n",
    "import numpy as np\n",
    "from nltk.tokenize import sent_tokenize\n",
    "from sklearn.metrics import classification_report,accuracy_score,confusion_matrix\n",
    "\n",
    "from sentence_transformers import SentenceTransformer\n",
    "from sklearn.svm import SVC"
   ]
  },
  {
   "cell_type": "markdown",
   "id": "9afdbfe4",
   "metadata": {},
   "source": [
    "# Approach Explanation\n",
    "\n",
    "Sentence-BERT (SBERT), a modification of the pretrained BERT network that use siamese and triplet network structures to derive semantically meaningful sentence embeddings that can be compared using cosine-similarity.\n",
    "\n",
    "1. Documents are tokenized into sentences.\n",
    "2. Sentence Embeddings is extracted from the Sentence transformer : paraphrase-MiniLM-L6-v2 model for each sentence in documents.<br>\n",
    "    <b>Note:</b> Embdedding size is 384 for each sentence.\n",
    "3. Sentence embeddings are averaged out to create document emedding\n",
    "4. document embeddings along with the label is used for training SVM Model."
   ]
  },
  {
   "cell_type": "code",
   "execution_count": 2,
   "id": "572ff855",
   "metadata": {
    "ExecuteTime": {
     "end_time": "2022-01-05T06:34:56.133805Z",
     "start_time": "2022-01-05T06:34:55.887740Z"
    }
   },
   "outputs": [
    {
     "name": "stdout",
     "output_type": "stream",
     "text": [
      "(3184, 2)\n",
      "\n",
      "Problem with a purchase shown on your statement    1993\n",
      "Incorrect information on your report               1191\n",
      "Name: Issue, dtype: int64\n"
     ]
    },
    {
     "data": {
      "text/html": [
       "<div>\n",
       "<style scoped>\n",
       "    .dataframe tbody tr th:only-of-type {\n",
       "        vertical-align: middle;\n",
       "    }\n",
       "\n",
       "    .dataframe tbody tr th {\n",
       "        vertical-align: top;\n",
       "    }\n",
       "\n",
       "    .dataframe thead th {\n",
       "        text-align: right;\n",
       "    }\n",
       "</style>\n",
       "<table border=\"1\" class=\"dataframe\">\n",
       "  <thead>\n",
       "    <tr style=\"text-align: right;\">\n",
       "      <th></th>\n",
       "      <th>Consumer complaint narrative</th>\n",
       "      <th>Issue</th>\n",
       "    </tr>\n",
       "  </thead>\n",
       "  <tbody>\n",
       "    <tr>\n",
       "      <th>554</th>\n",
       "      <td>On XX/XX/2018 two charges were made at a vendo...</td>\n",
       "      <td>Problem with a purchase shown on your statement</td>\n",
       "    </tr>\n",
       "    <tr>\n",
       "      <th>11901</th>\n",
       "      <td>1. A Citibank ( South Dakota ) N.A. charge off...</td>\n",
       "      <td>Incorrect information on your report</td>\n",
       "    </tr>\n",
       "    <tr>\n",
       "      <th>17377</th>\n",
       "      <td>I made purchaseson XXXX that was opened and XX...</td>\n",
       "      <td>Problem with a purchase shown on your statement</td>\n",
       "    </tr>\n",
       "    <tr>\n",
       "      <th>8681</th>\n",
       "      <td>on XXXX XX/XX/2020 I filed a dispute with Citi...</td>\n",
       "      <td>Problem with a purchase shown on your statement</td>\n",
       "    </tr>\n",
       "    <tr>\n",
       "      <th>5644</th>\n",
       "      <td>On XX/XX/XXXX I purchased XXXX XXXX XXXX conce...</td>\n",
       "      <td>Problem with a purchase shown on your statement</td>\n",
       "    </tr>\n",
       "  </tbody>\n",
       "</table>\n",
       "</div>"
      ],
      "text/plain": [
       "                            Consumer complaint narrative  \\\n",
       "554    On XX/XX/2018 two charges were made at a vendo...   \n",
       "11901  1. A Citibank ( South Dakota ) N.A. charge off...   \n",
       "17377  I made purchaseson XXXX that was opened and XX...   \n",
       "8681   on XXXX XX/XX/2020 I filed a dispute with Citi...   \n",
       "5644   On XX/XX/XXXX I purchased XXXX XXXX XXXX conce...   \n",
       "\n",
       "                                                 Issue  \n",
       "554    Problem with a purchase shown on your statement  \n",
       "11901             Incorrect information on your report  \n",
       "17377  Problem with a purchase shown on your statement  \n",
       "8681   Problem with a purchase shown on your statement  \n",
       "5644   Problem with a purchase shown on your statement  "
      ]
     },
     "execution_count": 2,
     "metadata": {},
     "output_type": "execute_result"
    }
   ],
   "source": [
    "train_data = pd.read_csv('train_dataset.csv',index_col=0)\n",
    "print(train_data.shape,end=\"\\n\\n\")\n",
    "print(train_data['Issue'].value_counts())\n",
    "train_data.head()"
   ]
  },
  {
   "cell_type": "code",
   "execution_count": 3,
   "id": "295a9d97",
   "metadata": {
    "ExecuteTime": {
     "end_time": "2022-01-05T06:34:56.276043Z",
     "start_time": "2022-01-05T06:34:56.139768Z"
    }
   },
   "outputs": [
    {
     "name": "stdout",
     "output_type": "stream",
     "text": [
      "(1364, 2)\n",
      "\n",
      "Problem with a purchase shown on your statement    854\n",
      "Incorrect information on your report               510\n",
      "Name: Issue, dtype: int64\n"
     ]
    },
    {
     "data": {
      "text/html": [
       "<div>\n",
       "<style scoped>\n",
       "    .dataframe tbody tr th:only-of-type {\n",
       "        vertical-align: middle;\n",
       "    }\n",
       "\n",
       "    .dataframe tbody tr th {\n",
       "        vertical-align: top;\n",
       "    }\n",
       "\n",
       "    .dataframe thead th {\n",
       "        text-align: right;\n",
       "    }\n",
       "</style>\n",
       "<table border=\"1\" class=\"dataframe\">\n",
       "  <thead>\n",
       "    <tr style=\"text-align: right;\">\n",
       "      <th></th>\n",
       "      <th>Consumer complaint narrative</th>\n",
       "      <th>Issue</th>\n",
       "    </tr>\n",
       "  </thead>\n",
       "  <tbody>\n",
       "    <tr>\n",
       "      <th>8201</th>\n",
       "      <td>Hello CFPB! Can you please forward the folllow...</td>\n",
       "      <td>Incorrect information on your report</td>\n",
       "    </tr>\n",
       "    <tr>\n",
       "      <th>49162</th>\n",
       "      <td>The response from Citi Cards has cleared up a ...</td>\n",
       "      <td>Problem with a purchase shown on your statement</td>\n",
       "    </tr>\n",
       "    <tr>\n",
       "      <th>8206</th>\n",
       "      <td>I have made repeated attempts with Macys Credi...</td>\n",
       "      <td>Problem with a purchase shown on your statement</td>\n",
       "    </tr>\n",
       "    <tr>\n",
       "      <th>8226</th>\n",
       "      <td>I paid {$120.00} through Citibank credit card ...</td>\n",
       "      <td>Problem with a purchase shown on your statement</td>\n",
       "    </tr>\n",
       "    <tr>\n",
       "      <th>57391</th>\n",
       "      <td>At Best Buys request I am submitting documenta...</td>\n",
       "      <td>Incorrect information on your report</td>\n",
       "    </tr>\n",
       "  </tbody>\n",
       "</table>\n",
       "</div>"
      ],
      "text/plain": [
       "                            Consumer complaint narrative  \\\n",
       "8201   Hello CFPB! Can you please forward the folllow...   \n",
       "49162  The response from Citi Cards has cleared up a ...   \n",
       "8206   I have made repeated attempts with Macys Credi...   \n",
       "8226   I paid {$120.00} through Citibank credit card ...   \n",
       "57391  At Best Buys request I am submitting documenta...   \n",
       "\n",
       "                                                 Issue  \n",
       "8201              Incorrect information on your report  \n",
       "49162  Problem with a purchase shown on your statement  \n",
       "8206   Problem with a purchase shown on your statement  \n",
       "8226   Problem with a purchase shown on your statement  \n",
       "57391             Incorrect information on your report  "
      ]
     },
     "execution_count": 3,
     "metadata": {},
     "output_type": "execute_result"
    }
   ],
   "source": [
    "test_data = pd.read_csv('test_dataset.csv',index_col=0)\n",
    "print(test_data.shape,end=\"\\n\\n\")\n",
    "print(test_data['Issue'].value_counts())\n",
    "test_data.head()"
   ]
  },
  {
   "cell_type": "code",
   "execution_count": 4,
   "id": "902d4b66",
   "metadata": {
    "ExecuteTime": {
     "end_time": "2022-01-05T06:35:16.131652Z",
     "start_time": "2022-01-05T06:34:56.285038Z"
    }
   },
   "outputs": [],
   "source": [
    "model = SentenceTransformer('paraphrase-MiniLM-L6-v2')"
   ]
  },
  {
   "cell_type": "code",
   "execution_count": 5,
   "id": "5b36ca90",
   "metadata": {
    "ExecuteTime": {
     "end_time": "2022-01-05T06:38:25.138174Z",
     "start_time": "2022-01-05T06:35:16.136703Z"
    }
   },
   "outputs": [
    {
     "data": {
      "text/html": [
       "<div>\n",
       "<style scoped>\n",
       "    .dataframe tbody tr th:only-of-type {\n",
       "        vertical-align: middle;\n",
       "    }\n",
       "\n",
       "    .dataframe tbody tr th {\n",
       "        vertical-align: top;\n",
       "    }\n",
       "\n",
       "    .dataframe thead th {\n",
       "        text-align: right;\n",
       "    }\n",
       "</style>\n",
       "<table border=\"1\" class=\"dataframe\">\n",
       "  <thead>\n",
       "    <tr style=\"text-align: right;\">\n",
       "      <th></th>\n",
       "      <th>Consumer complaint narrative</th>\n",
       "      <th>Issue</th>\n",
       "      <th>Embeddings</th>\n",
       "      <th>Label</th>\n",
       "    </tr>\n",
       "  </thead>\n",
       "  <tbody>\n",
       "    <tr>\n",
       "      <th>554</th>\n",
       "      <td>On XX/XX/2018 two charges were made at a vendo...</td>\n",
       "      <td>Problem with a purchase shown on your statement</td>\n",
       "      <td>[-0.20680293, 0.06291509, -0.101168156, 0.1477...</td>\n",
       "      <td>1</td>\n",
       "    </tr>\n",
       "    <tr>\n",
       "      <th>11901</th>\n",
       "      <td>1. A Citibank ( South Dakota ) N.A. charge off...</td>\n",
       "      <td>Incorrect information on your report</td>\n",
       "      <td>[-0.18409169, -0.08991251, -0.15696734, 0.0378...</td>\n",
       "      <td>0</td>\n",
       "    </tr>\n",
       "  </tbody>\n",
       "</table>\n",
       "</div>"
      ],
      "text/plain": [
       "                            Consumer complaint narrative  \\\n",
       "554    On XX/XX/2018 two charges were made at a vendo...   \n",
       "11901  1. A Citibank ( South Dakota ) N.A. charge off...   \n",
       "\n",
       "                                                 Issue  \\\n",
       "554    Problem with a purchase shown on your statement   \n",
       "11901             Incorrect information on your report   \n",
       "\n",
       "                                              Embeddings  Label  \n",
       "554    [-0.20680293, 0.06291509, -0.101168156, 0.1477...      1  \n",
       "11901  [-0.18409169, -0.08991251, -0.15696734, 0.0378...      0  "
      ]
     },
     "execution_count": 5,
     "metadata": {},
     "output_type": "execute_result"
    }
   ],
   "source": [
    "train_data['Embeddings'] = train_data['Consumer complaint narrative'].apply(lambda x: np.mean(model.encode(sent_tokenize(x)),axis=0))\n",
    "train_data['Label'] = (train_data['Issue']=='Problem with a purchase shown on your statement').astype(int)\n",
    "train_data.head(2)"
   ]
  },
  {
   "cell_type": "code",
   "execution_count": 6,
   "id": "d04ca418",
   "metadata": {
    "ExecuteTime": {
     "end_time": "2022-01-05T06:39:30.277431Z",
     "start_time": "2022-01-05T06:38:25.142129Z"
    }
   },
   "outputs": [
    {
     "data": {
      "text/html": [
       "<div>\n",
       "<style scoped>\n",
       "    .dataframe tbody tr th:only-of-type {\n",
       "        vertical-align: middle;\n",
       "    }\n",
       "\n",
       "    .dataframe tbody tr th {\n",
       "        vertical-align: top;\n",
       "    }\n",
       "\n",
       "    .dataframe thead th {\n",
       "        text-align: right;\n",
       "    }\n",
       "</style>\n",
       "<table border=\"1\" class=\"dataframe\">\n",
       "  <thead>\n",
       "    <tr style=\"text-align: right;\">\n",
       "      <th></th>\n",
       "      <th>Consumer complaint narrative</th>\n",
       "      <th>Issue</th>\n",
       "      <th>Embeddings</th>\n",
       "      <th>Label</th>\n",
       "    </tr>\n",
       "  </thead>\n",
       "  <tbody>\n",
       "    <tr>\n",
       "      <th>8201</th>\n",
       "      <td>Hello CFPB! Can you please forward the folllow...</td>\n",
       "      <td>Incorrect information on your report</td>\n",
       "      <td>[-0.6415856, 0.2658094, -0.07548106, -0.227051...</td>\n",
       "      <td>0</td>\n",
       "    </tr>\n",
       "    <tr>\n",
       "      <th>49162</th>\n",
       "      <td>The response from Citi Cards has cleared up a ...</td>\n",
       "      <td>Problem with a purchase shown on your statement</td>\n",
       "      <td>[-0.18394545, -0.06851138, -0.2390448, 0.05607...</td>\n",
       "      <td>1</td>\n",
       "    </tr>\n",
       "  </tbody>\n",
       "</table>\n",
       "</div>"
      ],
      "text/plain": [
       "                            Consumer complaint narrative  \\\n",
       "8201   Hello CFPB! Can you please forward the folllow...   \n",
       "49162  The response from Citi Cards has cleared up a ...   \n",
       "\n",
       "                                                 Issue  \\\n",
       "8201              Incorrect information on your report   \n",
       "49162  Problem with a purchase shown on your statement   \n",
       "\n",
       "                                              Embeddings  Label  \n",
       "8201   [-0.6415856, 0.2658094, -0.07548106, -0.227051...      0  \n",
       "49162  [-0.18394545, -0.06851138, -0.2390448, 0.05607...      1  "
      ]
     },
     "execution_count": 6,
     "metadata": {},
     "output_type": "execute_result"
    }
   ],
   "source": [
    "test_data['Embeddings'] = test_data['Consumer complaint narrative'].apply(lambda x: np.mean(model.encode(sent_tokenize(x)),axis=0))\n",
    "test_data['Label'] = (test_data['Issue']=='Problem with a purchase shown on your statement').astype(int)\n",
    "test_data.head(2)"
   ]
  },
  {
   "cell_type": "code",
   "execution_count": 7,
   "id": "933ae3dc",
   "metadata": {
    "ExecuteTime": {
     "end_time": "2022-01-05T06:39:32.255682Z",
     "start_time": "2022-01-05T06:39:30.282435Z"
    }
   },
   "outputs": [],
   "source": [
    "X_train = train_data['Embeddings'].apply(pd.Series)\n",
    "y_train = train_data['Label']\n",
    "\n",
    "X_test = test_data['Embeddings'].apply(pd.Series)\n",
    "y_test = test_data['Label']"
   ]
  },
  {
   "cell_type": "code",
   "execution_count": 8,
   "id": "c3610416",
   "metadata": {
    "ExecuteTime": {
     "end_time": "2022-01-05T06:39:36.295195Z",
     "start_time": "2022-01-05T06:39:32.260423Z"
    }
   },
   "outputs": [
    {
     "data": {
      "text/plain": [
       "SVC()"
      ]
     },
     "execution_count": 8,
     "metadata": {},
     "output_type": "execute_result"
    }
   ],
   "source": [
    "clf = SVC()\n",
    "clf.fit(X_train,y_train)"
   ]
  },
  {
   "cell_type": "code",
   "execution_count": 9,
   "id": "a90cf81c",
   "metadata": {
    "ExecuteTime": {
     "end_time": "2022-01-05T06:39:37.774273Z",
     "start_time": "2022-01-05T06:39:36.299203Z"
    }
   },
   "outputs": [],
   "source": [
    "predictions = clf.predict(X_test)"
   ]
  },
  {
   "cell_type": "code",
   "execution_count": 10,
   "id": "ee63c74d",
   "metadata": {
    "ExecuteTime": {
     "end_time": "2022-01-05T06:39:37.806195Z",
     "start_time": "2022-01-05T06:39:37.785154Z"
    }
   },
   "outputs": [
    {
     "data": {
      "text/plain": [
       "0.9340175953079178"
      ]
     },
     "execution_count": 10,
     "metadata": {},
     "output_type": "execute_result"
    }
   ],
   "source": [
    "accuracy_score(y_test,predictions)"
   ]
  },
  {
   "cell_type": "code",
   "execution_count": 11,
   "id": "9ddea5c1",
   "metadata": {
    "ExecuteTime": {
     "end_time": "2022-01-05T06:39:37.838226Z",
     "start_time": "2022-01-05T06:39:37.811165Z"
    }
   },
   "outputs": [
    {
     "name": "stdout",
     "output_type": "stream",
     "text": [
      "              precision    recall  f1-score   support\n",
      "\n",
      "           0       0.90      0.92      0.91       510\n",
      "           1       0.95      0.94      0.95       854\n",
      "\n",
      "    accuracy                           0.93      1364\n",
      "   macro avg       0.93      0.93      0.93      1364\n",
      "weighted avg       0.93      0.93      0.93      1364\n",
      "\n"
     ]
    }
   ],
   "source": [
    "print(classification_report(y_test,predictions))"
   ]
  },
  {
   "cell_type": "code",
   "execution_count": 12,
   "id": "c82aff6d",
   "metadata": {
    "ExecuteTime": {
     "end_time": "2022-01-05T06:39:37.869412Z",
     "start_time": "2022-01-05T06:39:37.843162Z"
    }
   },
   "outputs": [
    {
     "name": "stdout",
     "output_type": "stream",
     "text": [
      "[[470  40]\n",
      " [ 50 804]]\n"
     ]
    }
   ],
   "source": [
    "print(confusion_matrix(y_test,predictions))"
   ]
  },
  {
   "cell_type": "code",
   "execution_count": 13,
   "id": "12b649ca",
   "metadata": {
    "ExecuteTime": {
     "end_time": "2022-01-05T06:39:37.901274Z",
     "start_time": "2022-01-05T06:39:37.875195Z"
    }
   },
   "outputs": [
    {
     "name": "stdout",
     "output_type": "stream",
     "text": [
      "470 40 50 804\n"
     ]
    }
   ],
   "source": [
    "TN,FP,FN,TP = confusion_matrix(y_test,predictions).flatten()\n",
    "\n",
    "print(TN,FP,FN,TP)"
   ]
  },
  {
   "cell_type": "code",
   "execution_count": 14,
   "id": "71bf4deb",
   "metadata": {
    "ExecuteTime": {
     "end_time": "2022-01-05T06:39:37.932374Z",
     "start_time": "2022-01-05T06:39:37.906159Z"
    }
   },
   "outputs": [
    {
     "data": {
      "text/plain": [
       "0.0784313725490196"
      ]
     },
     "execution_count": 14,
     "metadata": {},
     "output_type": "execute_result"
    }
   ],
   "source": [
    "FPR = FP/(TN+FP)\n",
    "\n",
    "FPR"
   ]
  },
  {
   "cell_type": "code",
   "execution_count": 15,
   "id": "d4cd63fc",
   "metadata": {
    "ExecuteTime": {
     "end_time": "2022-01-05T06:39:37.979534Z",
     "start_time": "2022-01-05T06:39:37.937298Z"
    }
   },
   "outputs": [
    {
     "data": {
      "text/html": [
       "<div>\n",
       "<style scoped>\n",
       "    .dataframe tbody tr th:only-of-type {\n",
       "        vertical-align: middle;\n",
       "    }\n",
       "\n",
       "    .dataframe tbody tr th {\n",
       "        vertical-align: top;\n",
       "    }\n",
       "\n",
       "    .dataframe thead th {\n",
       "        text-align: right;\n",
       "    }\n",
       "</style>\n",
       "<table border=\"1\" class=\"dataframe\">\n",
       "  <thead>\n",
       "    <tr style=\"text-align: right;\">\n",
       "      <th></th>\n",
       "      <th>Consumer complaint narrative</th>\n",
       "      <th>Issue</th>\n",
       "      <th>Embeddings</th>\n",
       "      <th>Label</th>\n",
       "    </tr>\n",
       "  </thead>\n",
       "  <tbody>\n",
       "    <tr>\n",
       "      <th>8201</th>\n",
       "      <td>Hello CFPB! Can you please forward the folllow...</td>\n",
       "      <td>Incorrect information on your report</td>\n",
       "      <td>[-0.6415856, 0.2658094, -0.07548106, -0.227051...</td>\n",
       "      <td>0</td>\n",
       "    </tr>\n",
       "    <tr>\n",
       "      <th>49162</th>\n",
       "      <td>The response from Citi Cards has cleared up a ...</td>\n",
       "      <td>Problem with a purchase shown on your statement</td>\n",
       "      <td>[-0.18394545, -0.06851138, -0.2390448, 0.05607...</td>\n",
       "      <td>1</td>\n",
       "    </tr>\n",
       "    <tr>\n",
       "      <th>8206</th>\n",
       "      <td>I have made repeated attempts with Macys Credi...</td>\n",
       "      <td>Problem with a purchase shown on your statement</td>\n",
       "      <td>[-0.32731006, -0.31460646, 0.043683853, -0.072...</td>\n",
       "      <td>1</td>\n",
       "    </tr>\n",
       "    <tr>\n",
       "      <th>8226</th>\n",
       "      <td>I paid {$120.00} through Citibank credit card ...</td>\n",
       "      <td>Problem with a purchase shown on your statement</td>\n",
       "      <td>[-0.31925473, -0.0050348165, -0.0012888648, 0....</td>\n",
       "      <td>1</td>\n",
       "    </tr>\n",
       "    <tr>\n",
       "      <th>57391</th>\n",
       "      <td>At Best Buys request I am submitting documenta...</td>\n",
       "      <td>Incorrect information on your report</td>\n",
       "      <td>[-0.4862429, -0.15408775, -0.0962071, -0.08545...</td>\n",
       "      <td>0</td>\n",
       "    </tr>\n",
       "  </tbody>\n",
       "</table>\n",
       "</div>"
      ],
      "text/plain": [
       "                            Consumer complaint narrative  \\\n",
       "8201   Hello CFPB! Can you please forward the folllow...   \n",
       "49162  The response from Citi Cards has cleared up a ...   \n",
       "8206   I have made repeated attempts with Macys Credi...   \n",
       "8226   I paid {$120.00} through Citibank credit card ...   \n",
       "57391  At Best Buys request I am submitting documenta...   \n",
       "\n",
       "                                                 Issue  \\\n",
       "8201              Incorrect information on your report   \n",
       "49162  Problem with a purchase shown on your statement   \n",
       "8206   Problem with a purchase shown on your statement   \n",
       "8226   Problem with a purchase shown on your statement   \n",
       "57391             Incorrect information on your report   \n",
       "\n",
       "                                              Embeddings  Label  \n",
       "8201   [-0.6415856, 0.2658094, -0.07548106, -0.227051...      0  \n",
       "49162  [-0.18394545, -0.06851138, -0.2390448, 0.05607...      1  \n",
       "8206   [-0.32731006, -0.31460646, 0.043683853, -0.072...      1  \n",
       "8226   [-0.31925473, -0.0050348165, -0.0012888648, 0....      1  \n",
       "57391  [-0.4862429, -0.15408775, -0.0962071, -0.08545...      0  "
      ]
     },
     "execution_count": 15,
     "metadata": {},
     "output_type": "execute_result"
    }
   ],
   "source": [
    "test_data.head()"
   ]
  },
  {
   "cell_type": "code",
   "execution_count": 16,
   "id": "53aa6319",
   "metadata": {
    "ExecuteTime": {
     "end_time": "2022-01-05T06:39:38.027308Z",
     "start_time": "2022-01-05T06:39:37.985266Z"
    }
   },
   "outputs": [
    {
     "data": {
      "text/html": [
       "<div>\n",
       "<style scoped>\n",
       "    .dataframe tbody tr th:only-of-type {\n",
       "        vertical-align: middle;\n",
       "    }\n",
       "\n",
       "    .dataframe tbody tr th {\n",
       "        vertical-align: top;\n",
       "    }\n",
       "\n",
       "    .dataframe thead th {\n",
       "        text-align: right;\n",
       "    }\n",
       "</style>\n",
       "<table border=\"1\" class=\"dataframe\">\n",
       "  <thead>\n",
       "    <tr style=\"text-align: right;\">\n",
       "      <th></th>\n",
       "      <th>Consumer complaint narrative</th>\n",
       "      <th>Issue</th>\n",
       "      <th>Embeddings</th>\n",
       "      <th>Label</th>\n",
       "    </tr>\n",
       "  </thead>\n",
       "  <tbody>\n",
       "    <tr>\n",
       "      <th>8201</th>\n",
       "      <td>Hello CFPB! Can you please forward the folllow...</td>\n",
       "      <td>Incorrect information on your report</td>\n",
       "      <td>[-0.6415856, 0.2658094, -0.07548106, -0.227051...</td>\n",
       "      <td>0</td>\n",
       "    </tr>\n",
       "    <tr>\n",
       "      <th>49162</th>\n",
       "      <td>The response from Citi Cards has cleared up a ...</td>\n",
       "      <td>Problem with a purchase shown on your statement</td>\n",
       "      <td>[-0.18394545, -0.06851138, -0.2390448, 0.05607...</td>\n",
       "      <td>1</td>\n",
       "    </tr>\n",
       "    <tr>\n",
       "      <th>8206</th>\n",
       "      <td>I have made repeated attempts with Macys Credi...</td>\n",
       "      <td>Problem with a purchase shown on your statement</td>\n",
       "      <td>[-0.32731006, -0.31460646, 0.043683853, -0.072...</td>\n",
       "      <td>1</td>\n",
       "    </tr>\n",
       "    <tr>\n",
       "      <th>8226</th>\n",
       "      <td>I paid {$120.00} through Citibank credit card ...</td>\n",
       "      <td>Problem with a purchase shown on your statement</td>\n",
       "      <td>[-0.31925473, -0.0050348165, -0.0012888648, 0....</td>\n",
       "      <td>1</td>\n",
       "    </tr>\n",
       "    <tr>\n",
       "      <th>57391</th>\n",
       "      <td>At Best Buys request I am submitting documenta...</td>\n",
       "      <td>Incorrect information on your report</td>\n",
       "      <td>[-0.4862429, -0.15408775, -0.0962071, -0.08545...</td>\n",
       "      <td>0</td>\n",
       "    </tr>\n",
       "  </tbody>\n",
       "</table>\n",
       "</div>"
      ],
      "text/plain": [
       "                            Consumer complaint narrative  \\\n",
       "8201   Hello CFPB! Can you please forward the folllow...   \n",
       "49162  The response from Citi Cards has cleared up a ...   \n",
       "8206   I have made repeated attempts with Macys Credi...   \n",
       "8226   I paid {$120.00} through Citibank credit card ...   \n",
       "57391  At Best Buys request I am submitting documenta...   \n",
       "\n",
       "                                                 Issue  \\\n",
       "8201              Incorrect information on your report   \n",
       "49162  Problem with a purchase shown on your statement   \n",
       "8206   Problem with a purchase shown on your statement   \n",
       "8226   Problem with a purchase shown on your statement   \n",
       "57391             Incorrect information on your report   \n",
       "\n",
       "                                              Embeddings  Label  \n",
       "8201   [-0.6415856, 0.2658094, -0.07548106, -0.227051...      0  \n",
       "49162  [-0.18394545, -0.06851138, -0.2390448, 0.05607...      1  \n",
       "8206   [-0.32731006, -0.31460646, 0.043683853, -0.072...      1  \n",
       "8226   [-0.31925473, -0.0050348165, -0.0012888648, 0....      1  \n",
       "57391  [-0.4862429, -0.15408775, -0.0962071, -0.08545...      0  "
      ]
     },
     "execution_count": 16,
     "metadata": {},
     "output_type": "execute_result"
    }
   ],
   "source": [
    "test_data_with_results = test_data[['Consumer complaint narrative','Issue','Embeddings','Label']]\n",
    "test_data_with_results.head()"
   ]
  },
  {
   "cell_type": "code",
   "execution_count": 17,
   "id": "9995c72b",
   "metadata": {
    "ExecuteTime": {
     "end_time": "2022-01-05T06:39:38.043491Z",
     "start_time": "2022-01-05T06:39:38.032297Z"
    }
   },
   "outputs": [],
   "source": [
    "test_data_with_results['Prediction'] = predictions"
   ]
  },
  {
   "cell_type": "code",
   "execution_count": 18,
   "id": "c1b710e1",
   "metadata": {
    "ExecuteTime": {
     "end_time": "2022-01-05T06:39:38.185831Z",
     "start_time": "2022-01-05T06:39:38.048312Z"
    }
   },
   "outputs": [
    {
     "data": {
      "text/html": [
       "<div>\n",
       "<style scoped>\n",
       "    .dataframe tbody tr th:only-of-type {\n",
       "        vertical-align: middle;\n",
       "    }\n",
       "\n",
       "    .dataframe tbody tr th {\n",
       "        vertical-align: top;\n",
       "    }\n",
       "\n",
       "    .dataframe thead th {\n",
       "        text-align: right;\n",
       "    }\n",
       "</style>\n",
       "<table border=\"1\" class=\"dataframe\">\n",
       "  <thead>\n",
       "    <tr style=\"text-align: right;\">\n",
       "      <th></th>\n",
       "      <th>Consumer complaint narrative</th>\n",
       "      <th>Issue</th>\n",
       "      <th>Embeddings</th>\n",
       "      <th>Label</th>\n",
       "      <th>Prediction</th>\n",
       "    </tr>\n",
       "  </thead>\n",
       "  <tbody>\n",
       "    <tr>\n",
       "      <th>8201</th>\n",
       "      <td>Hello CFPB! Can you please forward the folllow...</td>\n",
       "      <td>Incorrect information on your report</td>\n",
       "      <td>[-0.6415856, 0.2658094, -0.07548106, -0.227051...</td>\n",
       "      <td>0</td>\n",
       "      <td>0</td>\n",
       "    </tr>\n",
       "    <tr>\n",
       "      <th>49162</th>\n",
       "      <td>The response from Citi Cards has cleared up a ...</td>\n",
       "      <td>Problem with a purchase shown on your statement</td>\n",
       "      <td>[-0.18394545, -0.06851138, -0.2390448, 0.05607...</td>\n",
       "      <td>1</td>\n",
       "      <td>1</td>\n",
       "    </tr>\n",
       "    <tr>\n",
       "      <th>8206</th>\n",
       "      <td>I have made repeated attempts with Macys Credi...</td>\n",
       "      <td>Problem with a purchase shown on your statement</td>\n",
       "      <td>[-0.32731006, -0.31460646, 0.043683853, -0.072...</td>\n",
       "      <td>1</td>\n",
       "      <td>1</td>\n",
       "    </tr>\n",
       "    <tr>\n",
       "      <th>8226</th>\n",
       "      <td>I paid {$120.00} through Citibank credit card ...</td>\n",
       "      <td>Problem with a purchase shown on your statement</td>\n",
       "      <td>[-0.31925473, -0.0050348165, -0.0012888648, 0....</td>\n",
       "      <td>1</td>\n",
       "      <td>1</td>\n",
       "    </tr>\n",
       "    <tr>\n",
       "      <th>57391</th>\n",
       "      <td>At Best Buys request I am submitting documenta...</td>\n",
       "      <td>Incorrect information on your report</td>\n",
       "      <td>[-0.4862429, -0.15408775, -0.0962071, -0.08545...</td>\n",
       "      <td>0</td>\n",
       "      <td>0</td>\n",
       "    </tr>\n",
       "    <tr>\n",
       "      <th>52</th>\n",
       "      <td>This is regarding dispute numbers XXXX and XXX...</td>\n",
       "      <td>Problem with a purchase shown on your statement</td>\n",
       "      <td>[-0.3378458, -0.026797455, -0.23113827, 0.1057...</td>\n",
       "      <td>1</td>\n",
       "      <td>1</td>\n",
       "    </tr>\n",
       "    <tr>\n",
       "      <th>57396</th>\n",
       "      <td>I was scammed by an online seller and SEARS in...</td>\n",
       "      <td>Problem with a purchase shown on your statement</td>\n",
       "      <td>[-0.22414061, -0.13224047, -0.145868, 0.152974...</td>\n",
       "      <td>1</td>\n",
       "      <td>1</td>\n",
       "    </tr>\n",
       "    <tr>\n",
       "      <th>54</th>\n",
       "      <td>I have charges that I have disputed with CitiB...</td>\n",
       "      <td>Problem with a purchase shown on your statement</td>\n",
       "      <td>[-0.23780224, 0.00975199, -0.4164698, 0.137707...</td>\n",
       "      <td>1</td>\n",
       "      <td>1</td>\n",
       "    </tr>\n",
       "    <tr>\n",
       "      <th>24630</th>\n",
       "      <td>This complaint if being filed on the advice of...</td>\n",
       "      <td>Incorrect information on your report</td>\n",
       "      <td>[-0.21943046, -0.16149944, 0.04576512, 0.04763...</td>\n",
       "      <td>0</td>\n",
       "      <td>0</td>\n",
       "    </tr>\n",
       "    <tr>\n",
       "      <th>24635</th>\n",
       "      <td>I bought a water softener from Home Depot on m...</td>\n",
       "      <td>Incorrect information on your report</td>\n",
       "      <td>[-0.1407889, -0.0016049871, 0.11041404, 0.0626...</td>\n",
       "      <td>0</td>\n",
       "      <td>0</td>\n",
       "    </tr>\n",
       "    <tr>\n",
       "      <th>8254</th>\n",
       "      <td>I received an alert call from Citi fraud depar...</td>\n",
       "      <td>Problem with a purchase shown on your statement</td>\n",
       "      <td>[-0.28396654, -0.06399599, -0.26624554, 0.0315...</td>\n",
       "      <td>1</td>\n",
       "      <td>1</td>\n",
       "    </tr>\n",
       "    <tr>\n",
       "      <th>24650</th>\n",
       "      <td>On XX/XX/XXXX and XX/XX/XXXXsomeone made 2 har...</td>\n",
       "      <td>Incorrect information on your report</td>\n",
       "      <td>[-0.30280533, -0.18723729, -0.24056606, -0.067...</td>\n",
       "      <td>0</td>\n",
       "      <td>0</td>\n",
       "    </tr>\n",
       "    <tr>\n",
       "      <th>16462</th>\n",
       "      <td>I moved from XXXX, NC in XXXX at which time Be...</td>\n",
       "      <td>Incorrect information on your report</td>\n",
       "      <td>[-0.20176429, -0.047458407, -0.04445423, 0.036...</td>\n",
       "      <td>0</td>\n",
       "      <td>1</td>\n",
       "    </tr>\n",
       "    <tr>\n",
       "      <th>86</th>\n",
       "      <td>Three orders for the amount of {$780.00}, {$39...</td>\n",
       "      <td>Problem with a purchase shown on your statement</td>\n",
       "      <td>[-0.20812654, -0.24970719, -0.098330654, 0.033...</td>\n",
       "      <td>1</td>\n",
       "      <td>1</td>\n",
       "    </tr>\n",
       "    <tr>\n",
       "      <th>57433</th>\n",
       "      <td>I applied for the Citibank AAdvantage Platinum...</td>\n",
       "      <td>Incorrect information on your report</td>\n",
       "      <td>[-0.088164665, -0.074218, -0.10831683, 0.14477...</td>\n",
       "      <td>0</td>\n",
       "      <td>0</td>\n",
       "    </tr>\n",
       "    <tr>\n",
       "      <th>24665</th>\n",
       "      <td>In attempting to secure a mortgage, I have bee...</td>\n",
       "      <td>Incorrect information on your report</td>\n",
       "      <td>[-0.17053871, -0.15487628, -0.124532476, 0.069...</td>\n",
       "      <td>0</td>\n",
       "      <td>0</td>\n",
       "    </tr>\n",
       "    <tr>\n",
       "      <th>32862</th>\n",
       "      <td>this is agains t CitiMortgage. this is  from a...</td>\n",
       "      <td>Incorrect information on your report</td>\n",
       "      <td>[-0.13538879, -0.032519702, -0.040338393, -0.1...</td>\n",
       "      <td>0</td>\n",
       "      <td>0</td>\n",
       "    </tr>\n",
       "    <tr>\n",
       "      <th>57448</th>\n",
       "      <td>I never made a late payment on this account, p...</td>\n",
       "      <td>Incorrect information on your report</td>\n",
       "      <td>[-0.18757434, -0.1762819, -0.35506773, -0.0952...</td>\n",
       "      <td>0</td>\n",
       "      <td>0</td>\n",
       "    </tr>\n",
       "    <tr>\n",
       "      <th>16496</th>\n",
       "      <td>I have used my Best Buy store credit card ( Ci...</td>\n",
       "      <td>Problem with a purchase shown on your statement</td>\n",
       "      <td>[-0.37805688, 0.094233304, 0.09524898, -0.0256...</td>\n",
       "      <td>1</td>\n",
       "      <td>1</td>\n",
       "    </tr>\n",
       "    <tr>\n",
       "      <th>8305</th>\n",
       "      <td>RE : Inability to receive issued Credit on my ...</td>\n",
       "      <td>Problem with a purchase shown on your statement</td>\n",
       "      <td>[-0.22049132, -0.008286661, -0.19753209, -0.01...</td>\n",
       "      <td>1</td>\n",
       "      <td>1</td>\n",
       "    </tr>\n",
       "    <tr>\n",
       "      <th>16507</th>\n",
       "      <td>XX/XX/2020 Dear Sir / Madame : I am writing to...</td>\n",
       "      <td>Problem with a purchase shown on your statement</td>\n",
       "      <td>[-0.25981483, -0.13256228, -0.040688477, -0.02...</td>\n",
       "      <td>1</td>\n",
       "      <td>1</td>\n",
       "    </tr>\n",
       "    <tr>\n",
       "      <th>16511</th>\n",
       "      <td>I received a letter in the mail on XX/XX/21 st...</td>\n",
       "      <td>Incorrect information on your report</td>\n",
       "      <td>[-0.16518776, 0.05371082, -0.1436442, 0.129055...</td>\n",
       "      <td>0</td>\n",
       "      <td>0</td>\n",
       "    </tr>\n",
       "    <tr>\n",
       "      <th>57474</th>\n",
       "      <td>I had a Sears MasterCard serviced by Citibank....</td>\n",
       "      <td>Problem with a purchase shown on your statement</td>\n",
       "      <td>[-0.23537046, -0.116200395, -0.2594458, 0.2327...</td>\n",
       "      <td>1</td>\n",
       "      <td>1</td>\n",
       "    </tr>\n",
       "    <tr>\n",
       "      <th>8329</th>\n",
       "      <td>Between the dates of XXXX XXXX 2019, and XXXX ...</td>\n",
       "      <td>Incorrect information on your report</td>\n",
       "      <td>[-0.22866301, -0.21557331, -0.06569601, -0.052...</td>\n",
       "      <td>0</td>\n",
       "      <td>0</td>\n",
       "    </tr>\n",
       "    <tr>\n",
       "      <th>8333</th>\n",
       "      <td>Citibank XXXX XXXX XXXX, in XXXX XXXX, SD, XXX...</td>\n",
       "      <td>Problem with a purchase shown on your statement</td>\n",
       "      <td>[-0.20023194, -0.13245611, -0.1901317, -0.0104...</td>\n",
       "      <td>1</td>\n",
       "      <td>1</td>\n",
       "    </tr>\n",
       "    <tr>\n",
       "      <th>8334</th>\n",
       "      <td>I contacted representatives from the following...</td>\n",
       "      <td>Incorrect information on your report</td>\n",
       "      <td>[-0.18384334, -0.09936935, -0.21599741, -0.046...</td>\n",
       "      <td>0</td>\n",
       "      <td>0</td>\n",
       "    </tr>\n",
       "    <tr>\n",
       "      <th>24724</th>\n",
       "      <td>I am writing today in hopes to obtain your hel...</td>\n",
       "      <td>Incorrect information on your report</td>\n",
       "      <td>[-0.1861185, -0.032934252, 0.061226994, 0.0463...</td>\n",
       "      <td>0</td>\n",
       "      <td>0</td>\n",
       "    </tr>\n",
       "    <tr>\n",
       "      <th>16532</th>\n",
       "      <td>thes accounts are not mine. please remove it. ...</td>\n",
       "      <td>Incorrect information on your report</td>\n",
       "      <td>[-0.09223174, -0.14946747, -0.010691426, -0.09...</td>\n",
       "      <td>0</td>\n",
       "      <td>0</td>\n",
       "    </tr>\n",
       "    <tr>\n",
       "      <th>8342</th>\n",
       "      <td>On Saturday XX/XX/XXXX at around XXXX XXXX, my...</td>\n",
       "      <td>Problem with a purchase shown on your statement</td>\n",
       "      <td>[-0.24445966, -0.3181396, -0.112800494, 0.1213...</td>\n",
       "      <td>1</td>\n",
       "      <td>0</td>\n",
       "    </tr>\n",
       "    <tr>\n",
       "      <th>160</th>\n",
       "      <td>On XX/XX/2019 I was charged {$430.00} for tire...</td>\n",
       "      <td>Problem with a purchase shown on your statement</td>\n",
       "      <td>[-0.25379536, 0.0042774514, -0.2706701, 0.0367...</td>\n",
       "      <td>1</td>\n",
       "      <td>1</td>\n",
       "    </tr>\n",
       "    <tr>\n",
       "      <th>57506</th>\n",
       "      <td>Hello, I was an authorized user on 3 citi card...</td>\n",
       "      <td>Incorrect information on your report</td>\n",
       "      <td>[-0.22144963, -0.065457, -0.3124509, -0.135233...</td>\n",
       "      <td>0</td>\n",
       "      <td>1</td>\n",
       "    </tr>\n",
       "    <tr>\n",
       "      <th>24738</th>\n",
       "      <td>XXXX XXXX, 2017 reviewed my Citi / AAdvantage ...</td>\n",
       "      <td>Problem with a purchase shown on your statement</td>\n",
       "      <td>[-0.14217068, -0.08859597, -0.2132252, 0.02087...</td>\n",
       "      <td>1</td>\n",
       "      <td>1</td>\n",
       "    </tr>\n",
       "    <tr>\n",
       "      <th>57510</th>\n",
       "      <td>SOMEONE GOT A HOLD OF MY PERSONAL INFORMATION....</td>\n",
       "      <td>Incorrect information on your report</td>\n",
       "      <td>[-0.3364335, -0.044569783, -0.05746943, 0.0826...</td>\n",
       "      <td>0</td>\n",
       "      <td>0</td>\n",
       "    </tr>\n",
       "    <tr>\n",
       "      <th>8363</th>\n",
       "      <td>( NOTE : I LISTED THE WRONG CREDIT CARD CO. NA...</td>\n",
       "      <td>Incorrect information on your report</td>\n",
       "      <td>[-0.08448253, -0.1601743, 0.016312039, 0.07681...</td>\n",
       "      <td>0</td>\n",
       "      <td>0</td>\n",
       "    </tr>\n",
       "    <tr>\n",
       "      <th>8370</th>\n",
       "      <td>Spent abpout {$500.00} of my $ XXXX limit. The...</td>\n",
       "      <td>Problem with a purchase shown on your statement</td>\n",
       "      <td>[-0.08250166, 0.025288777, -0.044853035, -0.01...</td>\n",
       "      <td>1</td>\n",
       "      <td>1</td>\n",
       "    </tr>\n",
       "    <tr>\n",
       "      <th>24754</th>\n",
       "      <td>Please, I need assistance from this company. I...</td>\n",
       "      <td>Incorrect information on your report</td>\n",
       "      <td>[-0.094258055, -0.13684514, -0.06697889, -0.02...</td>\n",
       "      <td>0</td>\n",
       "      <td>0</td>\n",
       "    </tr>\n",
       "    <tr>\n",
       "      <th>32950</th>\n",
       "      <td>Re : Case Number : XXXX XXXX XXXX XXXX XXXX, O...</td>\n",
       "      <td>Problem with a purchase shown on your statement</td>\n",
       "      <td>[-0.19722866, -0.0040498986, -0.007874972, -0....</td>\n",
       "      <td>1</td>\n",
       "      <td>1</td>\n",
       "    </tr>\n",
       "    <tr>\n",
       "      <th>16569</th>\n",
       "      <td>On XX/XX/2019, I called Citibank Customer Serv...</td>\n",
       "      <td>Problem with a purchase shown on your statement</td>\n",
       "      <td>[-0.5679257, -0.21958318, -0.3586696, 0.359885...</td>\n",
       "      <td>1</td>\n",
       "      <td>1</td>\n",
       "    </tr>\n",
       "    <tr>\n",
       "      <th>57530</th>\n",
       "      <td>XXXX : Acct # XXXX showing on my credit report...</td>\n",
       "      <td>Incorrect information on your report</td>\n",
       "      <td>[-0.1911035, -0.091706455, 0.10617615, 0.04376...</td>\n",
       "      <td>0</td>\n",
       "      <td>0</td>\n",
       "    </tr>\n",
       "    <tr>\n",
       "      <th>24770</th>\n",
       "      <td>Merchant : XXXX XXXX XXXX XXXX Charge Total : ...</td>\n",
       "      <td>Problem with a purchase shown on your statement</td>\n",
       "      <td>[-0.27768457, -0.36772487, -0.44611573, 0.1313...</td>\n",
       "      <td>1</td>\n",
       "      <td>1</td>\n",
       "    </tr>\n",
       "  </tbody>\n",
       "</table>\n",
       "</div>"
      ],
      "text/plain": [
       "                            Consumer complaint narrative  \\\n",
       "8201   Hello CFPB! Can you please forward the folllow...   \n",
       "49162  The response from Citi Cards has cleared up a ...   \n",
       "8206   I have made repeated attempts with Macys Credi...   \n",
       "8226   I paid {$120.00} through Citibank credit card ...   \n",
       "57391  At Best Buys request I am submitting documenta...   \n",
       "52     This is regarding dispute numbers XXXX and XXX...   \n",
       "57396  I was scammed by an online seller and SEARS in...   \n",
       "54     I have charges that I have disputed with CitiB...   \n",
       "24630  This complaint if being filed on the advice of...   \n",
       "24635  I bought a water softener from Home Depot on m...   \n",
       "8254   I received an alert call from Citi fraud depar...   \n",
       "24650  On XX/XX/XXXX and XX/XX/XXXXsomeone made 2 har...   \n",
       "16462  I moved from XXXX, NC in XXXX at which time Be...   \n",
       "86     Three orders for the amount of {$780.00}, {$39...   \n",
       "57433  I applied for the Citibank AAdvantage Platinum...   \n",
       "24665  In attempting to secure a mortgage, I have bee...   \n",
       "32862  this is agains t CitiMortgage. this is  from a...   \n",
       "57448  I never made a late payment on this account, p...   \n",
       "16496  I have used my Best Buy store credit card ( Ci...   \n",
       "8305   RE : Inability to receive issued Credit on my ...   \n",
       "16507  XX/XX/2020 Dear Sir / Madame : I am writing to...   \n",
       "16511  I received a letter in the mail on XX/XX/21 st...   \n",
       "57474  I had a Sears MasterCard serviced by Citibank....   \n",
       "8329   Between the dates of XXXX XXXX 2019, and XXXX ...   \n",
       "8333   Citibank XXXX XXXX XXXX, in XXXX XXXX, SD, XXX...   \n",
       "8334   I contacted representatives from the following...   \n",
       "24724  I am writing today in hopes to obtain your hel...   \n",
       "16532  thes accounts are not mine. please remove it. ...   \n",
       "8342   On Saturday XX/XX/XXXX at around XXXX XXXX, my...   \n",
       "160    On XX/XX/2019 I was charged {$430.00} for tire...   \n",
       "57506  Hello, I was an authorized user on 3 citi card...   \n",
       "24738  XXXX XXXX, 2017 reviewed my Citi / AAdvantage ...   \n",
       "57510  SOMEONE GOT A HOLD OF MY PERSONAL INFORMATION....   \n",
       "8363   ( NOTE : I LISTED THE WRONG CREDIT CARD CO. NA...   \n",
       "8370   Spent abpout {$500.00} of my $ XXXX limit. The...   \n",
       "24754  Please, I need assistance from this company. I...   \n",
       "32950  Re : Case Number : XXXX XXXX XXXX XXXX XXXX, O...   \n",
       "16569  On XX/XX/2019, I called Citibank Customer Serv...   \n",
       "57530  XXXX : Acct # XXXX showing on my credit report...   \n",
       "24770  Merchant : XXXX XXXX XXXX XXXX Charge Total : ...   \n",
       "\n",
       "                                                 Issue  \\\n",
       "8201              Incorrect information on your report   \n",
       "49162  Problem with a purchase shown on your statement   \n",
       "8206   Problem with a purchase shown on your statement   \n",
       "8226   Problem with a purchase shown on your statement   \n",
       "57391             Incorrect information on your report   \n",
       "52     Problem with a purchase shown on your statement   \n",
       "57396  Problem with a purchase shown on your statement   \n",
       "54     Problem with a purchase shown on your statement   \n",
       "24630             Incorrect information on your report   \n",
       "24635             Incorrect information on your report   \n",
       "8254   Problem with a purchase shown on your statement   \n",
       "24650             Incorrect information on your report   \n",
       "16462             Incorrect information on your report   \n",
       "86     Problem with a purchase shown on your statement   \n",
       "57433             Incorrect information on your report   \n",
       "24665             Incorrect information on your report   \n",
       "32862             Incorrect information on your report   \n",
       "57448             Incorrect information on your report   \n",
       "16496  Problem with a purchase shown on your statement   \n",
       "8305   Problem with a purchase shown on your statement   \n",
       "16507  Problem with a purchase shown on your statement   \n",
       "16511             Incorrect information on your report   \n",
       "57474  Problem with a purchase shown on your statement   \n",
       "8329              Incorrect information on your report   \n",
       "8333   Problem with a purchase shown on your statement   \n",
       "8334              Incorrect information on your report   \n",
       "24724             Incorrect information on your report   \n",
       "16532             Incorrect information on your report   \n",
       "8342   Problem with a purchase shown on your statement   \n",
       "160    Problem with a purchase shown on your statement   \n",
       "57506             Incorrect information on your report   \n",
       "24738  Problem with a purchase shown on your statement   \n",
       "57510             Incorrect information on your report   \n",
       "8363              Incorrect information on your report   \n",
       "8370   Problem with a purchase shown on your statement   \n",
       "24754             Incorrect information on your report   \n",
       "32950  Problem with a purchase shown on your statement   \n",
       "16569  Problem with a purchase shown on your statement   \n",
       "57530             Incorrect information on your report   \n",
       "24770  Problem with a purchase shown on your statement   \n",
       "\n",
       "                                              Embeddings  Label  Prediction  \n",
       "8201   [-0.6415856, 0.2658094, -0.07548106, -0.227051...      0           0  \n",
       "49162  [-0.18394545, -0.06851138, -0.2390448, 0.05607...      1           1  \n",
       "8206   [-0.32731006, -0.31460646, 0.043683853, -0.072...      1           1  \n",
       "8226   [-0.31925473, -0.0050348165, -0.0012888648, 0....      1           1  \n",
       "57391  [-0.4862429, -0.15408775, -0.0962071, -0.08545...      0           0  \n",
       "52     [-0.3378458, -0.026797455, -0.23113827, 0.1057...      1           1  \n",
       "57396  [-0.22414061, -0.13224047, -0.145868, 0.152974...      1           1  \n",
       "54     [-0.23780224, 0.00975199, -0.4164698, 0.137707...      1           1  \n",
       "24630  [-0.21943046, -0.16149944, 0.04576512, 0.04763...      0           0  \n",
       "24635  [-0.1407889, -0.0016049871, 0.11041404, 0.0626...      0           0  \n",
       "8254   [-0.28396654, -0.06399599, -0.26624554, 0.0315...      1           1  \n",
       "24650  [-0.30280533, -0.18723729, -0.24056606, -0.067...      0           0  \n",
       "16462  [-0.20176429, -0.047458407, -0.04445423, 0.036...      0           1  \n",
       "86     [-0.20812654, -0.24970719, -0.098330654, 0.033...      1           1  \n",
       "57433  [-0.088164665, -0.074218, -0.10831683, 0.14477...      0           0  \n",
       "24665  [-0.17053871, -0.15487628, -0.124532476, 0.069...      0           0  \n",
       "32862  [-0.13538879, -0.032519702, -0.040338393, -0.1...      0           0  \n",
       "57448  [-0.18757434, -0.1762819, -0.35506773, -0.0952...      0           0  \n",
       "16496  [-0.37805688, 0.094233304, 0.09524898, -0.0256...      1           1  \n",
       "8305   [-0.22049132, -0.008286661, -0.19753209, -0.01...      1           1  \n",
       "16507  [-0.25981483, -0.13256228, -0.040688477, -0.02...      1           1  \n",
       "16511  [-0.16518776, 0.05371082, -0.1436442, 0.129055...      0           0  \n",
       "57474  [-0.23537046, -0.116200395, -0.2594458, 0.2327...      1           1  \n",
       "8329   [-0.22866301, -0.21557331, -0.06569601, -0.052...      0           0  \n",
       "8333   [-0.20023194, -0.13245611, -0.1901317, -0.0104...      1           1  \n",
       "8334   [-0.18384334, -0.09936935, -0.21599741, -0.046...      0           0  \n",
       "24724  [-0.1861185, -0.032934252, 0.061226994, 0.0463...      0           0  \n",
       "16532  [-0.09223174, -0.14946747, -0.010691426, -0.09...      0           0  \n",
       "8342   [-0.24445966, -0.3181396, -0.112800494, 0.1213...      1           0  \n",
       "160    [-0.25379536, 0.0042774514, -0.2706701, 0.0367...      1           1  \n",
       "57506  [-0.22144963, -0.065457, -0.3124509, -0.135233...      0           1  \n",
       "24738  [-0.14217068, -0.08859597, -0.2132252, 0.02087...      1           1  \n",
       "57510  [-0.3364335, -0.044569783, -0.05746943, 0.0826...      0           0  \n",
       "8363   [-0.08448253, -0.1601743, 0.016312039, 0.07681...      0           0  \n",
       "8370   [-0.08250166, 0.025288777, -0.044853035, -0.01...      1           1  \n",
       "24754  [-0.094258055, -0.13684514, -0.06697889, -0.02...      0           0  \n",
       "32950  [-0.19722866, -0.0040498986, -0.007874972, -0....      1           1  \n",
       "16569  [-0.5679257, -0.21958318, -0.3586696, 0.359885...      1           1  \n",
       "57530  [-0.1911035, -0.091706455, 0.10617615, 0.04376...      0           0  \n",
       "24770  [-0.27768457, -0.36772487, -0.44611573, 0.1313...      1           1  "
      ]
     },
     "execution_count": 18,
     "metadata": {},
     "output_type": "execute_result"
    }
   ],
   "source": [
    "test_data_with_results.head(40)"
   ]
  },
  {
   "cell_type": "code",
   "execution_count": 19,
   "id": "989b78d8",
   "metadata": {
    "ExecuteTime": {
     "end_time": "2022-01-05T06:39:51.348228Z",
     "start_time": "2022-01-05T06:39:38.191217Z"
    }
   },
   "outputs": [],
   "source": [
    "test_data_with_results.to_csv('Sentence Bert + SVM Test Prediction Results.csv')"
   ]
  },
  {
   "cell_type": "code",
   "execution_count": null,
   "id": "67835ab6",
   "metadata": {},
   "outputs": [],
   "source": []
  }
 ],
 "metadata": {
  "kernelspec": {
   "display_name": "Python 3 (ipykernel)",
   "language": "python",
   "name": "python3"
  },
  "language_info": {
   "codemirror_mode": {
    "name": "ipython",
    "version": 3
   },
   "file_extension": ".py",
   "mimetype": "text/x-python",
   "name": "python",
   "nbconvert_exporter": "python",
   "pygments_lexer": "ipython3",
   "version": "3.10.9"
  }
 },
 "nbformat": 4,
 "nbformat_minor": 5
}
