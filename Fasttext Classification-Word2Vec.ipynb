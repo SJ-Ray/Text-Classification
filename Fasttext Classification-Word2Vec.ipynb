{
 "cells": [
  {
   "cell_type": "code",
   "execution_count": 1,
   "id": "419beebd",
   "metadata": {
    "ExecuteTime": {
     "end_time": "2022-01-04T09:49:57.324863Z",
     "start_time": "2022-01-04T09:49:54.217399Z"
    }
   },
   "outputs": [],
   "source": [
    "import pandas as pd\n",
    "import numpy as np\n",
    "\n",
    "import fasttext\n",
    "from gensim.utils import simple_preprocess\n",
    "import csv\n",
    "import fasttext\n",
    "from sklearn.metrics import classification_report,accuracy_score,confusion_matrix\n",
    "from gensim.models import KeyedVectors"
   ]
  },
  {
   "cell_type": "code",
   "execution_count": 2,
   "id": "86b1dc4c",
   "metadata": {
    "ExecuteTime": {
     "end_time": "2022-01-04T09:50:16.942582Z",
     "start_time": "2022-01-04T09:49:57.331120Z"
    }
   },
   "outputs": [
    {
     "name": "stdout",
     "output_type": "stream",
     "text": [
      "(24449, 2)\n"
     ]
    },
    {
     "data": {
      "text/html": [
       "<div>\n",
       "<style scoped>\n",
       "    .dataframe tbody tr th:only-of-type {\n",
       "        vertical-align: middle;\n",
       "    }\n",
       "\n",
       "    .dataframe tbody tr th {\n",
       "        vertical-align: top;\n",
       "    }\n",
       "\n",
       "    .dataframe thead th {\n",
       "        text-align: right;\n",
       "    }\n",
       "</style>\n",
       "<table border=\"1\" class=\"dataframe\">\n",
       "  <thead>\n",
       "    <tr style=\"text-align: right;\">\n",
       "      <th></th>\n",
       "      <th>Consumer complaint narrative</th>\n",
       "      <th>Issue</th>\n",
       "    </tr>\n",
       "  </thead>\n",
       "  <tbody>\n",
       "    <tr>\n",
       "      <th>0</th>\n",
       "      <td>opened citi double cash card the beginning of ...</td>\n",
       "      <td>Getting a credit card</td>\n",
       "    </tr>\n",
       "    <tr>\n",
       "      <th>1</th>\n",
       "      <td>have paid off two citi cards on xx xx one for ...</td>\n",
       "      <td>Closing your account</td>\n",
       "    </tr>\n",
       "    <tr>\n",
       "      <th>3</th>\n",
       "      <td>this issue was identity theft resolved with ci...</td>\n",
       "      <td>Attempts to collect debt not owed</td>\n",
       "    </tr>\n",
       "    <tr>\n",
       "      <th>5</th>\n",
       "      <td>on xx xx xxxx received letter from citibank da...</td>\n",
       "      <td>Problem with a purchase shown on your statement</td>\n",
       "    </tr>\n",
       "    <tr>\n",
       "      <th>6</th>\n",
       "      <td>small business checking and savings corporate ...</td>\n",
       "      <td>Managing an account</td>\n",
       "    </tr>\n",
       "  </tbody>\n",
       "</table>\n",
       "</div>"
      ],
      "text/plain": [
       "                        Consumer complaint narrative  \\\n",
       "0  opened citi double cash card the beginning of ...   \n",
       "1  have paid off two citi cards on xx xx one for ...   \n",
       "3  this issue was identity theft resolved with ci...   \n",
       "5  on xx xx xxxx received letter from citibank da...   \n",
       "6  small business checking and savings corporate ...   \n",
       "\n",
       "                                             Issue  \n",
       "0                            Getting a credit card  \n",
       "1                             Closing your account  \n",
       "3                Attempts to collect debt not owed  \n",
       "5  Problem with a purchase shown on your statement  \n",
       "6                              Managing an account  "
      ]
     },
     "execution_count": 2,
     "metadata": {},
     "output_type": "execute_result"
    }
   ],
   "source": [
    "data = pd.read_csv('../complaints-2021-11-16_03_13.csv')\n",
    "data = data[['Consumer complaint narrative','Issue']]\n",
    "data = data[~(data['Consumer complaint narrative'].isnull())]\n",
    "data = data[~(data['Consumer complaint narrative']=='')]\n",
    "data['Consumer complaint narrative'] = data['Consumer complaint narrative'].apply(lambda x:\" \".join(simple_preprocess(x)))\n",
    "print(data.shape)\n",
    "data.head()"
   ]
  },
  {
   "cell_type": "code",
   "execution_count": 3,
   "id": "d59584b8",
   "metadata": {
    "ExecuteTime": {
     "end_time": "2022-01-04T09:50:19.209350Z",
     "start_time": "2022-01-04T09:50:16.946927Z"
    }
   },
   "outputs": [],
   "source": [
    "data['Consumer complaint narrative'].to_csv('Embedding_data.txt', \n",
    "                                          index = False, \n",
    "                                          sep = ' ',\n",
    "                                          header = None, \n",
    "                                          quoting = csv.QUOTE_NONE, \n",
    "                                          quotechar = \"\", \n",
    "                                          escapechar = \" \")"
   ]
  },
  {
   "cell_type": "raw",
   "id": "95ff7be0",
   "metadata": {
    "ExecuteTime": {
     "end_time": "2022-01-04T09:48:50.658789Z",
     "start_time": "2022-01-04T09:47:53.091361Z"
    }
   },
   "source": [
    "model = KeyedVectors.load_word2vec_format('../GoogleNews-vectors-negative300.bin/GoogleNews-vectors-negative300.bin', binary=True)"
   ]
  },
  {
   "cell_type": "raw",
   "id": "07d2b498",
   "metadata": {
    "ExecuteTime": {
     "start_time": "2022-01-04T09:31:47.012Z"
    }
   },
   "source": [
    "model = fasttext.train_unsupervised('Embedding_data.txt', \"cbow\")"
   ]
  },
  {
   "cell_type": "raw",
   "id": "e5a11d18",
   "metadata": {
    "ExecuteTime": {
     "end_time": "2022-01-03T08:55:29.367302Z",
     "start_time": "2022-01-03T08:55:28.301860Z"
    }
   },
   "source": [
    "model.save_model(\"Fasttext_trained_Embedding_model.bin\")"
   ]
  },
  {
   "cell_type": "raw",
   "id": "7dba5d0c",
   "metadata": {
    "ExecuteTime": {
     "end_time": "2022-01-03T08:56:07.634078Z",
     "start_time": "2022-01-03T08:56:06.671079Z"
    }
   },
   "source": [
    "model = fasttext.load_model(\"Fasttext_trained_Embedding_model.bin\")"
   ]
  },
  {
   "cell_type": "raw",
   "id": "7e45d854",
   "metadata": {
    "ExecuteTime": {
     "end_time": "2022-01-04T09:50:20.391117Z",
     "start_time": "2022-01-04T09:50:19.216306Z"
    }
   },
   "source": [
    "# Extracting Word Vectors from the Trained Fasttext Model\n",
    "\n",
    "dimension = model.get_dimension()\n",
    "words_list = model.get_words()\n",
    "\n",
    "kv = KeyedVectors(vector_size= dimension)\n",
    "\n",
    "vectors = [] \n",
    "for word in words_list: \n",
    "    vectors.append(model.get_word_vector(word))  \n",
    "\n",
    "kv.add(words_list, vectors) \n",
    "\n",
    "kv.save_word2vec_format('Word2Vec_pretrained_vectors.bin',binary=True)"
   ]
  },
  {
   "cell_type": "code",
   "execution_count": 5,
   "id": "4a02bf40",
   "metadata": {
    "ExecuteTime": {
     "end_time": "2022-01-04T09:50:39.523795Z",
     "start_time": "2022-01-04T09:50:36.784783Z"
    }
   },
   "outputs": [
    {
     "name": "stdout",
     "output_type": "stream",
     "text": [
      "(3184, 2)\n",
      "\n",
      "Problem with a purchase shown on your statement    1993\n",
      "Incorrect information on your report               1191\n",
      "Name: Issue, dtype: int64\n"
     ]
    },
    {
     "data": {
      "text/html": [
       "<div>\n",
       "<style scoped>\n",
       "    .dataframe tbody tr th:only-of-type {\n",
       "        vertical-align: middle;\n",
       "    }\n",
       "\n",
       "    .dataframe tbody tr th {\n",
       "        vertical-align: top;\n",
       "    }\n",
       "\n",
       "    .dataframe thead th {\n",
       "        text-align: right;\n",
       "    }\n",
       "</style>\n",
       "<table border=\"1\" class=\"dataframe\">\n",
       "  <thead>\n",
       "    <tr style=\"text-align: right;\">\n",
       "      <th></th>\n",
       "      <th>Consumer complaint narrative</th>\n",
       "      <th>Issue</th>\n",
       "    </tr>\n",
       "  </thead>\n",
       "  <tbody>\n",
       "    <tr>\n",
       "      <th>554</th>\n",
       "      <td>on xx xx two charges were made at vendor calle...</td>\n",
       "      <td>__label__Problem_with_a_purchase_shown_on_your...</td>\n",
       "    </tr>\n",
       "    <tr>\n",
       "      <th>11901</th>\n",
       "      <td>citibank south dakota charge off frs file numb...</td>\n",
       "      <td>__label__Incorrect_information_on_your_report</td>\n",
       "    </tr>\n",
       "    <tr>\n",
       "      <th>17377</th>\n",
       "      <td>made purchaseson xxxx that was opened and xxxx...</td>\n",
       "      <td>__label__Problem_with_a_purchase_shown_on_your...</td>\n",
       "    </tr>\n",
       "    <tr>\n",
       "      <th>8681</th>\n",
       "      <td>on xxxx xx xx filed dispute with citibank conc...</td>\n",
       "      <td>__label__Problem_with_a_purchase_shown_on_your...</td>\n",
       "    </tr>\n",
       "    <tr>\n",
       "      <th>5644</th>\n",
       "      <td>on xx xx xxxx purchased xxxx xxxx xxxx concert...</td>\n",
       "      <td>__label__Problem_with_a_purchase_shown_on_your...</td>\n",
       "    </tr>\n",
       "  </tbody>\n",
       "</table>\n",
       "</div>"
      ],
      "text/plain": [
       "                            Consumer complaint narrative  \\\n",
       "554    on xx xx two charges were made at vendor calle...   \n",
       "11901  citibank south dakota charge off frs file numb...   \n",
       "17377  made purchaseson xxxx that was opened and xxxx...   \n",
       "8681   on xxxx xx xx filed dispute with citibank conc...   \n",
       "5644   on xx xx xxxx purchased xxxx xxxx xxxx concert...   \n",
       "\n",
       "                                                   Issue  \n",
       "554    __label__Problem_with_a_purchase_shown_on_your...  \n",
       "11901      __label__Incorrect_information_on_your_report  \n",
       "17377  __label__Problem_with_a_purchase_shown_on_your...  \n",
       "8681   __label__Problem_with_a_purchase_shown_on_your...  \n",
       "5644   __label__Problem_with_a_purchase_shown_on_your...  "
      ]
     },
     "execution_count": 5,
     "metadata": {},
     "output_type": "execute_result"
    }
   ],
   "source": [
    "train_data = pd.read_csv('train_dataset.csv',index_col=0)\n",
    "print(train_data.shape,end=\"\\n\\n\")\n",
    "print(train_data['Issue'].value_counts())\n",
    "\n",
    "train_data['Issue']= train_data['Issue'].apply(lambda x: \"_\".join(x.split()))\n",
    "train_data['Consumer complaint narrative'] = train_data['Consumer complaint narrative'].apply(lambda x:\" \".join(simple_preprocess(x)))\n",
    "# Prefixing each row of the category column with '__label__'\n",
    "train_data['Issue'] = train_data['Issue'].apply(lambda x: '__label__' + x)\n",
    "\n",
    "train_data.head()"
   ]
  },
  {
   "cell_type": "code",
   "execution_count": 6,
   "id": "6a25b5f4",
   "metadata": {
    "ExecuteTime": {
     "end_time": "2022-01-04T09:50:40.729792Z",
     "start_time": "2022-01-04T09:50:39.529742Z"
    }
   },
   "outputs": [
    {
     "name": "stdout",
     "output_type": "stream",
     "text": [
      "(1364, 2)\n",
      "\n",
      "Problem with a purchase shown on your statement    854\n",
      "Incorrect information on your report               510\n",
      "Name: Issue, dtype: int64\n"
     ]
    },
    {
     "data": {
      "text/html": [
       "<div>\n",
       "<style scoped>\n",
       "    .dataframe tbody tr th:only-of-type {\n",
       "        vertical-align: middle;\n",
       "    }\n",
       "\n",
       "    .dataframe tbody tr th {\n",
       "        vertical-align: top;\n",
       "    }\n",
       "\n",
       "    .dataframe thead th {\n",
       "        text-align: right;\n",
       "    }\n",
       "</style>\n",
       "<table border=\"1\" class=\"dataframe\">\n",
       "  <thead>\n",
       "    <tr style=\"text-align: right;\">\n",
       "      <th></th>\n",
       "      <th>Consumer complaint narrative</th>\n",
       "      <th>Issue</th>\n",
       "    </tr>\n",
       "  </thead>\n",
       "  <tbody>\n",
       "    <tr>\n",
       "      <th>8201</th>\n",
       "      <td>hello cfpb can you please forward the folllowi...</td>\n",
       "      <td>__label__Incorrect_information_on_your_report</td>\n",
       "    </tr>\n",
       "    <tr>\n",
       "      <th>49162</th>\n",
       "      <td>the response from citi cards has cleared up lo...</td>\n",
       "      <td>__label__Problem_with_a_purchase_shown_on_your...</td>\n",
       "    </tr>\n",
       "    <tr>\n",
       "      <th>8206</th>\n",
       "      <td>have made repeated attempts with macys credit ...</td>\n",
       "      <td>__label__Problem_with_a_purchase_shown_on_your...</td>\n",
       "    </tr>\n",
       "    <tr>\n",
       "      <th>8226</th>\n",
       "      <td>paid through citibank credit card for two pair...</td>\n",
       "      <td>__label__Problem_with_a_purchase_shown_on_your...</td>\n",
       "    </tr>\n",
       "    <tr>\n",
       "      <th>57391</th>\n",
       "      <td>at best buys request am submitting documentati...</td>\n",
       "      <td>__label__Incorrect_information_on_your_report</td>\n",
       "    </tr>\n",
       "  </tbody>\n",
       "</table>\n",
       "</div>"
      ],
      "text/plain": [
       "                            Consumer complaint narrative  \\\n",
       "8201   hello cfpb can you please forward the folllowi...   \n",
       "49162  the response from citi cards has cleared up lo...   \n",
       "8206   have made repeated attempts with macys credit ...   \n",
       "8226   paid through citibank credit card for two pair...   \n",
       "57391  at best buys request am submitting documentati...   \n",
       "\n",
       "                                                   Issue  \n",
       "8201       __label__Incorrect_information_on_your_report  \n",
       "49162  __label__Problem_with_a_purchase_shown_on_your...  \n",
       "8206   __label__Problem_with_a_purchase_shown_on_your...  \n",
       "8226   __label__Problem_with_a_purchase_shown_on_your...  \n",
       "57391      __label__Incorrect_information_on_your_report  "
      ]
     },
     "execution_count": 6,
     "metadata": {},
     "output_type": "execute_result"
    }
   ],
   "source": [
    "test_data = pd.read_csv('test_dataset.csv',index_col=0)\n",
    "print(test_data.shape,end=\"\\n\\n\")\n",
    "print(test_data['Issue'].value_counts())\n",
    "\n",
    "test_data['Issue']= test_data['Issue'].apply(lambda x: \"_\".join(x.split()))\n",
    "test_data['Consumer complaint narrative'] = test_data['Consumer complaint narrative'].apply(lambda x:\" \".join(simple_preprocess(x)))\n",
    "# Prefixing each row of the category column with '__label__'\n",
    "test_data['Issue'] = test_data['Issue'].apply(lambda x: '__label__' + x)\n",
    "\n",
    "test_data.head()"
   ]
  },
  {
   "cell_type": "code",
   "execution_count": 7,
   "id": "bb859880",
   "metadata": {
    "ExecuteTime": {
     "end_time": "2022-01-04T09:50:41.158188Z",
     "start_time": "2022-01-04T09:50:40.735745Z"
    }
   },
   "outputs": [],
   "source": [
    "# Saving the CSV file as a text file to train/test the classifier\n",
    "train_data[['Consumer complaint narrative', 'Issue']].to_csv('train.txt', \n",
    "                                          index = False, \n",
    "                                          sep = ' ',\n",
    "                                          header = None, \n",
    "                                          quoting = csv.QUOTE_NONE, \n",
    "                                          quotechar = \"\", \n",
    "                                          escapechar = \" \")\n",
    "\n",
    "test_data[['Consumer complaint narrative', 'Issue']].to_csv('test.txt', \n",
    "                                     index = False, \n",
    "                                     sep = ' ',\n",
    "                                     header = None, \n",
    "                                     quoting = csv.QUOTE_NONE, \n",
    "                                     quotechar = \"\", \n",
    "                                     escapechar = \" \")"
   ]
  },
  {
   "cell_type": "code",
   "execution_count": 8,
   "id": "1b204904",
   "metadata": {
    "ExecuteTime": {
     "end_time": "2022-01-04T09:52:59.789564Z",
     "start_time": "2022-01-04T09:51:38.632375Z"
    }
   },
   "outputs": [],
   "source": [
    "# Training the fastText classifier with the saved pretrained vectors \n",
    "model = fasttext.train_supervised('train.txt',pretrainedVectors='../GoogleNews-vectors-negative300.bin/GoogleNews-vectors-negative300.bin',dim=300,wordNgrams = 2)"
   ]
  },
  {
   "cell_type": "code",
   "execution_count": 9,
   "id": "8d46f323",
   "metadata": {
    "ExecuteTime": {
     "end_time": "2022-01-04T09:53:00.688564Z",
     "start_time": "2022-01-04T09:52:59.796574Z"
    }
   },
   "outputs": [
    {
     "data": {
      "text/plain": [
       "(1364, 0.9420821114369502, 0.9420821114369502)"
      ]
     },
     "execution_count": 9,
     "metadata": {},
     "output_type": "execute_result"
    }
   ],
   "source": [
    "# Evaluating performance on the entire test file\n",
    "model.test('test.txt')                      "
   ]
  },
  {
   "cell_type": "code",
   "execution_count": 10,
   "id": "813d2b36",
   "metadata": {
    "ExecuteTime": {
     "end_time": "2022-01-04T09:53:05.119652Z",
     "start_time": "2022-01-04T09:53:04.519804Z"
    }
   },
   "outputs": [],
   "source": [
    "predictions = model.predict(test_data['Consumer complaint narrative'].values.tolist())"
   ]
  },
  {
   "cell_type": "code",
   "execution_count": 11,
   "id": "bc2abf9a",
   "metadata": {
    "ExecuteTime": {
     "end_time": "2022-01-04T09:53:05.776838Z",
     "start_time": "2022-01-04T09:53:05.750665Z"
    }
   },
   "outputs": [],
   "source": [
    "predictions = np.array(predictions[0]).flatten()\n",
    "target = test_data['Issue'].to_numpy()"
   ]
  },
  {
   "cell_type": "code",
   "execution_count": 12,
   "id": "368d2e51",
   "metadata": {
    "ExecuteTime": {
     "end_time": "2022-01-04T09:53:06.673377Z",
     "start_time": "2022-01-04T09:53:06.502363Z"
    }
   },
   "outputs": [
    {
     "name": "stdout",
     "output_type": "stream",
     "text": [
      "                                                          precision    recall  f1-score   support\n",
      "\n",
      "           __label__Incorrect_information_on_your_report       0.93      0.91      0.92       510\n",
      "__label__Problem_with_a_purchase_shown_on_your_statement       0.95      0.96      0.95       854\n",
      "\n",
      "                                                accuracy                           0.94      1364\n",
      "                                               macro avg       0.94      0.94      0.94      1364\n",
      "                                            weighted avg       0.94      0.94      0.94      1364\n",
      "\n"
     ]
    }
   ],
   "source": [
    "print(classification_report(target,predictions))"
   ]
  },
  {
   "cell_type": "code",
   "execution_count": 16,
   "id": "be1f686d",
   "metadata": {
    "ExecuteTime": {
     "end_time": "2022-01-04T10:00:47.764561Z",
     "start_time": "2022-01-04T10:00:47.742564Z"
    }
   },
   "outputs": [
    {
     "data": {
      "text/plain": [
       "0.9420821114369502"
      ]
     },
     "execution_count": 16,
     "metadata": {},
     "output_type": "execute_result"
    }
   ],
   "source": [
    "accuracy_score(target,predictions)"
   ]
  },
  {
   "cell_type": "code",
   "execution_count": 17,
   "id": "316b86cb",
   "metadata": {
    "ExecuteTime": {
     "end_time": "2022-01-04T10:00:48.267577Z",
     "start_time": "2022-01-04T10:00:48.241578Z"
    }
   },
   "outputs": [
    {
     "name": "stdout",
     "output_type": "stream",
     "text": [
      "821 33 46 464\n"
     ]
    }
   ],
   "source": [
    "TP,FN,FP,TN = confusion_matrix(target,predictions).flatten()\n",
    "\n",
    "print(TN,FP,FN,TP)"
   ]
  },
  {
   "cell_type": "code",
   "execution_count": 18,
   "id": "71c61b9d",
   "metadata": {
    "ExecuteTime": {
     "end_time": "2022-01-04T10:00:48.612959Z",
     "start_time": "2022-01-04T10:00:48.601916Z"
    }
   },
   "outputs": [
    {
     "data": {
      "text/plain": [
       "0.03864168618266979"
      ]
     },
     "execution_count": 18,
     "metadata": {},
     "output_type": "execute_result"
    }
   ],
   "source": [
    "FPR = FP/(TN+FP)\n",
    "\n",
    "FPR"
   ]
  },
  {
   "cell_type": "code",
   "execution_count": null,
   "id": "7b4ea756",
   "metadata": {},
   "outputs": [],
   "source": []
  }
 ],
 "metadata": {
  "kernelspec": {
   "display_name": "Python 3 (ipykernel)",
   "language": "python",
   "name": "python3"
  },
  "language_info": {
   "codemirror_mode": {
    "name": "ipython",
    "version": 3
   },
   "file_extension": ".py",
   "mimetype": "text/x-python",
   "name": "python",
   "nbconvert_exporter": "python",
   "pygments_lexer": "ipython3",
   "version": "3.10.9"
  }
 },
 "nbformat": 4,
 "nbformat_minor": 5
}
