{
 "cells": [
  {
   "cell_type": "code",
   "execution_count": 1,
   "id": "419beebd",
   "metadata": {
    "ExecuteTime": {
     "end_time": "2022-01-03T11:39:25.062635Z",
     "start_time": "2022-01-03T11:39:24.037624Z"
    }
   },
   "outputs": [],
   "source": [
    "import pandas as pd\n",
    "import numpy as np\n",
    "\n",
    "from gensim.utils import simple_preprocess\n",
    "import csv\n",
    "import fasttext\n",
    "from sklearn.metrics import classification_report,accuracy_score"
   ]
  },
  {
   "cell_type": "code",
   "execution_count": 2,
   "id": "4a02bf40",
   "metadata": {
    "ExecuteTime": {
     "end_time": "2022-01-03T11:39:32.408910Z",
     "start_time": "2022-01-03T11:39:30.765912Z"
    }
   },
   "outputs": [
    {
     "name": "stdout",
     "output_type": "stream",
     "text": [
      "(5908, 2)\n",
      "\n",
      "Problem with a purchase shown on your statement    1993\n",
      "Incorrect information on your report               1191\n",
      "Managing an account                                 935\n",
      "Fees or interest                                    904\n",
      "Other features, terms, or problems                  885\n",
      "Name: Issue, dtype: int64\n"
     ]
    },
    {
     "data": {
      "text/html": [
       "<div>\n",
       "<style scoped>\n",
       "    .dataframe tbody tr th:only-of-type {\n",
       "        vertical-align: middle;\n",
       "    }\n",
       "\n",
       "    .dataframe tbody tr th {\n",
       "        vertical-align: top;\n",
       "    }\n",
       "\n",
       "    .dataframe thead th {\n",
       "        text-align: right;\n",
       "    }\n",
       "</style>\n",
       "<table border=\"1\" class=\"dataframe\">\n",
       "  <thead>\n",
       "    <tr style=\"text-align: right;\">\n",
       "      <th></th>\n",
       "      <th>Consumer complaint narrative</th>\n",
       "      <th>Issue</th>\n",
       "    </tr>\n",
       "  </thead>\n",
       "  <tbody>\n",
       "    <tr>\n",
       "      <th>57519</th>\n",
       "      <td>the citibank credit card company is ridiculous...</td>\n",
       "      <td>__label__Problem_with_a_purchase_shown_on_your...</td>\n",
       "    </tr>\n",
       "    <tr>\n",
       "      <th>2790</th>\n",
       "      <td>hi went to local bar on the evening of xx xx x...</td>\n",
       "      <td>__label__Problem_with_a_purchase_shown_on_your...</td>\n",
       "    </tr>\n",
       "    <tr>\n",
       "      <th>54277</th>\n",
       "      <td>transferred xxxx thankyou points citibank to x...</td>\n",
       "      <td>__label__Other_features,_terms,_or_problems</td>\n",
       "    </tr>\n",
       "    <tr>\n",
       "      <th>587</th>\n",
       "      <td>was in xxxx xxxx and used my citibank credit c...</td>\n",
       "      <td>__label__Problem_with_a_purchase_shown_on_your...</td>\n",
       "    </tr>\n",
       "    <tr>\n",
       "      <th>12420</th>\n",
       "      <td>clicked promotion on citibank website that sta...</td>\n",
       "      <td>__label__Managing_an_account</td>\n",
       "    </tr>\n",
       "  </tbody>\n",
       "</table>\n",
       "</div>"
      ],
      "text/plain": [
       "                            Consumer complaint narrative  \\\n",
       "57519  the citibank credit card company is ridiculous...   \n",
       "2790   hi went to local bar on the evening of xx xx x...   \n",
       "54277  transferred xxxx thankyou points citibank to x...   \n",
       "587    was in xxxx xxxx and used my citibank credit c...   \n",
       "12420  clicked promotion on citibank website that sta...   \n",
       "\n",
       "                                                   Issue  \n",
       "57519  __label__Problem_with_a_purchase_shown_on_your...  \n",
       "2790   __label__Problem_with_a_purchase_shown_on_your...  \n",
       "54277        __label__Other_features,_terms,_or_problems  \n",
       "587    __label__Problem_with_a_purchase_shown_on_your...  \n",
       "12420                       __label__Managing_an_account  "
      ]
     },
     "execution_count": 2,
     "metadata": {},
     "output_type": "execute_result"
    }
   ],
   "source": [
    "train_data = pd.read_csv('train_dataset_multiclass.csv',index_col=0)\n",
    "print(train_data.shape,end=\"\\n\\n\")\n",
    "print(train_data['Issue'].value_counts())\n",
    "\n",
    "train_data['Issue']= train_data['Issue'].apply(lambda x: \"_\".join(x.split()))\n",
    "train_data['Consumer complaint narrative'] = train_data['Consumer complaint narrative'].apply(lambda x:\" \".join(simple_preprocess(x)))\n",
    "# Prefixing each row of the category column with '__label__'\n",
    "train_data['Issue'] = train_data['Issue'].apply(lambda x: '__label__' + x)\n",
    "\n",
    "train_data.head()"
   ]
  },
  {
   "cell_type": "code",
   "execution_count": 3,
   "id": "6a25b5f4",
   "metadata": {
    "ExecuteTime": {
     "end_time": "2022-01-03T11:39:55.066879Z",
     "start_time": "2022-01-03T11:39:54.379920Z"
    }
   },
   "outputs": [
    {
     "name": "stdout",
     "output_type": "stream",
     "text": [
      "(2532, 2)\n",
      "\n",
      "Problem with a purchase shown on your statement    854\n",
      "Incorrect information on your report               510\n",
      "Managing an account                                401\n",
      "Fees or interest                                   388\n",
      "Other features, terms, or problems                 379\n",
      "Name: Issue, dtype: int64\n"
     ]
    },
    {
     "data": {
      "text/html": [
       "<div>\n",
       "<style scoped>\n",
       "    .dataframe tbody tr th:only-of-type {\n",
       "        vertical-align: middle;\n",
       "    }\n",
       "\n",
       "    .dataframe tbody tr th {\n",
       "        vertical-align: top;\n",
       "    }\n",
       "\n",
       "    .dataframe thead th {\n",
       "        text-align: right;\n",
       "    }\n",
       "</style>\n",
       "<table border=\"1\" class=\"dataframe\">\n",
       "  <thead>\n",
       "    <tr style=\"text-align: right;\">\n",
       "      <th></th>\n",
       "      <th>Consumer complaint narrative</th>\n",
       "      <th>Issue</th>\n",
       "    </tr>\n",
       "  </thead>\n",
       "  <tbody>\n",
       "    <tr>\n",
       "      <th>17357</th>\n",
       "      <td>back in we noticed charge on our macy credit c...</td>\n",
       "      <td>__label__Fees_or_interest</td>\n",
       "    </tr>\n",
       "    <tr>\n",
       "      <th>6524</th>\n",
       "      <td>on xx xx xxxx purchased ticket xxxx xxxx for x...</td>\n",
       "      <td>__label__Problem_with_a_purchase_shown_on_your...</td>\n",
       "    </tr>\n",
       "    <tr>\n",
       "      <th>23689</th>\n",
       "      <td>hope all is well the reason why im writing is ...</td>\n",
       "      <td>__label__Fees_or_interest</td>\n",
       "    </tr>\n",
       "    <tr>\n",
       "      <th>6960</th>\n",
       "      <td>citibank had requested some xxxx documents ear...</td>\n",
       "      <td>__label__Managing_an_account</td>\n",
       "    </tr>\n",
       "    <tr>\n",
       "      <th>7204</th>\n",
       "      <td>on xx xx authorized payment of amount to pay o...</td>\n",
       "      <td>__label__Managing_an_account</td>\n",
       "    </tr>\n",
       "  </tbody>\n",
       "</table>\n",
       "</div>"
      ],
      "text/plain": [
       "                            Consumer complaint narrative  \\\n",
       "17357  back in we noticed charge on our macy credit c...   \n",
       "6524   on xx xx xxxx purchased ticket xxxx xxxx for x...   \n",
       "23689  hope all is well the reason why im writing is ...   \n",
       "6960   citibank had requested some xxxx documents ear...   \n",
       "7204   on xx xx authorized payment of amount to pay o...   \n",
       "\n",
       "                                                   Issue  \n",
       "17357                          __label__Fees_or_interest  \n",
       "6524   __label__Problem_with_a_purchase_shown_on_your...  \n",
       "23689                          __label__Fees_or_interest  \n",
       "6960                        __label__Managing_an_account  \n",
       "7204                        __label__Managing_an_account  "
      ]
     },
     "execution_count": 3,
     "metadata": {},
     "output_type": "execute_result"
    }
   ],
   "source": [
    "test_data = pd.read_csv('test_dataset_multiclass.csv',index_col=0)\n",
    "print(test_data.shape,end=\"\\n\\n\")\n",
    "print(test_data['Issue'].value_counts())\n",
    "\n",
    "test_data['Issue']= test_data['Issue'].apply(lambda x: \"_\".join(x.split()))\n",
    "test_data['Consumer complaint narrative'] = test_data['Consumer complaint narrative'].apply(lambda x:\" \".join(simple_preprocess(x)))\n",
    "# Prefixing each row of the category column with '__label__'\n",
    "test_data['Issue'] = test_data['Issue'].apply(lambda x: '__label__' + x)\n",
    "\n",
    "test_data.head()"
   ]
  },
  {
   "cell_type": "code",
   "execution_count": 4,
   "id": "bb859880",
   "metadata": {
    "ExecuteTime": {
     "end_time": "2022-01-03T11:40:15.897854Z",
     "start_time": "2022-01-03T11:40:15.636784Z"
    }
   },
   "outputs": [],
   "source": [
    "# Saving the CSV file as a text file to train/test the classifier\n",
    "train_data[['Consumer complaint narrative', 'Issue']].to_csv('train_multiclass.txt', \n",
    "                                          index = False, \n",
    "                                          sep = ' ',\n",
    "                                          header = None, \n",
    "                                          quoting = csv.QUOTE_NONE, \n",
    "                                          quotechar = \"\", \n",
    "                                          escapechar = \" \")\n",
    "\n",
    "test_data[['Consumer complaint narrative', 'Issue']].to_csv('test_multiclass.txt', \n",
    "                                     index = False, \n",
    "                                     sep = ' ',\n",
    "                                     header = None, \n",
    "                                     quoting = csv.QUOTE_NONE, \n",
    "                                     quotechar = \"\", \n",
    "                                     escapechar = \" \")"
   ]
  },
  {
   "cell_type": "code",
   "execution_count": 5,
   "id": "1b204904",
   "metadata": {
    "ExecuteTime": {
     "end_time": "2022-01-03T11:40:29.166338Z",
     "start_time": "2022-01-03T11:40:26.808203Z"
    }
   },
   "outputs": [],
   "source": [
    "# Training the fastText classifier\n",
    "model = fasttext.train_supervised('train_multiclass.txt', wordNgrams = 2)"
   ]
  },
  {
   "cell_type": "code",
   "execution_count": 6,
   "id": "8d46f323",
   "metadata": {
    "ExecuteTime": {
     "end_time": "2022-01-03T11:40:37.601714Z",
     "start_time": "2022-01-03T11:40:37.356668Z"
    }
   },
   "outputs": [
    {
     "data": {
      "text/plain": [
       "(2532, 0.4830173775671406, 0.4830173775671406)"
      ]
     },
     "execution_count": 6,
     "metadata": {},
     "output_type": "execute_result"
    }
   ],
   "source": [
    "# Evaluating performance on the entire test file\n",
    "model.test('test_multiclass.txt')                      "
   ]
  },
  {
   "cell_type": "code",
   "execution_count": 7,
   "id": "813d2b36",
   "metadata": {
    "ExecuteTime": {
     "end_time": "2022-01-03T11:40:52.365977Z",
     "start_time": "2022-01-03T11:40:52.117009Z"
    }
   },
   "outputs": [],
   "source": [
    "predictions = model.predict(test_data['Consumer complaint narrative'].values.tolist())"
   ]
  },
  {
   "cell_type": "code",
   "execution_count": 8,
   "id": "bc2abf9a",
   "metadata": {
    "ExecuteTime": {
     "end_time": "2022-01-03T11:40:53.236908Z",
     "start_time": "2022-01-03T11:40:53.220947Z"
    }
   },
   "outputs": [],
   "source": [
    "predictions = np.array(predictions[0]).flatten()\n",
    "target = test_data['Issue'].to_numpy()"
   ]
  },
  {
   "cell_type": "code",
   "execution_count": 9,
   "id": "368d2e51",
   "metadata": {
    "ExecuteTime": {
     "end_time": "2022-01-03T11:40:58.749617Z",
     "start_time": "2022-01-03T11:40:58.661186Z"
    }
   },
   "outputs": [
    {
     "name": "stdout",
     "output_type": "stream",
     "text": [
      "                                                          precision    recall  f1-score   support\n",
      "\n",
      "                               __label__Fees_or_interest       0.56      0.10      0.17       388\n",
      "           __label__Incorrect_information_on_your_report       0.47      0.67      0.55       510\n",
      "                            __label__Managing_an_account       0.84      0.10      0.19       401\n",
      "             __label__Other_features,_terms,_or_problems       0.00      0.00      0.00       379\n",
      "__label__Problem_with_a_purchase_shown_on_your_statement       0.47      0.93      0.63       854\n",
      "\n",
      "                                                accuracy                           0.48      2532\n",
      "                                               macro avg       0.47      0.36      0.31      2532\n",
      "                                            weighted avg       0.47      0.48      0.38      2532\n",
      "\n"
     ]
    },
    {
     "name": "stderr",
     "output_type": "stream",
     "text": [
      "C:\\Users\\suraj\\anaconda3\\envs\\NLP\\lib\\site-packages\\sklearn\\metrics\\_classification.py:1308: UndefinedMetricWarning: Precision and F-score are ill-defined and being set to 0.0 in labels with no predicted samples. Use `zero_division` parameter to control this behavior.\n",
      "  _warn_prf(average, modifier, msg_start, len(result))\n",
      "C:\\Users\\suraj\\anaconda3\\envs\\NLP\\lib\\site-packages\\sklearn\\metrics\\_classification.py:1308: UndefinedMetricWarning: Precision and F-score are ill-defined and being set to 0.0 in labels with no predicted samples. Use `zero_division` parameter to control this behavior.\n",
      "  _warn_prf(average, modifier, msg_start, len(result))\n",
      "C:\\Users\\suraj\\anaconda3\\envs\\NLP\\lib\\site-packages\\sklearn\\metrics\\_classification.py:1308: UndefinedMetricWarning: Precision and F-score are ill-defined and being set to 0.0 in labels with no predicted samples. Use `zero_division` parameter to control this behavior.\n",
      "  _warn_prf(average, modifier, msg_start, len(result))\n"
     ]
    }
   ],
   "source": [
    "print(classification_report(target,predictions))"
   ]
  },
  {
   "cell_type": "code",
   "execution_count": 10,
   "id": "be1f686d",
   "metadata": {
    "ExecuteTime": {
     "end_time": "2022-01-03T11:41:30.571230Z",
     "start_time": "2022-01-03T11:41:30.551186Z"
    }
   },
   "outputs": [
    {
     "data": {
      "text/plain": [
       "0.4830173775671406"
      ]
     },
     "execution_count": 10,
     "metadata": {},
     "output_type": "execute_result"
    }
   ],
   "source": [
    "accuracy_score(target,predictions)"
   ]
  },
  {
   "cell_type": "code",
   "execution_count": null,
   "id": "316b86cb",
   "metadata": {},
   "outputs": [],
   "source": []
  }
 ],
 "metadata": {
  "kernelspec": {
   "display_name": "Python 3 (ipykernel)",
   "language": "python",
   "name": "python3"
  },
  "language_info": {
   "codemirror_mode": {
    "name": "ipython",
    "version": 3
   },
   "file_extension": ".py",
   "mimetype": "text/x-python",
   "name": "python",
   "nbconvert_exporter": "python",
   "pygments_lexer": "ipython3",
   "version": "3.10.9"
  }
 },
 "nbformat": 4,
 "nbformat_minor": 5
}
