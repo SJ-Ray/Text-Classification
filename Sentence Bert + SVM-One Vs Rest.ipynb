{
 "cells": [
  {
   "cell_type": "code",
   "execution_count": 1,
   "id": "4a19bbf4",
   "metadata": {
    "ExecuteTime": {
     "end_time": "2022-01-04T07:04:07.785691Z",
     "start_time": "2022-01-04T07:04:03.503802Z"
    }
   },
   "outputs": [],
   "source": [
    "import pandas as pd\n",
    "import numpy as np\n",
    "from nltk.tokenize import sent_tokenize\n",
    "from sklearn.metrics import classification_report,accuracy_score,confusion_matrix\n",
    "from sklearn.preprocessing import LabelEncoder\n",
    "\n",
    "from sentence_transformers import SentenceTransformer\n",
    "from sklearn.svm import SVC"
   ]
  },
  {
   "cell_type": "markdown",
   "id": "9afdbfe4",
   "metadata": {},
   "source": [
    "# Approach Explanation\n",
    "\n",
    "Sentence-BERT (SBERT), a modification of the pretrained BERT network that use siamese and triplet network structures to derive semantically meaningful sentence embeddings that can be compared using cosine-similarity.\n",
    "\n",
    "1. Documents are tokenized into sentences.\n",
    "2. Sentence Embeddings is extracted from the Sentence transformer : paraphrase-MiniLM-L6-v2 model for each sentence in documents.<br>\n",
    "    <b>Note:</b> Embdedding size is 384 for each sentence.\n",
    "3. Sentence embeddings are averaged out to create document emedding\n",
    "4. document embeddings along with the label is used for training SVM Model."
   ]
  },
  {
   "cell_type": "code",
   "execution_count": 2,
   "id": "572ff855",
   "metadata": {
    "ExecuteTime": {
     "end_time": "2022-01-04T07:04:07.913630Z",
     "start_time": "2022-01-04T07:04:07.790634Z"
    }
   },
   "outputs": [
    {
     "name": "stdout",
     "output_type": "stream",
     "text": [
      "(5908, 2)\n",
      "\n",
      "Problem with a purchase shown on your statement    1993\n",
      "Incorrect information on your report               1191\n",
      "Managing an account                                 935\n",
      "Fees or interest                                    904\n",
      "Other features, terms, or problems                  885\n",
      "Name: Issue, dtype: int64\n"
     ]
    },
    {
     "data": {
      "text/html": [
       "<div>\n",
       "<style scoped>\n",
       "    .dataframe tbody tr th:only-of-type {\n",
       "        vertical-align: middle;\n",
       "    }\n",
       "\n",
       "    .dataframe tbody tr th {\n",
       "        vertical-align: top;\n",
       "    }\n",
       "\n",
       "    .dataframe thead th {\n",
       "        text-align: right;\n",
       "    }\n",
       "</style>\n",
       "<table border=\"1\" class=\"dataframe\">\n",
       "  <thead>\n",
       "    <tr style=\"text-align: right;\">\n",
       "      <th></th>\n",
       "      <th>Consumer complaint narrative</th>\n",
       "      <th>Issue</th>\n",
       "    </tr>\n",
       "  </thead>\n",
       "  <tbody>\n",
       "    <tr>\n",
       "      <th>57519</th>\n",
       "      <td>The Citibank Credit Card company is a ridiculo...</td>\n",
       "      <td>Problem with a purchase shown on your statement</td>\n",
       "    </tr>\n",
       "    <tr>\n",
       "      <th>2790</th>\n",
       "      <td>Hi I went to a local bar on the evening of XX/...</td>\n",
       "      <td>Problem with a purchase shown on your statement</td>\n",
       "    </tr>\n",
       "    <tr>\n",
       "      <th>54277</th>\n",
       "      <td>I transferred XXXX ThankYou Points ( Citibank ...</td>\n",
       "      <td>Other features, terms, or problems</td>\n",
       "    </tr>\n",
       "    <tr>\n",
       "      <th>587</th>\n",
       "      <td>I was in XXXX XXXX and used my CITIBANK credit...</td>\n",
       "      <td>Problem with a purchase shown on your statement</td>\n",
       "    </tr>\n",
       "    <tr>\n",
       "      <th>12420</th>\n",
       "      <td>I clicked a promotion on citibank 's website t...</td>\n",
       "      <td>Managing an account</td>\n",
       "    </tr>\n",
       "  </tbody>\n",
       "</table>\n",
       "</div>"
      ],
      "text/plain": [
       "                            Consumer complaint narrative  \\\n",
       "57519  The Citibank Credit Card company is a ridiculo...   \n",
       "2790   Hi I went to a local bar on the evening of XX/...   \n",
       "54277  I transferred XXXX ThankYou Points ( Citibank ...   \n",
       "587    I was in XXXX XXXX and used my CITIBANK credit...   \n",
       "12420  I clicked a promotion on citibank 's website t...   \n",
       "\n",
       "                                                 Issue  \n",
       "57519  Problem with a purchase shown on your statement  \n",
       "2790   Problem with a purchase shown on your statement  \n",
       "54277               Other features, terms, or problems  \n",
       "587    Problem with a purchase shown on your statement  \n",
       "12420                              Managing an account  "
      ]
     },
     "execution_count": 2,
     "metadata": {},
     "output_type": "execute_result"
    }
   ],
   "source": [
    "train_data = pd.read_csv('train_dataset_multiclass.csv',index_col=0)\n",
    "print(train_data.shape,end=\"\\n\\n\")\n",
    "print(train_data['Issue'].value_counts())\n",
    "train_data.head()"
   ]
  },
  {
   "cell_type": "code",
   "execution_count": 3,
   "id": "295a9d97",
   "metadata": {
    "ExecuteTime": {
     "end_time": "2022-01-04T07:04:07.976933Z",
     "start_time": "2022-01-04T07:04:07.915632Z"
    }
   },
   "outputs": [
    {
     "name": "stdout",
     "output_type": "stream",
     "text": [
      "(2532, 2)\n",
      "\n",
      "Problem with a purchase shown on your statement    854\n",
      "Incorrect information on your report               510\n",
      "Managing an account                                401\n",
      "Fees or interest                                   388\n",
      "Other features, terms, or problems                 379\n",
      "Name: Issue, dtype: int64\n"
     ]
    },
    {
     "data": {
      "text/html": [
       "<div>\n",
       "<style scoped>\n",
       "    .dataframe tbody tr th:only-of-type {\n",
       "        vertical-align: middle;\n",
       "    }\n",
       "\n",
       "    .dataframe tbody tr th {\n",
       "        vertical-align: top;\n",
       "    }\n",
       "\n",
       "    .dataframe thead th {\n",
       "        text-align: right;\n",
       "    }\n",
       "</style>\n",
       "<table border=\"1\" class=\"dataframe\">\n",
       "  <thead>\n",
       "    <tr style=\"text-align: right;\">\n",
       "      <th></th>\n",
       "      <th>Consumer complaint narrative</th>\n",
       "      <th>Issue</th>\n",
       "    </tr>\n",
       "  </thead>\n",
       "  <tbody>\n",
       "    <tr>\n",
       "      <th>17357</th>\n",
       "      <td>Back in 2015, we noticed a charge on our Macy ...</td>\n",
       "      <td>Fees or interest</td>\n",
       "    </tr>\n",
       "    <tr>\n",
       "      <th>6524</th>\n",
       "      <td>- On XX/XX/XXXX, I purchased 1 ticket XXXX {$3...</td>\n",
       "      <td>Problem with a purchase shown on your statement</td>\n",
       "    </tr>\n",
       "    <tr>\n",
       "      <th>23689</th>\n",
       "      <td>I hope all is well ... \\nThe reason why Im wri...</td>\n",
       "      <td>Fees or interest</td>\n",
       "    </tr>\n",
       "    <tr>\n",
       "      <th>6960</th>\n",
       "      <td>Citibank had requested some XXXX documents ear...</td>\n",
       "      <td>Managing an account</td>\n",
       "    </tr>\n",
       "    <tr>\n",
       "      <th>7204</th>\n",
       "      <td>On XX/XX/2021 I authorized a payment of amount...</td>\n",
       "      <td>Managing an account</td>\n",
       "    </tr>\n",
       "  </tbody>\n",
       "</table>\n",
       "</div>"
      ],
      "text/plain": [
       "                            Consumer complaint narrative  \\\n",
       "17357  Back in 2015, we noticed a charge on our Macy ...   \n",
       "6524   - On XX/XX/XXXX, I purchased 1 ticket XXXX {$3...   \n",
       "23689  I hope all is well ... \\nThe reason why Im wri...   \n",
       "6960   Citibank had requested some XXXX documents ear...   \n",
       "7204   On XX/XX/2021 I authorized a payment of amount...   \n",
       "\n",
       "                                                 Issue  \n",
       "17357                                 Fees or interest  \n",
       "6524   Problem with a purchase shown on your statement  \n",
       "23689                                 Fees or interest  \n",
       "6960                               Managing an account  \n",
       "7204                               Managing an account  "
      ]
     },
     "execution_count": 3,
     "metadata": {},
     "output_type": "execute_result"
    }
   ],
   "source": [
    "test_data = pd.read_csv('test_dataset_multiclass.csv',index_col=0)\n",
    "print(test_data.shape,end=\"\\n\\n\")\n",
    "print(test_data['Issue'].value_counts())\n",
    "test_data.head()"
   ]
  },
  {
   "cell_type": "code",
   "execution_count": 4,
   "id": "902d4b66",
   "metadata": {
    "ExecuteTime": {
     "end_time": "2022-01-04T07:04:23.617463Z",
     "start_time": "2022-01-04T07:04:07.978897Z"
    }
   },
   "outputs": [],
   "source": [
    "model = SentenceTransformer('paraphrase-MiniLM-L6-v2')"
   ]
  },
  {
   "cell_type": "code",
   "execution_count": 5,
   "id": "5b36ca90",
   "metadata": {
    "ExecuteTime": {
     "end_time": "2022-01-04T07:05:40.671695Z",
     "start_time": "2022-01-04T07:04:23.619463Z"
    }
   },
   "outputs": [],
   "source": [
    "train_data['Embeddings'] = train_data['Consumer complaint narrative'].apply(lambda x: np.mean(model.encode(sent_tokenize(x)),axis=0))"
   ]
  },
  {
   "cell_type": "code",
   "execution_count": 6,
   "id": "78c57585",
   "metadata": {
    "ExecuteTime": {
     "end_time": "2022-01-04T07:05:40.687022Z",
     "start_time": "2022-01-04T07:05:40.672752Z"
    }
   },
   "outputs": [],
   "source": [
    "train_data['Label'] = (train_data['Issue']=='Problem with a purchase shown on your statement').astype(int)"
   ]
  },
  {
   "cell_type": "code",
   "execution_count": 7,
   "id": "b6398029",
   "metadata": {
    "ExecuteTime": {
     "end_time": "2022-01-04T07:05:40.702361Z",
     "start_time": "2022-01-04T07:05:40.688707Z"
    }
   },
   "outputs": [
    {
     "data": {
      "text/plain": [
       "0    3915\n",
       "1    1993\n",
       "Name: Label, dtype: int64"
      ]
     },
     "execution_count": 7,
     "metadata": {},
     "output_type": "execute_result"
    }
   ],
   "source": [
    "train_data['Label'].value_counts()"
   ]
  },
  {
   "cell_type": "code",
   "execution_count": 8,
   "id": "d04ca418",
   "metadata": {
    "ExecuteTime": {
     "end_time": "2022-01-04T07:06:13.465611Z",
     "start_time": "2022-01-04T07:05:40.703373Z"
    }
   },
   "outputs": [],
   "source": [
    "test_data['Embeddings'] = test_data['Consumer complaint narrative'].apply(lambda x: np.mean(model.encode(sent_tokenize(x)),axis=0))"
   ]
  },
  {
   "cell_type": "code",
   "execution_count": 9,
   "id": "08ebadf7",
   "metadata": {
    "ExecuteTime": {
     "end_time": "2022-01-04T07:06:13.481586Z",
     "start_time": "2022-01-04T07:06:13.468569Z"
    }
   },
   "outputs": [],
   "source": [
    "test_data['Label'] = (test_data['Issue']=='Problem with a purchase shown on your statement').astype(int)"
   ]
  },
  {
   "cell_type": "code",
   "execution_count": 10,
   "id": "96afd387",
   "metadata": {
    "ExecuteTime": {
     "end_time": "2022-01-04T07:06:13.497529Z",
     "start_time": "2022-01-04T07:06:13.486537Z"
    }
   },
   "outputs": [
    {
     "data": {
      "text/plain": [
       "0    1678\n",
       "1     854\n",
       "Name: Label, dtype: int64"
      ]
     },
     "execution_count": 10,
     "metadata": {},
     "output_type": "execute_result"
    }
   ],
   "source": [
    "test_data['Label'].value_counts()"
   ]
  },
  {
   "cell_type": "code",
   "execution_count": 11,
   "id": "933ae3dc",
   "metadata": {
    "ExecuteTime": {
     "end_time": "2022-01-04T07:06:14.727329Z",
     "start_time": "2022-01-04T07:06:13.499533Z"
    }
   },
   "outputs": [],
   "source": [
    "X_train = train_data['Embeddings'].apply(pd.Series)\n",
    "y_train = train_data['Label']\n",
    "\n",
    "X_test = test_data['Embeddings'].apply(pd.Series)\n",
    "y_test = test_data['Label']"
   ]
  },
  {
   "cell_type": "code",
   "execution_count": 12,
   "id": "c3610416",
   "metadata": {
    "ExecuteTime": {
     "end_time": "2022-01-04T07:06:17.939970Z",
     "start_time": "2022-01-04T07:06:14.728971Z"
    }
   },
   "outputs": [
    {
     "data": {
      "text/plain": [
       "SVC()"
      ]
     },
     "execution_count": 12,
     "metadata": {},
     "output_type": "execute_result"
    }
   ],
   "source": [
    "clf = SVC()\n",
    "clf.fit(X_train,y_train)"
   ]
  },
  {
   "cell_type": "code",
   "execution_count": 13,
   "id": "a90cf81c",
   "metadata": {
    "ExecuteTime": {
     "end_time": "2022-01-04T07:06:19.617324Z",
     "start_time": "2022-01-04T07:06:17.940971Z"
    }
   },
   "outputs": [],
   "source": [
    "predictions = clf.predict(X_test)"
   ]
  },
  {
   "cell_type": "code",
   "execution_count": 14,
   "id": "ee63c74d",
   "metadata": {
    "ExecuteTime": {
     "end_time": "2022-01-04T07:06:19.633459Z",
     "start_time": "2022-01-04T07:06:19.618971Z"
    }
   },
   "outputs": [
    {
     "data": {
      "text/plain": [
       "0.8854660347551343"
      ]
     },
     "execution_count": 14,
     "metadata": {},
     "output_type": "execute_result"
    }
   ],
   "source": [
    "accuracy_score(y_test,predictions)"
   ]
  },
  {
   "cell_type": "code",
   "execution_count": 15,
   "id": "9ddea5c1",
   "metadata": {
    "ExecuteTime": {
     "end_time": "2022-01-04T07:06:19.649331Z",
     "start_time": "2022-01-04T07:06:19.634971Z"
    }
   },
   "outputs": [
    {
     "name": "stdout",
     "output_type": "stream",
     "text": [
      "              precision    recall  f1-score   support\n",
      "\n",
      "           0       0.89      0.94      0.92      1678\n",
      "           1       0.87      0.78      0.82       854\n",
      "\n",
      "    accuracy                           0.89      2532\n",
      "   macro avg       0.88      0.86      0.87      2532\n",
      "weighted avg       0.88      0.89      0.88      2532\n",
      "\n"
     ]
    }
   ],
   "source": [
    "print(classification_report(y_test,predictions))"
   ]
  },
  {
   "cell_type": "code",
   "execution_count": 16,
   "id": "c82aff6d",
   "metadata": {
    "ExecuteTime": {
     "end_time": "2022-01-04T07:33:11.602016Z",
     "start_time": "2022-01-04T07:33:11.595016Z"
    }
   },
   "outputs": [
    {
     "name": "stdout",
     "output_type": "stream",
     "text": [
      "[[1579   99]\n",
      " [ 191  663]]\n"
     ]
    }
   ],
   "source": [
    "print(confusion_matrix(y_test,predictions))"
   ]
  },
  {
   "cell_type": "code",
   "execution_count": 17,
   "id": "0836a04a",
   "metadata": {
    "ExecuteTime": {
     "end_time": "2022-01-04T07:33:18.815484Z",
     "start_time": "2022-01-04T07:33:18.797477Z"
    }
   },
   "outputs": [
    {
     "name": "stdout",
     "output_type": "stream",
     "text": [
      "1579 99 191 663\n"
     ]
    }
   ],
   "source": [
    "TN,FP,FN,TP = confusion_matrix(y_test,predictions).flatten()\n",
    "\n",
    "print(TN,FP,FN,TP)"
   ]
  },
  {
   "cell_type": "code",
   "execution_count": 18,
   "id": "3da821df",
   "metadata": {
    "ExecuteTime": {
     "end_time": "2022-01-04T07:33:24.517902Z",
     "start_time": "2022-01-04T07:33:24.505859Z"
    }
   },
   "outputs": [
    {
     "data": {
      "text/plain": [
       "0.05899880810488677"
      ]
     },
     "execution_count": 18,
     "metadata": {},
     "output_type": "execute_result"
    }
   ],
   "source": [
    "FPR = FP/(TN+FP)\n",
    "\n",
    "FPR"
   ]
  },
  {
   "cell_type": "code",
   "execution_count": null,
   "id": "1f3d8ccc",
   "metadata": {},
   "outputs": [],
   "source": []
  }
 ],
 "metadata": {
  "kernelspec": {
   "display_name": "Python 3 (ipykernel)",
   "language": "python",
   "name": "python3"
  },
  "language_info": {
   "codemirror_mode": {
    "name": "ipython",
    "version": 3
   },
   "file_extension": ".py",
   "mimetype": "text/x-python",
   "name": "python",
   "nbconvert_exporter": "python",
   "pygments_lexer": "ipython3",
   "version": "3.10.9"
  }
 },
 "nbformat": 4,
 "nbformat_minor": 5
}
