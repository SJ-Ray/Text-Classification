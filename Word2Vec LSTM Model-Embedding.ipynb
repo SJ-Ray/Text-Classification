{
 "cells": [
  {
   "cell_type": "code",
   "execution_count": 1,
   "id": "7611a06d",
   "metadata": {
    "ExecuteTime": {
     "end_time": "2022-01-07T15:06:42.376942Z",
     "start_time": "2022-01-07T15:06:37.618203Z"
    }
   },
   "outputs": [],
   "source": [
    "import numpy as np\n",
    "import pandas as pd\n",
    "import os\n",
    "import re\n",
    "import matplotlib.pyplot as plt\n",
    "from sklearn.preprocessing import LabelEncoder\n",
    "from gensim.models import KeyedVectors\n",
    "\n",
    "from nltk.corpus import stopwords\n",
    "from tensorflow.keras.preprocessing.text import Tokenizer\n",
    "from keras.preprocessing.sequence import pad_sequences\n",
    "from tensorflow.keras.models import Sequential\n",
    "from tensorflow.keras.layers import Dense,LSTM,Embedding,Dropout,GlobalMaxPooling1D\n",
    "from tensorflow.keras.callbacks import EarlyStopping,ModelCheckpoint\n",
    "from tensorflow.keras.utils import to_categorical\n",
    "from tensorflow.keras.models import load_model\n",
    "\n",
    "from sklearn.model_selection import train_test_split\n",
    "from sklearn.metrics import accuracy_score,classification_report,confusion_matrix\n",
    "\n",
    "import pickle"
   ]
  },
  {
   "cell_type": "markdown",
   "id": "63a373c0",
   "metadata": {},
   "source": [
    "# Data Extraction"
   ]
  },
  {
   "cell_type": "code",
   "execution_count": 2,
   "id": "12dbe371",
   "metadata": {
    "ExecuteTime": {
     "end_time": "2022-01-07T15:06:42.487941Z",
     "start_time": "2022-01-07T15:06:42.378940Z"
    }
   },
   "outputs": [
    {
     "name": "stdout",
     "output_type": "stream",
     "text": [
      "(5908, 2)\n",
      "\n",
      "Problem with a purchase shown on your statement    1993\n",
      "Incorrect information on your report               1191\n",
      "Managing an account                                 935\n",
      "Fees or interest                                    904\n",
      "Other features, terms, or problems                  885\n",
      "Name: Issue, dtype: int64\n"
     ]
    },
    {
     "data": {
      "text/html": [
       "<div>\n",
       "<style scoped>\n",
       "    .dataframe tbody tr th:only-of-type {\n",
       "        vertical-align: middle;\n",
       "    }\n",
       "\n",
       "    .dataframe tbody tr th {\n",
       "        vertical-align: top;\n",
       "    }\n",
       "\n",
       "    .dataframe thead th {\n",
       "        text-align: right;\n",
       "    }\n",
       "</style>\n",
       "<table border=\"1\" class=\"dataframe\">\n",
       "  <thead>\n",
       "    <tr style=\"text-align: right;\">\n",
       "      <th></th>\n",
       "      <th>Consumer complaint narrative</th>\n",
       "      <th>Issue</th>\n",
       "    </tr>\n",
       "  </thead>\n",
       "  <tbody>\n",
       "    <tr>\n",
       "      <th>57519</th>\n",
       "      <td>The Citibank Credit Card company is a ridiculo...</td>\n",
       "      <td>Problem with a purchase shown on your statement</td>\n",
       "    </tr>\n",
       "    <tr>\n",
       "      <th>2790</th>\n",
       "      <td>Hi I went to a local bar on the evening of XX/...</td>\n",
       "      <td>Problem with a purchase shown on your statement</td>\n",
       "    </tr>\n",
       "    <tr>\n",
       "      <th>54277</th>\n",
       "      <td>I transferred XXXX ThankYou Points ( Citibank ...</td>\n",
       "      <td>Other features, terms, or problems</td>\n",
       "    </tr>\n",
       "    <tr>\n",
       "      <th>587</th>\n",
       "      <td>I was in XXXX XXXX and used my CITIBANK credit...</td>\n",
       "      <td>Problem with a purchase shown on your statement</td>\n",
       "    </tr>\n",
       "    <tr>\n",
       "      <th>12420</th>\n",
       "      <td>I clicked a promotion on citibank 's website t...</td>\n",
       "      <td>Managing an account</td>\n",
       "    </tr>\n",
       "  </tbody>\n",
       "</table>\n",
       "</div>"
      ],
      "text/plain": [
       "                            Consumer complaint narrative  \\\n",
       "57519  The Citibank Credit Card company is a ridiculo...   \n",
       "2790   Hi I went to a local bar on the evening of XX/...   \n",
       "54277  I transferred XXXX ThankYou Points ( Citibank ...   \n",
       "587    I was in XXXX XXXX and used my CITIBANK credit...   \n",
       "12420  I clicked a promotion on citibank 's website t...   \n",
       "\n",
       "                                                 Issue  \n",
       "57519  Problem with a purchase shown on your statement  \n",
       "2790   Problem with a purchase shown on your statement  \n",
       "54277               Other features, terms, or problems  \n",
       "587    Problem with a purchase shown on your statement  \n",
       "12420                              Managing an account  "
      ]
     },
     "execution_count": 2,
     "metadata": {},
     "output_type": "execute_result"
    }
   ],
   "source": [
    "train_data = pd.read_csv('train_dataset_multiclass.csv',index_col=0)\n",
    "print(train_data.shape,end=\"\\n\\n\")\n",
    "print(train_data['Issue'].value_counts())\n",
    "train_data.head()"
   ]
  },
  {
   "cell_type": "code",
   "execution_count": 3,
   "id": "998d8c2c",
   "metadata": {
    "ExecuteTime": {
     "end_time": "2022-01-07T15:06:42.551940Z",
     "start_time": "2022-01-07T15:06:42.489938Z"
    }
   },
   "outputs": [
    {
     "name": "stdout",
     "output_type": "stream",
     "text": [
      "(2532, 2)\n",
      "\n",
      "Problem with a purchase shown on your statement    854\n",
      "Incorrect information on your report               510\n",
      "Managing an account                                401\n",
      "Fees or interest                                   388\n",
      "Other features, terms, or problems                 379\n",
      "Name: Issue, dtype: int64\n"
     ]
    },
    {
     "data": {
      "text/html": [
       "<div>\n",
       "<style scoped>\n",
       "    .dataframe tbody tr th:only-of-type {\n",
       "        vertical-align: middle;\n",
       "    }\n",
       "\n",
       "    .dataframe tbody tr th {\n",
       "        vertical-align: top;\n",
       "    }\n",
       "\n",
       "    .dataframe thead th {\n",
       "        text-align: right;\n",
       "    }\n",
       "</style>\n",
       "<table border=\"1\" class=\"dataframe\">\n",
       "  <thead>\n",
       "    <tr style=\"text-align: right;\">\n",
       "      <th></th>\n",
       "      <th>Consumer complaint narrative</th>\n",
       "      <th>Issue</th>\n",
       "    </tr>\n",
       "  </thead>\n",
       "  <tbody>\n",
       "    <tr>\n",
       "      <th>17357</th>\n",
       "      <td>Back in 2015, we noticed a charge on our Macy ...</td>\n",
       "      <td>Fees or interest</td>\n",
       "    </tr>\n",
       "    <tr>\n",
       "      <th>6524</th>\n",
       "      <td>- On XX/XX/XXXX, I purchased 1 ticket XXXX {$3...</td>\n",
       "      <td>Problem with a purchase shown on your statement</td>\n",
       "    </tr>\n",
       "    <tr>\n",
       "      <th>23689</th>\n",
       "      <td>I hope all is well ... \\nThe reason why Im wri...</td>\n",
       "      <td>Fees or interest</td>\n",
       "    </tr>\n",
       "    <tr>\n",
       "      <th>6960</th>\n",
       "      <td>Citibank had requested some XXXX documents ear...</td>\n",
       "      <td>Managing an account</td>\n",
       "    </tr>\n",
       "    <tr>\n",
       "      <th>7204</th>\n",
       "      <td>On XX/XX/2021 I authorized a payment of amount...</td>\n",
       "      <td>Managing an account</td>\n",
       "    </tr>\n",
       "  </tbody>\n",
       "</table>\n",
       "</div>"
      ],
      "text/plain": [
       "                            Consumer complaint narrative  \\\n",
       "17357  Back in 2015, we noticed a charge on our Macy ...   \n",
       "6524   - On XX/XX/XXXX, I purchased 1 ticket XXXX {$3...   \n",
       "23689  I hope all is well ... \\nThe reason why Im wri...   \n",
       "6960   Citibank had requested some XXXX documents ear...   \n",
       "7204   On XX/XX/2021 I authorized a payment of amount...   \n",
       "\n",
       "                                                 Issue  \n",
       "17357                                 Fees or interest  \n",
       "6524   Problem with a purchase shown on your statement  \n",
       "23689                                 Fees or interest  \n",
       "6960                               Managing an account  \n",
       "7204                               Managing an account  "
      ]
     },
     "execution_count": 3,
     "metadata": {},
     "output_type": "execute_result"
    }
   ],
   "source": [
    "test_data = pd.read_csv('test_dataset_multiclass.csv',index_col=0)\n",
    "print(test_data.shape,end=\"\\n\\n\")\n",
    "print(test_data['Issue'].value_counts())\n",
    "test_data.head()"
   ]
  },
  {
   "cell_type": "markdown",
   "id": "89dc2be5",
   "metadata": {},
   "source": [
    "# Data Preprocessing"
   ]
  },
  {
   "cell_type": "code",
   "execution_count": 4,
   "id": "18193b76",
   "metadata": {
    "ExecuteTime": {
     "end_time": "2022-01-07T15:06:42.567939Z",
     "start_time": "2022-01-07T15:06:42.553939Z"
    }
   },
   "outputs": [],
   "source": [
    "REPLACE_BY_SPACE_RE = re.compile('[/(){}\\[\\]\\|@,;]')\n",
    "TO_REMOVE_SYMBOLS_RE = re.compile('[^0-9a-z #+_]')\n",
    "NEXTLINE_REPLACE = re.compile('\\n')\n",
    "STOPWORDS = set(stopwords.words('english'))\n",
    "\n",
    "def clean_text(text):\n",
    "    text = text.lower()\n",
    "    text = NEXTLINE_REPLACE.sub(' ',text)\n",
    "    text = REPLACE_BY_SPACE_RE.sub(' ', text) \n",
    "    text = TO_REMOVE_SYMBOLS_RE.sub('', text)  \n",
    "    text = text.replace('x', '')\n",
    "    \n",
    "    text = ' '.join(word for word in text.split() if word not in STOPWORDS)\n",
    "    \n",
    "    return text"
   ]
  },
  {
   "cell_type": "code",
   "execution_count": 5,
   "id": "e100998a",
   "metadata": {
    "ExecuteTime": {
     "end_time": "2022-01-07T15:06:43.157936Z",
     "start_time": "2022-01-07T15:06:42.568938Z"
    }
   },
   "outputs": [],
   "source": [
    "train_data['Cleaned_Reviews'] = train_data['Consumer complaint narrative'].apply(clean_text)\n",
    "test_data['Cleaned_Reviews']  = test_data['Consumer complaint narrative'].apply(clean_text)"
   ]
  },
  {
   "cell_type": "code",
   "execution_count": 6,
   "id": "568d46f7",
   "metadata": {
    "ExecuteTime": {
     "end_time": "2022-01-07T15:06:43.173940Z",
     "start_time": "2022-01-07T15:06:43.158938Z"
    }
   },
   "outputs": [
    {
     "data": {
      "text/html": [
       "<div>\n",
       "<style scoped>\n",
       "    .dataframe tbody tr th:only-of-type {\n",
       "        vertical-align: middle;\n",
       "    }\n",
       "\n",
       "    .dataframe tbody tr th {\n",
       "        vertical-align: top;\n",
       "    }\n",
       "\n",
       "    .dataframe thead th {\n",
       "        text-align: right;\n",
       "    }\n",
       "</style>\n",
       "<table border=\"1\" class=\"dataframe\">\n",
       "  <thead>\n",
       "    <tr style=\"text-align: right;\">\n",
       "      <th></th>\n",
       "      <th>Consumer complaint narrative</th>\n",
       "      <th>Issue</th>\n",
       "      <th>Cleaned_Reviews</th>\n",
       "    </tr>\n",
       "  </thead>\n",
       "  <tbody>\n",
       "    <tr>\n",
       "      <th>57519</th>\n",
       "      <td>The Citibank Credit Card company is a ridiculo...</td>\n",
       "      <td>Problem with a purchase shown on your statement</td>\n",
       "      <td>citibank credit card company ridiculous rude c...</td>\n",
       "    </tr>\n",
       "    <tr>\n",
       "      <th>2790</th>\n",
       "      <td>Hi I went to a local bar on the evening of XX/...</td>\n",
       "      <td>Problem with a purchase shown on your statement</td>\n",
       "      <td>hi went local bar evening made two separate tr...</td>\n",
       "    </tr>\n",
       "    <tr>\n",
       "      <th>54277</th>\n",
       "      <td>I transferred XXXX ThankYou Points ( Citibank ...</td>\n",
       "      <td>Other features, terms, or problems</td>\n",
       "      <td>transferred thankyou points citibank book awar...</td>\n",
       "    </tr>\n",
       "    <tr>\n",
       "      <th>587</th>\n",
       "      <td>I was in XXXX XXXX and used my CITIBANK credit...</td>\n",
       "      <td>Problem with a purchase shown on your statement</td>\n",
       "      <td>used citibank credit card used clothing store ...</td>\n",
       "    </tr>\n",
       "    <tr>\n",
       "      <th>12420</th>\n",
       "      <td>I clicked a promotion on citibank 's website t...</td>\n",
       "      <td>Managing an account</td>\n",
       "      <td>clicked promotion citibank website stated put ...</td>\n",
       "    </tr>\n",
       "  </tbody>\n",
       "</table>\n",
       "</div>"
      ],
      "text/plain": [
       "                            Consumer complaint narrative  \\\n",
       "57519  The Citibank Credit Card company is a ridiculo...   \n",
       "2790   Hi I went to a local bar on the evening of XX/...   \n",
       "54277  I transferred XXXX ThankYou Points ( Citibank ...   \n",
       "587    I was in XXXX XXXX and used my CITIBANK credit...   \n",
       "12420  I clicked a promotion on citibank 's website t...   \n",
       "\n",
       "                                                 Issue  \\\n",
       "57519  Problem with a purchase shown on your statement   \n",
       "2790   Problem with a purchase shown on your statement   \n",
       "54277               Other features, terms, or problems   \n",
       "587    Problem with a purchase shown on your statement   \n",
       "12420                              Managing an account   \n",
       "\n",
       "                                         Cleaned_Reviews  \n",
       "57519  citibank credit card company ridiculous rude c...  \n",
       "2790   hi went local bar evening made two separate tr...  \n",
       "54277  transferred thankyou points citibank book awar...  \n",
       "587    used citibank credit card used clothing store ...  \n",
       "12420  clicked promotion citibank website stated put ...  "
      ]
     },
     "execution_count": 6,
     "metadata": {},
     "output_type": "execute_result"
    }
   ],
   "source": [
    "train_data.head()"
   ]
  },
  {
   "cell_type": "code",
   "execution_count": 7,
   "id": "faa326dc",
   "metadata": {
    "ExecuteTime": {
     "end_time": "2022-01-07T15:06:43.189937Z",
     "start_time": "2022-01-07T15:06:43.175942Z"
    }
   },
   "outputs": [
    {
     "data": {
      "text/html": [
       "<div>\n",
       "<style scoped>\n",
       "    .dataframe tbody tr th:only-of-type {\n",
       "        vertical-align: middle;\n",
       "    }\n",
       "\n",
       "    .dataframe tbody tr th {\n",
       "        vertical-align: top;\n",
       "    }\n",
       "\n",
       "    .dataframe thead th {\n",
       "        text-align: right;\n",
       "    }\n",
       "</style>\n",
       "<table border=\"1\" class=\"dataframe\">\n",
       "  <thead>\n",
       "    <tr style=\"text-align: right;\">\n",
       "      <th></th>\n",
       "      <th>Consumer complaint narrative</th>\n",
       "      <th>Issue</th>\n",
       "      <th>Cleaned_Reviews</th>\n",
       "    </tr>\n",
       "  </thead>\n",
       "  <tbody>\n",
       "    <tr>\n",
       "      <th>17357</th>\n",
       "      <td>Back in 2015, we noticed a charge on our Macy ...</td>\n",
       "      <td>Fees or interest</td>\n",
       "      <td>back 2015 noticed charge macy credit card call...</td>\n",
       "    </tr>\n",
       "    <tr>\n",
       "      <th>6524</th>\n",
       "      <td>- On XX/XX/XXXX, I purchased 1 ticket XXXX {$3...</td>\n",
       "      <td>Problem with a purchase shown on your statement</td>\n",
       "      <td>purchased 1 ticket 39000 supposed take place p...</td>\n",
       "    </tr>\n",
       "    <tr>\n",
       "      <th>23689</th>\n",
       "      <td>I hope all is well ... \\nThe reason why Im wri...</td>\n",
       "      <td>Fees or interest</td>\n",
       "      <td>hope well reason im writing bill couple days l...</td>\n",
       "    </tr>\n",
       "    <tr>\n",
       "      <th>6960</th>\n",
       "      <td>Citibank had requested some XXXX documents ear...</td>\n",
       "      <td>Managing an account</td>\n",
       "      <td>citibank requested documents earlier year prov...</td>\n",
       "    </tr>\n",
       "    <tr>\n",
       "      <th>7204</th>\n",
       "      <td>On XX/XX/2021 I authorized a payment of amount...</td>\n",
       "      <td>Managing an account</td>\n",
       "      <td>2021 authorized payment amount 260000 pay cred...</td>\n",
       "    </tr>\n",
       "  </tbody>\n",
       "</table>\n",
       "</div>"
      ],
      "text/plain": [
       "                            Consumer complaint narrative  \\\n",
       "17357  Back in 2015, we noticed a charge on our Macy ...   \n",
       "6524   - On XX/XX/XXXX, I purchased 1 ticket XXXX {$3...   \n",
       "23689  I hope all is well ... \\nThe reason why Im wri...   \n",
       "6960   Citibank had requested some XXXX documents ear...   \n",
       "7204   On XX/XX/2021 I authorized a payment of amount...   \n",
       "\n",
       "                                                 Issue  \\\n",
       "17357                                 Fees or interest   \n",
       "6524   Problem with a purchase shown on your statement   \n",
       "23689                                 Fees or interest   \n",
       "6960                               Managing an account   \n",
       "7204                               Managing an account   \n",
       "\n",
       "                                         Cleaned_Reviews  \n",
       "17357  back 2015 noticed charge macy credit card call...  \n",
       "6524   purchased 1 ticket 39000 supposed take place p...  \n",
       "23689  hope well reason im writing bill couple days l...  \n",
       "6960   citibank requested documents earlier year prov...  \n",
       "7204   2021 authorized payment amount 260000 pay cred...  "
      ]
     },
     "execution_count": 7,
     "metadata": {},
     "output_type": "execute_result"
    }
   ],
   "source": [
    "test_data.head()"
   ]
  },
  {
   "cell_type": "code",
   "execution_count": 8,
   "id": "b783b0aa",
   "metadata": {
    "ExecuteTime": {
     "end_time": "2022-01-07T15:06:43.205937Z",
     "start_time": "2022-01-07T15:06:43.190940Z"
    }
   },
   "outputs": [
    {
     "name": "stdout",
     "output_type": "stream",
     "text": [
      "(8440, 3)\n"
     ]
    },
    {
     "data": {
      "text/html": [
       "<div>\n",
       "<style scoped>\n",
       "    .dataframe tbody tr th:only-of-type {\n",
       "        vertical-align: middle;\n",
       "    }\n",
       "\n",
       "    .dataframe tbody tr th {\n",
       "        vertical-align: top;\n",
       "    }\n",
       "\n",
       "    .dataframe thead th {\n",
       "        text-align: right;\n",
       "    }\n",
       "</style>\n",
       "<table border=\"1\" class=\"dataframe\">\n",
       "  <thead>\n",
       "    <tr style=\"text-align: right;\">\n",
       "      <th></th>\n",
       "      <th>Consumer complaint narrative</th>\n",
       "      <th>Issue</th>\n",
       "      <th>Cleaned_Reviews</th>\n",
       "    </tr>\n",
       "  </thead>\n",
       "  <tbody>\n",
       "    <tr>\n",
       "      <th>57519</th>\n",
       "      <td>The Citibank Credit Card company is a ridiculo...</td>\n",
       "      <td>Problem with a purchase shown on your statement</td>\n",
       "      <td>citibank credit card company ridiculous rude c...</td>\n",
       "    </tr>\n",
       "    <tr>\n",
       "      <th>2790</th>\n",
       "      <td>Hi I went to a local bar on the evening of XX/...</td>\n",
       "      <td>Problem with a purchase shown on your statement</td>\n",
       "      <td>hi went local bar evening made two separate tr...</td>\n",
       "    </tr>\n",
       "    <tr>\n",
       "      <th>54277</th>\n",
       "      <td>I transferred XXXX ThankYou Points ( Citibank ...</td>\n",
       "      <td>Other features, terms, or problems</td>\n",
       "      <td>transferred thankyou points citibank book awar...</td>\n",
       "    </tr>\n",
       "    <tr>\n",
       "      <th>587</th>\n",
       "      <td>I was in XXXX XXXX and used my CITIBANK credit...</td>\n",
       "      <td>Problem with a purchase shown on your statement</td>\n",
       "      <td>used citibank credit card used clothing store ...</td>\n",
       "    </tr>\n",
       "    <tr>\n",
       "      <th>12420</th>\n",
       "      <td>I clicked a promotion on citibank 's website t...</td>\n",
       "      <td>Managing an account</td>\n",
       "      <td>clicked promotion citibank website stated put ...</td>\n",
       "    </tr>\n",
       "  </tbody>\n",
       "</table>\n",
       "</div>"
      ],
      "text/plain": [
       "                            Consumer complaint narrative  \\\n",
       "57519  The Citibank Credit Card company is a ridiculo...   \n",
       "2790   Hi I went to a local bar on the evening of XX/...   \n",
       "54277  I transferred XXXX ThankYou Points ( Citibank ...   \n",
       "587    I was in XXXX XXXX and used my CITIBANK credit...   \n",
       "12420  I clicked a promotion on citibank 's website t...   \n",
       "\n",
       "                                                 Issue  \\\n",
       "57519  Problem with a purchase shown on your statement   \n",
       "2790   Problem with a purchase shown on your statement   \n",
       "54277               Other features, terms, or problems   \n",
       "587    Problem with a purchase shown on your statement   \n",
       "12420                              Managing an account   \n",
       "\n",
       "                                         Cleaned_Reviews  \n",
       "57519  citibank credit card company ridiculous rude c...  \n",
       "2790   hi went local bar evening made two separate tr...  \n",
       "54277  transferred thankyou points citibank book awar...  \n",
       "587    used citibank credit card used clothing store ...  \n",
       "12420  clicked promotion citibank website stated put ...  "
      ]
     },
     "execution_count": 8,
     "metadata": {},
     "output_type": "execute_result"
    }
   ],
   "source": [
    "combined_data = pd.concat([train_data,test_data],axis=0)\n",
    "print(combined_data.shape)\n",
    "combined_data.head()"
   ]
  },
  {
   "cell_type": "code",
   "execution_count": 9,
   "id": "c617d1ad",
   "metadata": {
    "ExecuteTime": {
     "end_time": "2022-01-07T15:06:43.907523Z",
     "start_time": "2022-01-07T15:06:43.207942Z"
    }
   },
   "outputs": [
    {
     "name": "stdout",
     "output_type": "stream",
     "text": [
      "Found 19320 unique tokens.\n"
     ]
    }
   ],
   "source": [
    "# The maximum number of words to be used. (most frequent)\n",
    "MAX_NB_WORDS = 50000\n",
    "# Max number of words in each complaint.\n",
    "MAX_SEQUENCE_LENGTH = 200\n",
    "# This is fixed.\n",
    "EMBEDDING_DIM = 300\n",
    "tokenizer = Tokenizer(num_words=MAX_NB_WORDS, filters='!\"#$%&()*+,-./:;<=>?@[\\]^_`{|}~', lower=True)\n",
    "tokenizer.fit_on_texts(combined_data['Cleaned_Reviews'].values)\n",
    "word_index = tokenizer.word_index\n",
    "print('Found %s unique tokens.' % len(word_index))"
   ]
  },
  {
   "cell_type": "code",
   "execution_count": 10,
   "id": "b2bac25f",
   "metadata": {
    "ExecuteTime": {
     "end_time": "2022-01-07T15:06:43.922851Z",
     "start_time": "2022-01-07T15:06:43.910526Z"
    }
   },
   "outputs": [
    {
     "data": {
      "text/plain": [
       "LabelEncoder()"
      ]
     },
     "execution_count": 10,
     "metadata": {},
     "output_type": "execute_result"
    }
   ],
   "source": [
    "le = LabelEncoder()\n",
    "le.fit(train_data['Issue'])"
   ]
  },
  {
   "cell_type": "code",
   "execution_count": 11,
   "id": "ff4a6f52",
   "metadata": {
    "ExecuteTime": {
     "end_time": "2022-01-07T15:06:43.938526Z",
     "start_time": "2022-01-07T15:06:43.923521Z"
    }
   },
   "outputs": [
    {
     "data": {
      "text/html": [
       "<div>\n",
       "<style scoped>\n",
       "    .dataframe tbody tr th:only-of-type {\n",
       "        vertical-align: middle;\n",
       "    }\n",
       "\n",
       "    .dataframe tbody tr th {\n",
       "        vertical-align: top;\n",
       "    }\n",
       "\n",
       "    .dataframe thead th {\n",
       "        text-align: right;\n",
       "    }\n",
       "</style>\n",
       "<table border=\"1\" class=\"dataframe\">\n",
       "  <thead>\n",
       "    <tr style=\"text-align: right;\">\n",
       "      <th></th>\n",
       "      <th>Consumer complaint narrative</th>\n",
       "      <th>Issue</th>\n",
       "      <th>Cleaned_Reviews</th>\n",
       "      <th>Label</th>\n",
       "    </tr>\n",
       "  </thead>\n",
       "  <tbody>\n",
       "    <tr>\n",
       "      <th>17357</th>\n",
       "      <td>Back in 2015, we noticed a charge on our Macy ...</td>\n",
       "      <td>Fees or interest</td>\n",
       "      <td>back 2015 noticed charge macy credit card call...</td>\n",
       "      <td>0</td>\n",
       "    </tr>\n",
       "    <tr>\n",
       "      <th>6524</th>\n",
       "      <td>- On XX/XX/XXXX, I purchased 1 ticket XXXX {$3...</td>\n",
       "      <td>Problem with a purchase shown on your statement</td>\n",
       "      <td>purchased 1 ticket 39000 supposed take place p...</td>\n",
       "      <td>4</td>\n",
       "    </tr>\n",
       "  </tbody>\n",
       "</table>\n",
       "</div>"
      ],
      "text/plain": [
       "                            Consumer complaint narrative  \\\n",
       "17357  Back in 2015, we noticed a charge on our Macy ...   \n",
       "6524   - On XX/XX/XXXX, I purchased 1 ticket XXXX {$3...   \n",
       "\n",
       "                                                 Issue  \\\n",
       "17357                                 Fees or interest   \n",
       "6524   Problem with a purchase shown on your statement   \n",
       "\n",
       "                                         Cleaned_Reviews  Label  \n",
       "17357  back 2015 noticed charge macy credit card call...      0  \n",
       "6524   purchased 1 ticket 39000 supposed take place p...      4  "
      ]
     },
     "execution_count": 11,
     "metadata": {},
     "output_type": "execute_result"
    }
   ],
   "source": [
    "train_data['Label'] = le.transform(train_data['Issue'])\n",
    "test_data['Label'] = le.transform(test_data['Issue'])\n",
    "test_data.head(2)"
   ]
  },
  {
   "cell_type": "code",
   "execution_count": 12,
   "id": "4acce8a6",
   "metadata": {
    "ExecuteTime": {
     "end_time": "2022-01-07T15:06:44.364311Z",
     "start_time": "2022-01-07T15:06:43.940049Z"
    }
   },
   "outputs": [
    {
     "name": "stdout",
     "output_type": "stream",
     "text": [
      "Shape of data tensor: (5908, 200)\n"
     ]
    },
    {
     "data": {
      "text/plain": [
       "(5908, 5)"
      ]
     },
     "execution_count": 12,
     "metadata": {},
     "output_type": "execute_result"
    }
   ],
   "source": [
    "X_train = tokenizer.texts_to_sequences(train_data['Cleaned_Reviews'].values)\n",
    "X_train = pad_sequences(X_train, maxlen=MAX_SEQUENCE_LENGTH)\n",
    "print('Shape of data tensor:', X_train.shape)\n",
    "\n",
    "y_train = to_categorical(train_data['Label'])\n",
    "y_train.shape"
   ]
  },
  {
   "cell_type": "code",
   "execution_count": 13,
   "id": "9ab3551b",
   "metadata": {
    "ExecuteTime": {
     "end_time": "2022-01-07T15:06:44.617351Z",
     "start_time": "2022-01-07T15:06:44.427398Z"
    }
   },
   "outputs": [
    {
     "name": "stdout",
     "output_type": "stream",
     "text": [
      "Shape of data tensor: (2532, 200)\n"
     ]
    },
    {
     "data": {
      "text/plain": [
       "(2532, 5)"
      ]
     },
     "execution_count": 13,
     "metadata": {},
     "output_type": "execute_result"
    }
   ],
   "source": [
    "X_test = tokenizer.texts_to_sequences(test_data['Cleaned_Reviews'].values)\n",
    "X_test = pad_sequences(X_test,maxlen=MAX_SEQUENCE_LENGTH)\n",
    "print('Shape of data tensor:', X_test.shape)\n",
    "\n",
    "y_test = to_categorical(test_data['Label'])\n",
    "y_test.shape"
   ]
  },
  {
   "cell_type": "code",
   "execution_count": 14,
   "id": "acf5382a",
   "metadata": {
    "ExecuteTime": {
     "end_time": "2022-01-07T15:06:46.392453Z",
     "start_time": "2022-01-07T15:06:46.359555Z"
    }
   },
   "outputs": [],
   "source": [
    "#saving Tokenizer\n",
    "\n",
    "with open('tokenizer.pickle', 'wb') as handle:\n",
    "    pickle.dump(tokenizer, handle, protocol=pickle.HIGHEST_PROTOCOL)"
   ]
  },
  {
   "cell_type": "markdown",
   "id": "4b2d9690",
   "metadata": {},
   "source": [
    "<h4> Loading Glove embedding vector</h4>"
   ]
  },
  {
   "cell_type": "code",
   "execution_count": 15,
   "id": "9d32f45b",
   "metadata": {
    "ExecuteTime": {
     "end_time": "2022-01-07T15:07:07.795694Z",
     "start_time": "2022-01-07T15:06:47.804604Z"
    }
   },
   "outputs": [],
   "source": [
    "model = KeyedVectors.load_word2vec_format('../GoogleNews-vectors-negative300.bin/GoogleNews-vectors-negative300.bin', binary=True)"
   ]
  },
  {
   "cell_type": "raw",
   "id": "10a52b49",
   "metadata": {
    "ExecuteTime": {
     "end_time": "2022-01-07T14:55:23.478343Z",
     "start_time": "2022-01-07T14:55:13.278317Z"
    }
   },
   "source": [
    "# load the whole embedding into memory\n",
    "embeddings_index = dict()\n",
    "f = open('C:/Users/suraj/applied concepts/1. Reliance JIO/glove.6B/glove.6B.100d.txt','r',encoding='utf-8')\n",
    "\n",
    "for line in f:\n",
    "    values = line.split()\n",
    "    word = values[0]\n",
    "    coefs = np.asarray(values[1:], dtype='float32')\n",
    "    embeddings_index[word] = coefs\n",
    "\n",
    "f.close()\n",
    "print('Loaded %s word vectors.' % len(embeddings_index))"
   ]
  },
  {
   "cell_type": "code",
   "execution_count": 16,
   "id": "d022f093",
   "metadata": {
    "ExecuteTime": {
     "end_time": "2022-01-07T15:07:07.811600Z",
     "start_time": "2022-01-07T15:07:07.797601Z"
    }
   },
   "outputs": [
    {
     "data": {
      "text/plain": [
       "(300,)"
      ]
     },
     "execution_count": 16,
     "metadata": {},
     "output_type": "execute_result"
    }
   ],
   "source": [
    "model['good'].shape"
   ]
  },
  {
   "cell_type": "code",
   "execution_count": 17,
   "id": "df2a2ce1",
   "metadata": {
    "ExecuteTime": {
     "end_time": "2022-01-07T15:07:07.874147Z",
     "start_time": "2022-01-07T15:07:07.813602Z"
    }
   },
   "outputs": [
    {
     "data": {
      "text/plain": [
       "(300,)"
      ]
     },
     "execution_count": 17,
     "metadata": {},
     "output_type": "execute_result"
    }
   ],
   "source": [
    "np.zeros(300).shape"
   ]
  },
  {
   "cell_type": "code",
   "execution_count": 18,
   "id": "2776ee35",
   "metadata": {
    "ExecuteTime": {
     "end_time": "2022-01-07T15:07:19.315198Z",
     "start_time": "2022-01-07T15:07:19.209202Z"
    }
   },
   "outputs": [
    {
     "name": "stderr",
     "output_type": "stream",
     "text": [
      "C:\\Users\\suraj\\AppData\\Local\\Temp/ipykernel_16880/2235345447.py:5: DeprecationWarning: Call to deprecated `wv` (Attribute will be removed in 4.0.0, use self instead).\n",
      "  if word in model.wv.vocab.keys():\n"
     ]
    }
   ],
   "source": [
    "# create a weight matrix for words in training docs\n",
    "embedding_matrix = np.zeros((MAX_NB_WORDS, 300))\n",
    "\n",
    "for word, i in tokenizer.word_index.items():\n",
    "    if word in model.wv.vocab.keys():\n",
    "        embedding_vector = model[word]\n",
    "    else:\n",
    "        embedding_vector = None\n",
    "        \n",
    "    if embedding_vector is not None:\n",
    "        embedding_matrix[i] = embedding_vector"
   ]
  },
  {
   "cell_type": "code",
   "execution_count": 19,
   "id": "12354e21",
   "metadata": {
    "ExecuteTime": {
     "end_time": "2022-01-07T15:07:21.738693Z",
     "start_time": "2022-01-07T15:07:21.725665Z"
    }
   },
   "outputs": [
    {
     "data": {
      "text/plain": [
       "(50000, 300)"
      ]
     },
     "execution_count": 19,
     "metadata": {},
     "output_type": "execute_result"
    }
   ],
   "source": [
    "embedding_matrix.shape"
   ]
  },
  {
   "cell_type": "code",
   "execution_count": 20,
   "id": "868e987c",
   "metadata": {
    "ExecuteTime": {
     "end_time": "2022-01-07T15:07:25.141745Z",
     "start_time": "2022-01-07T15:07:25.123745Z"
    }
   },
   "outputs": [
    {
     "data": {
      "text/plain": [
       "200"
      ]
     },
     "execution_count": 20,
     "metadata": {},
     "output_type": "execute_result"
    }
   ],
   "source": [
    "X_train.shape[1]"
   ]
  },
  {
   "cell_type": "code",
   "execution_count": 21,
   "id": "3b51f0ac",
   "metadata": {
    "ExecuteTime": {
     "end_time": "2022-01-07T15:07:28.741799Z",
     "start_time": "2022-01-07T15:07:27.406518Z"
    }
   },
   "outputs": [
    {
     "name": "stdout",
     "output_type": "stream",
     "text": [
      "WARNING:tensorflow:Layer lstm will not use cuDNN kernels since it doesn't meet the criteria. It will use a generic GPU kernel as fallback when running on GPU.\n",
      "Model: \"sequential\"\n",
      "_________________________________________________________________\n",
      " Layer (type)                Output Shape              Param #   \n",
      "=================================================================\n",
      " embedding (Embedding)       (None, 200, 300)          15000000  \n",
      "                                                                 \n",
      " lstm (LSTM)                 (None, 200, 128)          219648    \n",
      "                                                                 \n",
      " global_max_pooling1d (Globa  (None, 128)              0         \n",
      " lMaxPooling1D)                                                  \n",
      "                                                                 \n",
      " dense (Dense)               (None, 64)                8256      \n",
      "                                                                 \n",
      " dense_1 (Dense)             (None, 5)                 325       \n",
      "                                                                 \n",
      "=================================================================\n",
      "Total params: 15,228,229\n",
      "Trainable params: 228,229\n",
      "Non-trainable params: 15,000,000\n",
      "_________________________________________________________________\n"
     ]
    }
   ],
   "source": [
    "model = Sequential()\n",
    "\n",
    "model.add(Embedding(MAX_NB_WORDS,EMBEDDING_DIM, weights=[embedding_matrix], input_length=X_train.shape[1],trainable=False))\n",
    "\n",
    "model.add(LSTM(128, dropout=0.2, recurrent_dropout=0.2,return_sequences=True))\n",
    "\n",
    "model.add(GlobalMaxPooling1D())\n",
    "\n",
    "model.add(Dense(64,activation='relu')) \n",
    "\n",
    "model.add(Dense(y_train.shape[1], activation='softmax'))\n",
    "\n",
    "model.compile(loss='categorical_crossentropy', optimizer='adam', metrics=['accuracy'])\n",
    "\n",
    "model.summary()"
   ]
  },
  {
   "cell_type": "code",
   "execution_count": 22,
   "id": "472926a1",
   "metadata": {
    "ExecuteTime": {
     "end_time": "2022-01-07T15:07:42.117041Z",
     "start_time": "2022-01-07T15:07:42.099045Z"
    }
   },
   "outputs": [
    {
     "name": "stdout",
     "output_type": "stream",
     "text": [
      "WARNING:tensorflow:`period` argument is deprecated. Please use `save_freq` to specify the frequency in number of batches seen.\n"
     ]
    }
   ],
   "source": [
    "filepath = \"Models_CheckPoints/saved-model-{epoch:02d}-{val_accuracy:.2f}.hdf5\"\n",
    "\n",
    "model_checkpoint_callback = ModelCheckpoint(\n",
    "    filepath=filepath,\n",
    "    save_weights_only=False,\n",
    "    monitor='val_loss',\n",
    "    mode='auto',\n",
    "    save_best_only=False,\n",
    "    period=1)\n",
    "\n",
    "\n",
    "early_stopping = EarlyStopping(monitor='val_loss', patience=5, min_delta=0.0001)\n",
    "\n",
    "callbacks_list = [model_checkpoint_callback,early_stopping]"
   ]
  },
  {
   "cell_type": "code",
   "execution_count": 23,
   "id": "3a07599c",
   "metadata": {
    "ExecuteTime": {
     "end_time": "2022-01-07T15:41:53.974485Z",
     "start_time": "2022-01-07T15:07:45.259429Z"
    },
    "scrolled": false
   },
   "outputs": [
    {
     "name": "stdout",
     "output_type": "stream",
     "text": [
      "Epoch 1/20\n",
      "93/93 [==============================] - 141s 1s/step - loss: 1.1520 - accuracy: 0.5565 - val_loss: 0.8190 - val_accuracy: 0.7133\n",
      "Epoch 2/20\n",
      "93/93 [==============================] - 142s 2s/step - loss: 0.6872 - accuracy: 0.7617 - val_loss: 0.6397 - val_accuracy: 0.7701\n",
      "Epoch 3/20\n",
      "93/93 [==============================] - 136s 1s/step - loss: 0.5763 - accuracy: 0.7982 - val_loss: 0.5809 - val_accuracy: 0.8100\n",
      "Epoch 4/20\n",
      "93/93 [==============================] - 138s 1s/step - loss: 0.5227 - accuracy: 0.8206 - val_loss: 0.5627 - val_accuracy: 0.8100\n",
      "Epoch 5/20\n",
      "93/93 [==============================] - 137s 1s/step - loss: 0.4864 - accuracy: 0.8323 - val_loss: 0.5490 - val_accuracy: 0.8152\n",
      "Epoch 6/20\n",
      "93/93 [==============================] - 138s 1s/step - loss: 0.4611 - accuracy: 0.8384 - val_loss: 0.5475 - val_accuracy: 0.8144\n",
      "Epoch 7/20\n",
      "93/93 [==============================] - 135s 1s/step - loss: 0.4244 - accuracy: 0.8514 - val_loss: 0.5784 - val_accuracy: 0.7982\n",
      "Epoch 8/20\n",
      "93/93 [==============================] - 136s 1s/step - loss: 0.4043 - accuracy: 0.8658 - val_loss: 0.5685 - val_accuracy: 0.8140\n",
      "Epoch 9/20\n",
      "93/93 [==============================] - 136s 1s/step - loss: 0.3868 - accuracy: 0.8631 - val_loss: 0.5402 - val_accuracy: 0.8164\n",
      "Epoch 10/20\n",
      "93/93 [==============================] - 135s 1s/step - loss: 0.3499 - accuracy: 0.8776 - val_loss: 0.5356 - val_accuracy: 0.8203\n",
      "Epoch 11/20\n",
      "93/93 [==============================] - 134s 1s/step - loss: 0.3168 - accuracy: 0.8939 - val_loss: 0.5380 - val_accuracy: 0.8223\n",
      "Epoch 12/20\n",
      "93/93 [==============================] - 134s 1s/step - loss: 0.2902 - accuracy: 0.8993 - val_loss: 0.5547 - val_accuracy: 0.8195\n",
      "Epoch 13/20\n",
      "93/93 [==============================] - 136s 1s/step - loss: 0.2665 - accuracy: 0.9094 - val_loss: 0.5656 - val_accuracy: 0.8167\n",
      "Epoch 14/20\n",
      "93/93 [==============================] - 135s 1s/step - loss: 0.2383 - accuracy: 0.9215 - val_loss: 0.5636 - val_accuracy: 0.8235\n",
      "Epoch 15/20\n",
      "93/93 [==============================] - 136s 1s/step - loss: 0.2186 - accuracy: 0.9281 - val_loss: 0.5724 - val_accuracy: 0.8187\n"
     ]
    }
   ],
   "source": [
    "epochs = 20\n",
    "batch_size = 64\n",
    "\n",
    "history = model.fit(X_train, y_train, epochs=epochs, batch_size=batch_size,validation_data=(X_test,y_test),callbacks=callbacks_list)"
   ]
  },
  {
   "cell_type": "code",
   "execution_count": 29,
   "id": "d6c25d79",
   "metadata": {
    "ExecuteTime": {
     "end_time": "2022-01-07T15:52:11.465218Z",
     "start_time": "2022-01-07T15:52:11.387877Z"
    }
   },
   "outputs": [],
   "source": [
    "model.load_weights(\"Models_CheckPoints/saved-model-14-0.82.hdf5\")"
   ]
  },
  {
   "cell_type": "code",
   "execution_count": 30,
   "id": "08a250d5",
   "metadata": {
    "ExecuteTime": {
     "end_time": "2022-01-07T15:52:13.430538Z",
     "start_time": "2022-01-07T15:52:13.423538Z"
    }
   },
   "outputs": [],
   "source": [
    "#code for plotting the model accuracy and loss\n",
    "def plot_history(history):\n",
    "    plt.style.use('seaborn-notebook')\n",
    "    \n",
    "    fig = plt.figure(figsize=(14, 5))\n",
    "    ax1 = fig.add_subplot(1, 2, 1)\n",
    "    ax2 = fig.add_subplot(1, 2, 2)\n",
    "\n",
    "    ax1.set_title('Accuracy')\n",
    "    ax1.plot(history.history['accuracy'],label='Training Accuracy')\n",
    "    ax1.plot(history.history['val_accuracy'],label='Validation Accuracy')\n",
    "    ax1.legend()\n",
    "\n",
    "    ax2.set_title('Loss')\n",
    "    ax2.plot(history.history['loss'],label='Training Loss')\n",
    "    ax2.plot(history.history['val_loss'],label='Validation Loss')\n",
    "    ax2.legend()\n",
    "\n",
    "    plt.tight_layout()"
   ]
  },
  {
   "cell_type": "code",
   "execution_count": 31,
   "id": "b409c2d0",
   "metadata": {
    "ExecuteTime": {
     "end_time": "2022-01-07T15:52:14.361472Z",
     "start_time": "2022-01-07T15:52:14.087471Z"
    }
   },
   "outputs": [
    {
     "data": {
      "image/png": "[encoded data removed]",
      "text/plain": [
       "<Figure size 1008x360 with 2 Axes>"
      ]
     },
     "metadata": {
      "needs_background": "light"
     },
     "output_type": "display_data"
    }
   ],
   "source": [
    "plot_history(history)"
   ]
  },
  {
   "cell_type": "code",
   "execution_count": 32,
   "id": "53fe19ee",
   "metadata": {
    "ExecuteTime": {
     "end_time": "2022-01-07T15:52:27.211196Z",
     "start_time": "2022-01-07T15:52:17.411969Z"
    }
   },
   "outputs": [
    {
     "name": "stdout",
     "output_type": "stream",
     "text": [
      "80/80 [==============================] - 10s 122ms/step - loss: 0.5636 - accuracy: 0.8235\n",
      "Test set\n",
      "  Loss: 0.564\n",
      "  Accuracy: 0.823\n"
     ]
    }
   ],
   "source": [
    "accr = model.evaluate(X_test,y_test)\n",
    "print('Test set\\n  Loss: {:0.3f}\\n  Accuracy: {:0.3f}'.format(accr[0],accr[1]))"
   ]
  },
  {
   "cell_type": "code",
   "execution_count": 34,
   "id": "1a4ab37a",
   "metadata": {
    "ExecuteTime": {
     "end_time": "2022-01-07T15:53:04.444164Z",
     "start_time": "2022-01-07T15:52:53.884473Z"
    }
   },
   "outputs": [
    {
     "name": "stdout",
     "output_type": "stream",
     "text": [
      "Accuracy Score: 0.8234597156398105\n"
     ]
    },
    {
     "data": {
      "text/html": [
       "<div>\n",
       "<style scoped>\n",
       "    .dataframe tbody tr th:only-of-type {\n",
       "        vertical-align: middle;\n",
       "    }\n",
       "\n",
       "    .dataframe tbody tr th {\n",
       "        vertical-align: top;\n",
       "    }\n",
       "\n",
       "    .dataframe thead th {\n",
       "        text-align: right;\n",
       "    }\n",
       "</style>\n",
       "<table border=\"1\" class=\"dataframe\">\n",
       "  <thead>\n",
       "    <tr style=\"text-align: right;\">\n",
       "      <th></th>\n",
       "      <th>precision</th>\n",
       "      <th>recall</th>\n",
       "      <th>f1-score</th>\n",
       "      <th>support</th>\n",
       "    </tr>\n",
       "  </thead>\n",
       "  <tbody>\n",
       "    <tr>\n",
       "      <th>0</th>\n",
       "      <td>0.763723</td>\n",
       "      <td>0.824742</td>\n",
       "      <td>0.793061</td>\n",
       "      <td>388.00000</td>\n",
       "    </tr>\n",
       "    <tr>\n",
       "      <th>1</th>\n",
       "      <td>0.838403</td>\n",
       "      <td>0.864706</td>\n",
       "      <td>0.851351</td>\n",
       "      <td>510.00000</td>\n",
       "    </tr>\n",
       "    <tr>\n",
       "      <th>2</th>\n",
       "      <td>0.927614</td>\n",
       "      <td>0.862843</td>\n",
       "      <td>0.894057</td>\n",
       "      <td>401.00000</td>\n",
       "    </tr>\n",
       "    <tr>\n",
       "      <th>3</th>\n",
       "      <td>0.687332</td>\n",
       "      <td>0.672823</td>\n",
       "      <td>0.680000</td>\n",
       "      <td>379.00000</td>\n",
       "    </tr>\n",
       "    <tr>\n",
       "      <th>4</th>\n",
       "      <td>0.857651</td>\n",
       "      <td>0.846604</td>\n",
       "      <td>0.852092</td>\n",
       "      <td>854.00000</td>\n",
       "    </tr>\n",
       "    <tr>\n",
       "      <th>accuracy</th>\n",
       "      <td>0.823460</td>\n",
       "      <td>0.823460</td>\n",
       "      <td>0.823460</td>\n",
       "      <td>0.82346</td>\n",
       "    </tr>\n",
       "    <tr>\n",
       "      <th>macro avg</th>\n",
       "      <td>0.814945</td>\n",
       "      <td>0.814344</td>\n",
       "      <td>0.814112</td>\n",
       "      <td>2532.00000</td>\n",
       "    </tr>\n",
       "    <tr>\n",
       "      <th>weighted avg</th>\n",
       "      <td>0.824967</td>\n",
       "      <td>0.823460</td>\n",
       "      <td>0.823784</td>\n",
       "      <td>2532.00000</td>\n",
       "    </tr>\n",
       "  </tbody>\n",
       "</table>\n",
       "</div>"
      ],
      "text/plain": [
       "              precision    recall  f1-score     support\n",
       "0              0.763723  0.824742  0.793061   388.00000\n",
       "1              0.838403  0.864706  0.851351   510.00000\n",
       "2              0.927614  0.862843  0.894057   401.00000\n",
       "3              0.687332  0.672823  0.680000   379.00000\n",
       "4              0.857651  0.846604  0.852092   854.00000\n",
       "accuracy       0.823460  0.823460  0.823460     0.82346\n",
       "macro avg      0.814945  0.814344  0.814112  2532.00000\n",
       "weighted avg   0.824967  0.823460  0.823784  2532.00000"
      ]
     },
     "execution_count": 34,
     "metadata": {},
     "output_type": "execute_result"
    }
   ],
   "source": [
    "y_predict_proba = model.predict(X_test)\n",
    "\n",
    "y_predict_class = y_predict_proba.argmax(axis=-1)\n",
    "\n",
    "y_test_class = np.argmax(y_test,axis=1)\n",
    "\n",
    "print(\"Accuracy Score:\",accuracy_score(y_test_class,y_predict_class))\n",
    "classification_report_ = pd.DataFrame(classification_report(y_test_class,y_predict_class,output_dict=True)).T\n",
    "classification_report_"
   ]
  },
  {
   "cell_type": "code",
   "execution_count": 28,
   "id": "5cccaace",
   "metadata": {
    "ExecuteTime": {
     "end_time": "2022-01-07T15:50:37.696892Z",
     "start_time": "2022-01-07T15:50:37.161899Z"
    }
   },
   "outputs": [],
   "source": [
    "model.save('model.hdf5')"
   ]
  },
  {
   "cell_type": "markdown",
   "id": "ed9b8875",
   "metadata": {},
   "source": [
    "# Inference  "
   ]
  },
  {
   "cell_type": "code",
   "execution_count": null,
   "id": "2cb3cabb",
   "metadata": {
    "ExecuteTime": {
     "end_time": "2021-10-17T14:57:48.977516Z",
     "start_time": "2021-10-17T14:57:47.934631Z"
    }
   },
   "outputs": [],
   "source": [
    "#loading model and Tokenizer\n",
    "\n",
    "model = load_model('model.hdf5')\n",
    "\n",
    "index2label = {0:'Worst',1:'Bad',2:'Good',3:'Great'}\n",
    "\n",
    "with open('tokenizer.pickle', 'rb') as handle:\n",
    "    tokenizer = pickle.load(handle)\n",
    "    \n",
    "MAX_SEQUENCE_LENGTH = 200"
   ]
  },
  {
   "cell_type": "code",
   "execution_count": null,
   "id": "cfb929af",
   "metadata": {
    "ExecuteTime": {
     "end_time": "2021-10-17T14:57:48.993052Z",
     "start_time": "2021-10-17T14:57:48.979522Z"
    }
   },
   "outputs": [],
   "source": [
    "REPLACE_BY_SPACE_RE = re.compile('[/(){}\\[\\]\\|@,;]')\n",
    "TO_REMOVE_SYMBOLS_RE = re.compile('[^0-9a-z #+_]')\n",
    "NEXTLINE_REPLACE = re.compile('\\n')\n",
    "STOPWORDS = set(stopwords.words('english'))\n",
    "\n",
    "def clean_text(text):\n",
    "    text = text.lower()\n",
    "    text = NEXTLINE_REPLACE.sub(' ',text)\n",
    "    text = REPLACE_BY_SPACE_RE.sub(' ', text) \n",
    "    text = TO_REMOVE_SYMBOLS_RE.sub('', text)  \n",
    "    text = text.replace('x', '')\n",
    "    \n",
    "    text = ' '.join(word for word in text.split() if word not in STOPWORDS)\n",
    "    \n",
    "    return text"
   ]
  },
  {
   "cell_type": "code",
   "execution_count": null,
   "id": "49c5f7b1",
   "metadata": {
    "ExecuteTime": {
     "end_time": "2021-10-17T14:57:49.339917Z",
     "start_time": "2021-10-17T14:57:49.330870Z"
    }
   },
   "outputs": [],
   "source": [
    "def predict(text):\n",
    "    text = clean_text(text)\n",
    "    text = tokenizer.texts_to_sequences([text])\n",
    "    text = pad_sequences(text, maxlen=MAX_SEQUENCE_LENGTH)\n",
    "    \n",
    "    y_predict_proba = model.predict(text)\n",
    "    y_predict_class = y_predict_proba.argmax(axis=-1)\n",
    "    \n",
    "    return index2label[y_predict_class[0]],y_predict_class,y_predict_proba"
   ]
  },
  {
   "cell_type": "code",
   "execution_count": null,
   "id": "39176f6f",
   "metadata": {
    "ExecuteTime": {
     "end_time": "2021-10-17T14:57:51.122516Z",
     "start_time": "2021-10-17T14:57:50.114418Z"
    }
   },
   "outputs": [],
   "source": [
    "test_text = \"\"\"Good movie but not the BEST.\n",
    "\n",
    "The special effects were OK, some of them looked really fake.\n",
    "\n",
    "I know it's an action movie and the principal cast are supposed to survive 'till the end of the movie but come on, were they supernatural or what? Only few scratches after all they went through. The bridges and buildings falling down and they passed in the car with no problem. It could be a little more realistic without all the drama: \"we survive to everything no matter what\".\n",
    "\n",
    "I suffered a lot watching this movie, I was struggling with myself to not cry, it's very cruel and it's sad imagine all this could really happen, see how everyone dies, everything is destroy and it shows once again how the people in this world thinks: the money and being an \"important\" person can save your life, the rest of us does not matter.\n",
    "\n",
    "It's also a wake up call to everyone who lives in this planet. \"\"\"\n",
    "\n",
    "predict(test_text)"
   ]
  },
  {
   "cell_type": "code",
   "execution_count": null,
   "id": "c69fa202",
   "metadata": {},
   "outputs": [],
   "source": []
  }
 ],
 "metadata": {
  "kernelspec": {
   "display_name": "Python 3 (ipykernel)",
   "language": "python",
   "name": "python3"
  },
  "language_info": {
   "codemirror_mode": {
    "name": "ipython",
    "version": 3
   },
   "file_extension": ".py",
   "mimetype": "text/x-python",
   "name": "python",
   "nbconvert_exporter": "python",
   "pygments_lexer": "ipython3",
   "version": "3.10.9"
  }
 },
 "nbformat": 4,
 "nbformat_minor": 5
}
