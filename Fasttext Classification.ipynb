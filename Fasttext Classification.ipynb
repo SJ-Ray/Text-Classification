{
 "cells": [
  {
   "cell_type": "code",
   "execution_count": 11,
   "id": "419beebd",
   "metadata": {
    "ExecuteTime": {
     "end_time": "2022-01-04T07:35:12.109571Z",
     "start_time": "2022-01-04T07:35:12.096578Z"
    }
   },
   "outputs": [],
   "source": [
    "import pandas as pd\n",
    "import numpy as np\n",
    "\n",
    "from gensim.utils import simple_preprocess\n",
    "import csv\n",
    "import fasttext\n",
    "from sklearn.metrics import classification_report,accuracy_score,confusion_matrix"
   ]
  },
  {
   "cell_type": "code",
   "execution_count": 2,
   "id": "4a02bf40",
   "metadata": {
    "ExecuteTime": {
     "end_time": "2022-01-04T07:35:02.579878Z",
     "start_time": "2022-01-04T07:35:01.657389Z"
    }
   },
   "outputs": [
    {
     "name": "stdout",
     "output_type": "stream",
     "text": [
      "(3184, 2)\n",
      "\n",
      "Problem with a purchase shown on your statement    1993\n",
      "Incorrect information on your report               1191\n",
      "Name: Issue, dtype: int64\n"
     ]
    },
    {
     "data": {
      "text/html": [
       "<div>\n",
       "<style scoped>\n",
       "    .dataframe tbody tr th:only-of-type {\n",
       "        vertical-align: middle;\n",
       "    }\n",
       "\n",
       "    .dataframe tbody tr th {\n",
       "        vertical-align: top;\n",
       "    }\n",
       "\n",
       "    .dataframe thead th {\n",
       "        text-align: right;\n",
       "    }\n",
       "</style>\n",
       "<table border=\"1\" class=\"dataframe\">\n",
       "  <thead>\n",
       "    <tr style=\"text-align: right;\">\n",
       "      <th></th>\n",
       "      <th>Consumer complaint narrative</th>\n",
       "      <th>Issue</th>\n",
       "    </tr>\n",
       "  </thead>\n",
       "  <tbody>\n",
       "    <tr>\n",
       "      <th>554</th>\n",
       "      <td>on xx xx two charges were made at vendor calle...</td>\n",
       "      <td>__label__Problem_with_a_purchase_shown_on_your...</td>\n",
       "    </tr>\n",
       "    <tr>\n",
       "      <th>11901</th>\n",
       "      <td>citibank south dakota charge off frs file numb...</td>\n",
       "      <td>__label__Incorrect_information_on_your_report</td>\n",
       "    </tr>\n",
       "    <tr>\n",
       "      <th>17377</th>\n",
       "      <td>made purchaseson xxxx that was opened and xxxx...</td>\n",
       "      <td>__label__Problem_with_a_purchase_shown_on_your...</td>\n",
       "    </tr>\n",
       "    <tr>\n",
       "      <th>8681</th>\n",
       "      <td>on xxxx xx xx filed dispute with citibank conc...</td>\n",
       "      <td>__label__Problem_with_a_purchase_shown_on_your...</td>\n",
       "    </tr>\n",
       "    <tr>\n",
       "      <th>5644</th>\n",
       "      <td>on xx xx xxxx purchased xxxx xxxx xxxx concert...</td>\n",
       "      <td>__label__Problem_with_a_purchase_shown_on_your...</td>\n",
       "    </tr>\n",
       "  </tbody>\n",
       "</table>\n",
       "</div>"
      ],
      "text/plain": [
       "                            Consumer complaint narrative  \\\n",
       "554    on xx xx two charges were made at vendor calle...   \n",
       "11901  citibank south dakota charge off frs file numb...   \n",
       "17377  made purchaseson xxxx that was opened and xxxx...   \n",
       "8681   on xxxx xx xx filed dispute with citibank conc...   \n",
       "5644   on xx xx xxxx purchased xxxx xxxx xxxx concert...   \n",
       "\n",
       "                                                   Issue  \n",
       "554    __label__Problem_with_a_purchase_shown_on_your...  \n",
       "11901      __label__Incorrect_information_on_your_report  \n",
       "17377  __label__Problem_with_a_purchase_shown_on_your...  \n",
       "8681   __label__Problem_with_a_purchase_shown_on_your...  \n",
       "5644   __label__Problem_with_a_purchase_shown_on_your...  "
      ]
     },
     "execution_count": 2,
     "metadata": {},
     "output_type": "execute_result"
    }
   ],
   "source": [
    "train_data = pd.read_csv('train_dataset.csv',index_col=0)\n",
    "print(train_data.shape,end=\"\\n\\n\")\n",
    "print(train_data['Issue'].value_counts())\n",
    "\n",
    "train_data['Issue']= train_data['Issue'].apply(lambda x: \"_\".join(x.split()))\n",
    "train_data['Consumer complaint narrative'] = train_data['Consumer complaint narrative'].apply(lambda x:\" \".join(simple_preprocess(x)))\n",
    "# Prefixing each row of the category column with '__label__'\n",
    "train_data['Issue'] = train_data['Issue'].apply(lambda x: '__label__' + x)\n",
    "\n",
    "train_data.head()"
   ]
  },
  {
   "cell_type": "code",
   "execution_count": 3,
   "id": "6a25b5f4",
   "metadata": {
    "ExecuteTime": {
     "end_time": "2022-01-04T07:35:02.961921Z",
     "start_time": "2022-01-04T07:35:02.581884Z"
    }
   },
   "outputs": [
    {
     "name": "stdout",
     "output_type": "stream",
     "text": [
      "(1364, 2)\n",
      "\n",
      "Problem with a purchase shown on your statement    854\n",
      "Incorrect information on your report               510\n",
      "Name: Issue, dtype: int64\n"
     ]
    },
    {
     "data": {
      "text/html": [
       "<div>\n",
       "<style scoped>\n",
       "    .dataframe tbody tr th:only-of-type {\n",
       "        vertical-align: middle;\n",
       "    }\n",
       "\n",
       "    .dataframe tbody tr th {\n",
       "        vertical-align: top;\n",
       "    }\n",
       "\n",
       "    .dataframe thead th {\n",
       "        text-align: right;\n",
       "    }\n",
       "</style>\n",
       "<table border=\"1\" class=\"dataframe\">\n",
       "  <thead>\n",
       "    <tr style=\"text-align: right;\">\n",
       "      <th></th>\n",
       "      <th>Consumer complaint narrative</th>\n",
       "      <th>Issue</th>\n",
       "    </tr>\n",
       "  </thead>\n",
       "  <tbody>\n",
       "    <tr>\n",
       "      <th>8201</th>\n",
       "      <td>hello cfpb can you please forward the folllowi...</td>\n",
       "      <td>__label__Incorrect_information_on_your_report</td>\n",
       "    </tr>\n",
       "    <tr>\n",
       "      <th>49162</th>\n",
       "      <td>the response from citi cards has cleared up lo...</td>\n",
       "      <td>__label__Problem_with_a_purchase_shown_on_your...</td>\n",
       "    </tr>\n",
       "    <tr>\n",
       "      <th>8206</th>\n",
       "      <td>have made repeated attempts with macys credit ...</td>\n",
       "      <td>__label__Problem_with_a_purchase_shown_on_your...</td>\n",
       "    </tr>\n",
       "    <tr>\n",
       "      <th>8226</th>\n",
       "      <td>paid through citibank credit card for two pair...</td>\n",
       "      <td>__label__Problem_with_a_purchase_shown_on_your...</td>\n",
       "    </tr>\n",
       "    <tr>\n",
       "      <th>57391</th>\n",
       "      <td>at best buys request am submitting documentati...</td>\n",
       "      <td>__label__Incorrect_information_on_your_report</td>\n",
       "    </tr>\n",
       "  </tbody>\n",
       "</table>\n",
       "</div>"
      ],
      "text/plain": [
       "                            Consumer complaint narrative  \\\n",
       "8201   hello cfpb can you please forward the folllowi...   \n",
       "49162  the response from citi cards has cleared up lo...   \n",
       "8206   have made repeated attempts with macys credit ...   \n",
       "8226   paid through citibank credit card for two pair...   \n",
       "57391  at best buys request am submitting documentati...   \n",
       "\n",
       "                                                   Issue  \n",
       "8201       __label__Incorrect_information_on_your_report  \n",
       "49162  __label__Problem_with_a_purchase_shown_on_your...  \n",
       "8206   __label__Problem_with_a_purchase_shown_on_your...  \n",
       "8226   __label__Problem_with_a_purchase_shown_on_your...  \n",
       "57391      __label__Incorrect_information_on_your_report  "
      ]
     },
     "execution_count": 3,
     "metadata": {},
     "output_type": "execute_result"
    }
   ],
   "source": [
    "test_data = pd.read_csv('test_dataset.csv',index_col=0)\n",
    "print(test_data.shape,end=\"\\n\\n\")\n",
    "print(test_data['Issue'].value_counts())\n",
    "\n",
    "test_data['Issue']= test_data['Issue'].apply(lambda x: \"_\".join(x.split()))\n",
    "test_data['Consumer complaint narrative'] = test_data['Consumer complaint narrative'].apply(lambda x:\" \".join(simple_preprocess(x)))\n",
    "# Prefixing each row of the category column with '__label__'\n",
    "test_data['Issue'] = test_data['Issue'].apply(lambda x: '__label__' + x)\n",
    "\n",
    "test_data.head()"
   ]
  },
  {
   "cell_type": "code",
   "execution_count": 4,
   "id": "bb859880",
   "metadata": {
    "ExecuteTime": {
     "end_time": "2022-01-04T07:35:03.120218Z",
     "start_time": "2022-01-04T07:35:02.963878Z"
    }
   },
   "outputs": [],
   "source": [
    "# Saving the CSV file as a text file to train/test the classifier\n",
    "train_data[['Consumer complaint narrative', 'Issue']].to_csv('train.txt', \n",
    "                                          index = False, \n",
    "                                          sep = ' ',\n",
    "                                          header = None, \n",
    "                                          quoting = csv.QUOTE_NONE, \n",
    "                                          quotechar = \"\", \n",
    "                                          escapechar = \" \")\n",
    "\n",
    "test_data[['Consumer complaint narrative', 'Issue']].to_csv('test.txt', \n",
    "                                     index = False, \n",
    "                                     sep = ' ',\n",
    "                                     header = None, \n",
    "                                     quoting = csv.QUOTE_NONE, \n",
    "                                     quotechar = \"\", \n",
    "                                     escapechar = \" \")"
   ]
  },
  {
   "cell_type": "code",
   "execution_count": 5,
   "id": "1b204904",
   "metadata": {
    "ExecuteTime": {
     "end_time": "2022-01-04T07:35:05.171982Z",
     "start_time": "2022-01-04T07:35:03.121878Z"
    }
   },
   "outputs": [],
   "source": [
    "# Training the fastText classifier\n",
    "model = fasttext.train_supervised('train.txt', wordNgrams = 2)"
   ]
  },
  {
   "cell_type": "code",
   "execution_count": 6,
   "id": "8d46f323",
   "metadata": {
    "ExecuteTime": {
     "end_time": "2022-01-04T07:35:05.331795Z",
     "start_time": "2022-01-04T07:35:05.175983Z"
    }
   },
   "outputs": [
    {
     "data": {
      "text/plain": [
       "(1364, 0.8768328445747801, 0.8768328445747801)"
      ]
     },
     "execution_count": 6,
     "metadata": {},
     "output_type": "execute_result"
    }
   ],
   "source": [
    "# Evaluating performance on the entire test file\n",
    "model.test('test.txt')                      "
   ]
  },
  {
   "cell_type": "code",
   "execution_count": 7,
   "id": "813d2b36",
   "metadata": {
    "ExecuteTime": {
     "end_time": "2022-01-04T07:35:05.505727Z",
     "start_time": "2022-01-04T07:35:05.335736Z"
    }
   },
   "outputs": [],
   "source": [
    "predictions = model.predict(test_data['Consumer complaint narrative'].values.tolist())"
   ]
  },
  {
   "cell_type": "code",
   "execution_count": 8,
   "id": "bc2abf9a",
   "metadata": {
    "ExecuteTime": {
     "end_time": "2022-01-04T07:35:05.521730Z",
     "start_time": "2022-01-04T07:35:05.508728Z"
    }
   },
   "outputs": [],
   "source": [
    "predictions = np.array(predictions[0]).flatten()\n",
    "target = test_data['Issue'].to_numpy()"
   ]
  },
  {
   "cell_type": "code",
   "execution_count": 9,
   "id": "368d2e51",
   "metadata": {
    "ExecuteTime": {
     "end_time": "2022-01-04T07:35:05.614730Z",
     "start_time": "2022-01-04T07:35:05.524728Z"
    }
   },
   "outputs": [
    {
     "name": "stdout",
     "output_type": "stream",
     "text": [
      "                                                          precision    recall  f1-score   support\n",
      "\n",
      "           __label__Incorrect_information_on_your_report       0.92      0.74      0.82       510\n",
      "__label__Problem_with_a_purchase_shown_on_your_statement       0.86      0.96      0.91       854\n",
      "\n",
      "                                                accuracy                           0.88      1364\n",
      "                                               macro avg       0.89      0.85      0.86      1364\n",
      "                                            weighted avg       0.88      0.88      0.87      1364\n",
      "\n"
     ]
    }
   ],
   "source": [
    "print(classification_report(target,predictions))"
   ]
  },
  {
   "cell_type": "code",
   "execution_count": 10,
   "id": "be1f686d",
   "metadata": {
    "ExecuteTime": {
     "end_time": "2022-01-04T07:35:05.630730Z",
     "start_time": "2022-01-04T07:35:05.616729Z"
    }
   },
   "outputs": [
    {
     "data": {
      "text/plain": [
       "0.8768328445747801"
      ]
     },
     "execution_count": 10,
     "metadata": {},
     "output_type": "execute_result"
    }
   ],
   "source": [
    "accuracy_score(target,predictions)"
   ]
  },
  {
   "cell_type": "code",
   "execution_count": 14,
   "id": "63351b8a",
   "metadata": {
    "ExecuteTime": {
     "end_time": "2022-01-04T07:36:25.906481Z",
     "start_time": "2022-01-04T07:36:25.888483Z"
    }
   },
   "outputs": [
    {
     "name": "stdout",
     "output_type": "stream",
     "text": [
      "[[377 133]\n",
      " [ 35 819]]\n"
     ]
    }
   ],
   "source": [
    "print(confusion_matrix(target,predictions))"
   ]
  },
  {
   "cell_type": "code",
   "execution_count": 16,
   "id": "316b86cb",
   "metadata": {
    "ExecuteTime": {
     "end_time": "2022-01-04T07:38:27.778884Z",
     "start_time": "2022-01-04T07:38:27.760560Z"
    }
   },
   "outputs": [
    {
     "name": "stdout",
     "output_type": "stream",
     "text": [
      "819 35 133 377\n"
     ]
    }
   ],
   "source": [
    "TP,FN,FP,TN = confusion_matrix(target,predictions).flatten()\n",
    "\n",
    "print(TN,FP,FN,TP)"
   ]
  },
  {
   "cell_type": "code",
   "execution_count": 17,
   "id": "c3d34173",
   "metadata": {
    "ExecuteTime": {
     "end_time": "2022-01-04T07:38:32.392269Z",
     "start_time": "2022-01-04T07:38:32.380268Z"
    }
   },
   "outputs": [
    {
     "data": {
      "text/plain": [
       "0.040983606557377046"
      ]
     },
     "execution_count": 17,
     "metadata": {},
     "output_type": "execute_result"
    }
   ],
   "source": [
    "FPR = FP/(TN+FP)\n",
    "\n",
    "FPR"
   ]
  },
  {
   "cell_type": "code",
   "execution_count": null,
   "id": "273003b5",
   "metadata": {},
   "outputs": [],
   "source": []
  }
 ],
 "metadata": {
  "kernelspec": {
   "display_name": "Python 3 (ipykernel)",
   "language": "python",
   "name": "python3"
  },
  "language_info": {
   "codemirror_mode": {
    "name": "ipython",
    "version": 3
   },
   "file_extension": ".py",
   "mimetype": "text/x-python",
   "name": "python",
   "nbconvert_exporter": "python",
   "pygments_lexer": "ipython3",
   "version": "3.10.9"
  }
 },
 "nbformat": 4,
 "nbformat_minor": 5
}
