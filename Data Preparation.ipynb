{
 "cells": [
  {
   "cell_type": "code",
   "execution_count": 7,
   "id": "813c02a2",
   "metadata": {
    "ExecuteTime": {
     "end_time": "2021-12-31T09:04:07.468069Z",
     "start_time": "2021-12-31T09:04:07.452175Z"
    }
   },
   "outputs": [],
   "source": [
    "import pandas as pd\n",
    "import numpy as np"
   ]
  },
  {
   "cell_type": "code",
   "execution_count": 8,
   "id": "7d34257d",
   "metadata": {
    "ExecuteTime": {
     "end_time": "2021-12-31T09:04:08.218363Z",
     "start_time": "2021-12-31T09:04:07.687856Z"
    }
   },
   "outputs": [
    {
     "name": "stdout",
     "output_type": "stream",
     "text": [
      "(24449, 18)\n"
     ]
    }
   ],
   "source": [
    "data = pd.read_csv('../complaints-2021-11-16_03_13.csv')\n",
    "data = data[~(data['Consumer complaint narrative'].isnull())]\n",
    "data = data[~(data['Consumer complaint narrative']=='')]\n",
    "print(data.shape)"
   ]
  },
  {
   "cell_type": "code",
   "execution_count": 9,
   "id": "5ce10f0f",
   "metadata": {
    "ExecuteTime": {
     "end_time": "2021-12-31T09:04:08.313583Z",
     "start_time": "2021-12-31T09:04:08.291362Z"
    }
   },
   "outputs": [],
   "source": [
    "data.drop(set(data.columns) -  set(['Issue','Consumer complaint narrative']),axis=1,inplace=True)"
   ]
  },
  {
   "cell_type": "code",
   "execution_count": 10,
   "id": "f442bd80",
   "metadata": {
    "ExecuteTime": {
     "end_time": "2021-12-31T09:04:08.899508Z",
     "start_time": "2021-12-31T09:04:08.889506Z"
    }
   },
   "outputs": [
    {
     "data": {
      "text/html": [
       "<div>\n",
       "<style scoped>\n",
       "    .dataframe tbody tr th:only-of-type {\n",
       "        vertical-align: middle;\n",
       "    }\n",
       "\n",
       "    .dataframe tbody tr th {\n",
       "        vertical-align: top;\n",
       "    }\n",
       "\n",
       "    .dataframe thead th {\n",
       "        text-align: right;\n",
       "    }\n",
       "</style>\n",
       "<table border=\"1\" class=\"dataframe\">\n",
       "  <thead>\n",
       "    <tr style=\"text-align: right;\">\n",
       "      <th></th>\n",
       "      <th>Issue</th>\n",
       "      <th>Consumer complaint narrative</th>\n",
       "    </tr>\n",
       "  </thead>\n",
       "  <tbody>\n",
       "    <tr>\n",
       "      <th>0</th>\n",
       "      <td>Getting a credit card</td>\n",
       "      <td>I opened a citi double cash card the beginning...</td>\n",
       "    </tr>\n",
       "    <tr>\n",
       "      <th>1</th>\n",
       "      <td>Closing your account</td>\n",
       "      <td>1. I have paid off two Citi cards on XX/XX/202...</td>\n",
       "    </tr>\n",
       "    <tr>\n",
       "      <th>3</th>\n",
       "      <td>Attempts to collect debt not owed</td>\n",
       "      <td>this issue was identity theft resolved with ci...</td>\n",
       "    </tr>\n",
       "    <tr>\n",
       "      <th>5</th>\n",
       "      <td>Problem with a purchase shown on your statement</td>\n",
       "      <td>On XX/XX/XXXX I received a letter from Citiban...</td>\n",
       "    </tr>\n",
       "    <tr>\n",
       "      <th>6</th>\n",
       "      <td>Managing an account</td>\n",
       "      <td>Small business ( checking and savings ) ( corp...</td>\n",
       "    </tr>\n",
       "  </tbody>\n",
       "</table>\n",
       "</div>"
      ],
      "text/plain": [
       "                                             Issue  \\\n",
       "0                            Getting a credit card   \n",
       "1                             Closing your account   \n",
       "3                Attempts to collect debt not owed   \n",
       "5  Problem with a purchase shown on your statement   \n",
       "6                              Managing an account   \n",
       "\n",
       "                        Consumer complaint narrative  \n",
       "0  I opened a citi double cash card the beginning...  \n",
       "1  1. I have paid off two Citi cards on XX/XX/202...  \n",
       "3  this issue was identity theft resolved with ci...  \n",
       "5  On XX/XX/XXXX I received a letter from Citiban...  \n",
       "6  Small business ( checking and savings ) ( corp...  "
      ]
     },
     "execution_count": 10,
     "metadata": {},
     "output_type": "execute_result"
    }
   ],
   "source": [
    "data.head()"
   ]
  },
  {
   "cell_type": "code",
   "execution_count": 11,
   "id": "47ed74a2",
   "metadata": {
    "ExecuteTime": {
     "end_time": "2021-12-31T09:04:27.253198Z",
     "start_time": "2021-12-31T09:04:27.237046Z"
    }
   },
   "outputs": [
    {
     "data": {
      "text/plain": [
       "130"
      ]
     },
     "execution_count": 11,
     "metadata": {},
     "output_type": "execute_result"
    }
   ],
   "source": [
    "data['Issue'].nunique()"
   ]
  },
  {
   "cell_type": "code",
   "execution_count": 12,
   "id": "6df5f1a0",
   "metadata": {
    "ExecuteTime": {
     "end_time": "2021-12-31T09:04:35.678817Z",
     "start_time": "2021-12-31T09:04:35.667782Z"
    }
   },
   "outputs": [
    {
     "data": {
      "text/plain": [
       "Problem with a purchase shown on your statement    2847\n",
       "Incorrect information on your report               1701\n",
       "Managing an account                                1336\n",
       "Fees or interest                                   1292\n",
       "Other features, terms, or problems                 1264\n",
       "                                                   ... \n",
       "Can't contact lender                                  2\n",
       "Shopping for a line of credit                         1\n",
       "Can't stop charges to bank account                    1\n",
       "Account terms and changes                             1\n",
       "Problem adding money                                  1\n",
       "Name: Issue, Length: 130, dtype: int64"
      ]
     },
     "execution_count": 12,
     "metadata": {},
     "output_type": "execute_result"
    }
   ],
   "source": [
    "data['Issue'].value_counts()"
   ]
  },
  {
   "cell_type": "code",
   "execution_count": 13,
   "id": "2d27f74e",
   "metadata": {
    "ExecuteTime": {
     "end_time": "2021-12-31T09:04:53.172791Z",
     "start_time": "2021-12-31T09:04:53.158829Z"
    }
   },
   "outputs": [
    {
     "name": "stdout",
     "output_type": "stream",
     "text": [
      "(1701, 2) (2847, 2)\n"
     ]
    }
   ],
   "source": [
    "data1 = data[data['Issue']==\"Incorrect information on your report\"]\n",
    "data2 = data[data['Issue']==\"Problem with a purchase shown on your statement\"]\n",
    "\n",
    "print(data1.shape,data2.shape)"
   ]
  },
  {
   "cell_type": "code",
   "execution_count": 14,
   "id": "723b3f02",
   "metadata": {
    "ExecuteTime": {
     "end_time": "2021-12-31T09:05:00.738699Z",
     "start_time": "2021-12-31T09:05:00.711732Z"
    }
   },
   "outputs": [
    {
     "name": "stdout",
     "output_type": "stream",
     "text": [
      "(4548, 2)\n",
      "(4548, 2)\n"
     ]
    },
    {
     "data": {
      "text/html": [
       "<div>\n",
       "<style scoped>\n",
       "    .dataframe tbody tr th:only-of-type {\n",
       "        vertical-align: middle;\n",
       "    }\n",
       "\n",
       "    .dataframe tbody tr th {\n",
       "        vertical-align: top;\n",
       "    }\n",
       "\n",
       "    .dataframe thead th {\n",
       "        text-align: right;\n",
       "    }\n",
       "</style>\n",
       "<table border=\"1\" class=\"dataframe\">\n",
       "  <thead>\n",
       "    <tr style=\"text-align: right;\">\n",
       "      <th></th>\n",
       "      <th>Consumer complaint narrative</th>\n",
       "      <th>Issue</th>\n",
       "    </tr>\n",
       "  </thead>\n",
       "  <tbody>\n",
       "    <tr>\n",
       "      <th>19578</th>\n",
       "      <td>I have completely given up on XXXX  bankcard c...</td>\n",
       "      <td>Problem with a purchase shown on your statement</td>\n",
       "    </tr>\n",
       "    <tr>\n",
       "      <th>50073</th>\n",
       "      <td>After submitting two written formal complaints...</td>\n",
       "      <td>Problem with a purchase shown on your statement</td>\n",
       "    </tr>\n",
       "    <tr>\n",
       "      <th>18365</th>\n",
       "      <td>Citibank is charging me {$590.00} for a servic...</td>\n",
       "      <td>Problem with a purchase shown on your statement</td>\n",
       "    </tr>\n",
       "    <tr>\n",
       "      <th>11551</th>\n",
       "      <td>XX/XX/XXXX of XXXX I've contacted CitiBank reg...</td>\n",
       "      <td>Incorrect information on your report</td>\n",
       "    </tr>\n",
       "    <tr>\n",
       "      <th>10495</th>\n",
       "      <td>Just wanted to report identity theft, fraud, e...</td>\n",
       "      <td>Incorrect information on your report</td>\n",
       "    </tr>\n",
       "  </tbody>\n",
       "</table>\n",
       "</div>"
      ],
      "text/plain": [
       "                            Consumer complaint narrative  \\\n",
       "19578  I have completely given up on XXXX  bankcard c...   \n",
       "50073  After submitting two written formal complaints...   \n",
       "18365  Citibank is charging me {$590.00} for a servic...   \n",
       "11551  XX/XX/XXXX of XXXX I've contacted CitiBank reg...   \n",
       "10495  Just wanted to report identity theft, fraud, e...   \n",
       "\n",
       "                                                 Issue  \n",
       "19578  Problem with a purchase shown on your statement  \n",
       "50073  Problem with a purchase shown on your statement  \n",
       "18365  Problem with a purchase shown on your statement  \n",
       "11551             Incorrect information on your report  \n",
       "10495             Incorrect information on your report  "
      ]
     },
     "execution_count": 14,
     "metadata": {},
     "output_type": "execute_result"
    }
   ],
   "source": [
    "filtered_data = pd.concat([data1,data2])\n",
    "print(filtered_data.shape)\n",
    "filtered_data = filtered_data[['Consumer complaint narrative','Issue']]\n",
    "filtered_data = filtered_data.sample(frac=1)\n",
    "print(filtered_data.shape)\n",
    "filtered_data.head()"
   ]
  },
  {
   "cell_type": "code",
   "execution_count": 15,
   "id": "e25640ef",
   "metadata": {
    "ExecuteTime": {
     "end_time": "2021-12-31T09:05:28.444875Z",
     "start_time": "2021-12-31T09:05:28.427875Z"
    }
   },
   "outputs": [
    {
     "name": "stdout",
     "output_type": "stream",
     "text": [
      "(3184, 2) (1364, 2)\n"
     ]
    }
   ],
   "source": [
    "train_index = filtered_data.sample(frac=0.7).index\n",
    "test_index = set(filtered_data.index) - set(train_index)\n",
    "\n",
    "train_data = filtered_data.loc[train_index]\n",
    "test_data = filtered_data.loc[test_index]\n",
    "\n",
    "print(train_data.shape,test_data.shape)"
   ]
  },
  {
   "cell_type": "code",
   "execution_count": 17,
   "id": "61498bdc",
   "metadata": {
    "ExecuteTime": {
     "end_time": "2021-12-31T09:05:45.622516Z",
     "start_time": "2021-12-31T09:05:45.603831Z"
    }
   },
   "outputs": [
    {
     "data": {
      "text/html": [
       "<div>\n",
       "<style scoped>\n",
       "    .dataframe tbody tr th:only-of-type {\n",
       "        vertical-align: middle;\n",
       "    }\n",
       "\n",
       "    .dataframe tbody tr th {\n",
       "        vertical-align: top;\n",
       "    }\n",
       "\n",
       "    .dataframe thead th {\n",
       "        text-align: right;\n",
       "    }\n",
       "</style>\n",
       "<table border=\"1\" class=\"dataframe\">\n",
       "  <thead>\n",
       "    <tr style=\"text-align: right;\">\n",
       "      <th></th>\n",
       "      <th>Consumer complaint narrative</th>\n",
       "      <th>Issue</th>\n",
       "    </tr>\n",
       "  </thead>\n",
       "  <tbody>\n",
       "    <tr>\n",
       "      <th>554</th>\n",
       "      <td>On XX/XX/2018 two charges were made at a vendo...</td>\n",
       "      <td>Problem with a purchase shown on your statement</td>\n",
       "    </tr>\n",
       "    <tr>\n",
       "      <th>11901</th>\n",
       "      <td>1. A Citibank ( South Dakota ) N.A. charge off...</td>\n",
       "      <td>Incorrect information on your report</td>\n",
       "    </tr>\n",
       "    <tr>\n",
       "      <th>17377</th>\n",
       "      <td>I made purchaseson XXXX that was opened and XX...</td>\n",
       "      <td>Problem with a purchase shown on your statement</td>\n",
       "    </tr>\n",
       "    <tr>\n",
       "      <th>8681</th>\n",
       "      <td>on XXXX XX/XX/2020 I filed a dispute with Citi...</td>\n",
       "      <td>Problem with a purchase shown on your statement</td>\n",
       "    </tr>\n",
       "    <tr>\n",
       "      <th>5644</th>\n",
       "      <td>On XX/XX/XXXX I purchased XXXX XXXX XXXX conce...</td>\n",
       "      <td>Problem with a purchase shown on your statement</td>\n",
       "    </tr>\n",
       "  </tbody>\n",
       "</table>\n",
       "</div>"
      ],
      "text/plain": [
       "                            Consumer complaint narrative  \\\n",
       "554    On XX/XX/2018 two charges were made at a vendo...   \n",
       "11901  1. A Citibank ( South Dakota ) N.A. charge off...   \n",
       "17377  I made purchaseson XXXX that was opened and XX...   \n",
       "8681   on XXXX XX/XX/2020 I filed a dispute with Citi...   \n",
       "5644   On XX/XX/XXXX I purchased XXXX XXXX XXXX conce...   \n",
       "\n",
       "                                                 Issue  \n",
       "554    Problem with a purchase shown on your statement  \n",
       "11901             Incorrect information on your report  \n",
       "17377  Problem with a purchase shown on your statement  \n",
       "8681   Problem with a purchase shown on your statement  \n",
       "5644   Problem with a purchase shown on your statement  "
      ]
     },
     "execution_count": 17,
     "metadata": {},
     "output_type": "execute_result"
    }
   ],
   "source": [
    "train_data.head()"
   ]
  },
  {
   "cell_type": "code",
   "execution_count": 19,
   "id": "97dbe4c8",
   "metadata": {
    "ExecuteTime": {
     "end_time": "2021-12-31T09:06:19.262821Z",
     "start_time": "2021-12-31T09:06:19.255837Z"
    }
   },
   "outputs": [
    {
     "data": {
      "text/plain": [
       "Problem with a purchase shown on your statement    1993\n",
       "Incorrect information on your report               1191\n",
       "Name: Issue, dtype: int64"
      ]
     },
     "execution_count": 19,
     "metadata": {},
     "output_type": "execute_result"
    }
   ],
   "source": [
    "train_data['Issue'].value_counts()"
   ]
  },
  {
   "cell_type": "code",
   "execution_count": 18,
   "id": "df35282b",
   "metadata": {
    "ExecuteTime": {
     "end_time": "2021-12-31T09:05:52.254816Z",
     "start_time": "2021-12-31T09:05:52.231847Z"
    }
   },
   "outputs": [
    {
     "data": {
      "text/html": [
       "<div>\n",
       "<style scoped>\n",
       "    .dataframe tbody tr th:only-of-type {\n",
       "        vertical-align: middle;\n",
       "    }\n",
       "\n",
       "    .dataframe tbody tr th {\n",
       "        vertical-align: top;\n",
       "    }\n",
       "\n",
       "    .dataframe thead th {\n",
       "        text-align: right;\n",
       "    }\n",
       "</style>\n",
       "<table border=\"1\" class=\"dataframe\">\n",
       "  <thead>\n",
       "    <tr style=\"text-align: right;\">\n",
       "      <th></th>\n",
       "      <th>Consumer complaint narrative</th>\n",
       "      <th>Issue</th>\n",
       "    </tr>\n",
       "  </thead>\n",
       "  <tbody>\n",
       "    <tr>\n",
       "      <th>8201</th>\n",
       "      <td>Hello CFPB! Can you please forward the folllow...</td>\n",
       "      <td>Incorrect information on your report</td>\n",
       "    </tr>\n",
       "    <tr>\n",
       "      <th>49162</th>\n",
       "      <td>The response from Citi Cards has cleared up a ...</td>\n",
       "      <td>Problem with a purchase shown on your statement</td>\n",
       "    </tr>\n",
       "    <tr>\n",
       "      <th>8206</th>\n",
       "      <td>I have made repeated attempts with Macys Credi...</td>\n",
       "      <td>Problem with a purchase shown on your statement</td>\n",
       "    </tr>\n",
       "    <tr>\n",
       "      <th>8226</th>\n",
       "      <td>I paid {$120.00} through Citibank credit card ...</td>\n",
       "      <td>Problem with a purchase shown on your statement</td>\n",
       "    </tr>\n",
       "    <tr>\n",
       "      <th>57391</th>\n",
       "      <td>At Best Buys request I am submitting documenta...</td>\n",
       "      <td>Incorrect information on your report</td>\n",
       "    </tr>\n",
       "  </tbody>\n",
       "</table>\n",
       "</div>"
      ],
      "text/plain": [
       "                            Consumer complaint narrative  \\\n",
       "8201   Hello CFPB! Can you please forward the folllow...   \n",
       "49162  The response from Citi Cards has cleared up a ...   \n",
       "8206   I have made repeated attempts with Macys Credi...   \n",
       "8226   I paid {$120.00} through Citibank credit card ...   \n",
       "57391  At Best Buys request I am submitting documenta...   \n",
       "\n",
       "                                                 Issue  \n",
       "8201              Incorrect information on your report  \n",
       "49162  Problem with a purchase shown on your statement  \n",
       "8206   Problem with a purchase shown on your statement  \n",
       "8226   Problem with a purchase shown on your statement  \n",
       "57391             Incorrect information on your report  "
      ]
     },
     "execution_count": 18,
     "metadata": {},
     "output_type": "execute_result"
    }
   ],
   "source": [
    "test_data.head()"
   ]
  },
  {
   "cell_type": "code",
   "execution_count": 21,
   "id": "07f34539",
   "metadata": {
    "ExecuteTime": {
     "end_time": "2021-12-31T09:06:43.842655Z",
     "start_time": "2021-12-31T09:06:43.820659Z"
    }
   },
   "outputs": [
    {
     "data": {
      "text/plain": [
       "Problem with a purchase shown on your statement    854\n",
       "Incorrect information on your report               510\n",
       "Name: Issue, dtype: int64"
      ]
     },
     "execution_count": 21,
     "metadata": {},
     "output_type": "execute_result"
    }
   ],
   "source": [
    "test_data['Issue'].value_counts()"
   ]
  },
  {
   "cell_type": "code",
   "execution_count": 22,
   "id": "8e4f9df4",
   "metadata": {
    "ExecuteTime": {
     "end_time": "2021-12-31T09:07:13.838527Z",
     "start_time": "2021-12-31T09:07:13.435728Z"
    }
   },
   "outputs": [],
   "source": [
    "train_data.to_csv('train_dataset.csv')"
   ]
  },
  {
   "cell_type": "code",
   "execution_count": 23,
   "id": "64db438a",
   "metadata": {
    "ExecuteTime": {
     "end_time": "2021-12-31T09:07:28.231733Z",
     "start_time": "2021-12-31T09:07:28.160744Z"
    }
   },
   "outputs": [],
   "source": [
    "test_data.to_csv('test_dataset.csv')"
   ]
  },
  {
   "cell_type": "code",
   "execution_count": null,
   "id": "828cf569",
   "metadata": {},
   "outputs": [],
   "source": []
  }
 ],
 "metadata": {
  "kernelspec": {
   "display_name": "Python 3 (ipykernel)",
   "language": "python",
   "name": "python3"
  },
  "language_info": {
   "codemirror_mode": {
    "name": "ipython",
    "version": 3
   },
   "file_extension": ".py",
   "mimetype": "text/x-python",
   "name": "python",
   "nbconvert_exporter": "python",
   "pygments_lexer": "ipython3",
   "version": "3.8.12"
  }
 },
 "nbformat": 4,
 "nbformat_minor": 5
}
